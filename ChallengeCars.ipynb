{
 "cells": [
  {
   "cell_type": "markdown",
   "source": "Challenge Exploratory Data\n\nBuscamos la demanda de autos por color,\nEs decir que color suelen ser mas demandados en la industria automotriz, para ello compararemos el kilometraje de cada auto en relacion a color y luego compararemos el precio con el color, para saber si el color de verdad es un factor que pueda afectar directamente a la demanda.",
   "metadata": {
    "tags": [],
    "cell_id": "00001-d40e4363-33b3-4d9d-8050-b11db72cefd4",
    "deepnote_cell_type": "markdown"
   }
  },
  {
   "cell_type": "markdown",
   "source": "Empezamos importando las librerias necesarias para este analisis,\nen esta ocacion tomaremos el siguiente Dataset : https://www.kaggle.com/lepchenkov/usedcarscatalog\n",
   "metadata": {
    "tags": [],
    "cell_id": "00001-859be416-ef76-469e-bde0-701be4064b11",
    "deepnote_cell_type": "markdown"
   }
  },
  {
   "cell_type": "code",
   "metadata": {
    "tags": [],
    "cell_id": "00001-f359d235-547e-401b-8581-ebc7111847e2",
    "deepnote_to_be_reexecuted": false,
    "source_hash": "8cb33176",
    "execution_start": 1635894740278,
    "execution_millis": 6527,
    "deepnote_cell_type": "code"
   },
   "source": "import pandas as pd\nimport numpy as np\nimport seaborn as sns\nimport matplotlib.pyplot as plt\n\ndf = pd.read_csv('cars.csv')\ndf",
   "execution_count": 1,
   "outputs": [
    {
     "output_type": "execute_result",
     "execution_count": 1,
     "data": {
      "application/vnd.deepnote.dataframe.v2+json": {
       "row_count": 38531,
       "column_count": 30,
       "columns": [
        {
         "name": "manufacturer_name",
         "dtype": "object",
         "stats": {
          "unique_count": 55,
          "nan_count": 0,
          "categories": [
           {
            "name": "Volkswagen",
            "count": 4243
           },
           {
            "name": "Opel",
            "count": 2759
           },
           {
            "name": "53 others",
            "count": 31529
           }
          ]
         }
        },
        {
         "name": "model_name",
         "dtype": "object",
         "stats": {
          "unique_count": 1118,
          "nan_count": 0,
          "categories": [
           {
            "name": "Passat",
            "count": 1423
           },
           {
            "name": "Astra",
            "count": 751
           },
           {
            "name": "1116 others",
            "count": 36357
           }
          ]
         }
        },
        {
         "name": "transmission",
         "dtype": "object"
        },
        {
         "name": "color",
         "dtype": "object"
        },
        {
         "name": "odometer_value",
         "dtype": "int64"
        },
        {
         "name": "year_produced",
         "dtype": "int64"
        },
        {
         "name": "engine_fuel",
         "dtype": "object"
        },
        {
         "name": "engine_has_gas",
         "dtype": "bool"
        },
        {
         "name": "engine_type",
         "dtype": "object"
        },
        {
         "name": "engine_capacity",
         "dtype": "float64"
        },
        {
         "name": "body_type",
         "dtype": "object"
        },
        {
         "name": "has_warranty",
         "dtype": "bool"
        },
        {
         "name": "state",
         "dtype": "object"
        },
        {
         "name": "drivetrain",
         "dtype": "object"
        },
        {
         "name": "price_usd",
         "dtype": "float64"
        },
        {
         "name": "is_exchangeable",
         "dtype": "bool"
        },
        {
         "name": "location_region",
         "dtype": "object"
        },
        {
         "name": "number_of_photos",
         "dtype": "int64"
        },
        {
         "name": "up_counter",
         "dtype": "int64"
        },
        {
         "name": "feature_0",
         "dtype": "bool"
        },
        {
         "name": "feature_1",
         "dtype": "bool"
        },
        {
         "name": "feature_2",
         "dtype": "bool"
        },
        {
         "name": "feature_3",
         "dtype": "bool"
        },
        {
         "name": "feature_4",
         "dtype": "bool"
        },
        {
         "name": "feature_5",
         "dtype": "bool"
        },
        {
         "name": "feature_6",
         "dtype": "bool"
        },
        {
         "name": "feature_7",
         "dtype": "bool"
        },
        {
         "name": "feature_8",
         "dtype": "bool"
        },
        {
         "name": "feature_9",
         "dtype": "bool"
        },
        {
         "name": "duration_listed",
         "dtype": "int64"
        },
        {
         "name": "_deepnote_index_column",
         "dtype": "int64"
        }
       ],
       "rows_top": [
        {
         "manufacturer_name": "Subaru",
         "model_name": "Outback",
         "transmission": "automatic",
         "color": "silver",
         "odometer_value": 190000,
         "year_produced": 2010,
         "engine_fuel": "gasoline",
         "engine_has_gas": "False",
         "engine_type": "gasoline",
         "engine_capacity": 2.5,
         "body_type": "universal",
         "has_warranty": "False",
         "state": "owned",
         "drivetrain": "all",
         "price_usd": 10900,
         "is_exchangeable": "False",
         "location_region": "Минская обл.",
         "number_of_photos": 9,
         "up_counter": 13,
         "feature_0": "False",
         "feature_1": "True",
         "feature_2": "True",
         "feature_3": "True",
         "feature_4": "False",
         "feature_5": "True",
         "feature_6": "False",
         "feature_7": "True",
         "feature_8": "True",
         "feature_9": "True",
         "duration_listed": 16,
         "_deepnote_index_column": 0
        },
        {
         "manufacturer_name": "Subaru",
         "model_name": "Outback",
         "transmission": "automatic",
         "color": "blue",
         "odometer_value": 290000,
         "year_produced": 2002,
         "engine_fuel": "gasoline",
         "engine_has_gas": "False",
         "engine_type": "gasoline",
         "engine_capacity": 3,
         "body_type": "universal",
         "has_warranty": "False",
         "state": "owned",
         "drivetrain": "all",
         "price_usd": 5000,
         "is_exchangeable": "True",
         "location_region": "Минская обл.",
         "number_of_photos": 12,
         "up_counter": 54,
         "feature_0": "False",
         "feature_1": "True",
         "feature_2": "False",
         "feature_3": "False",
         "feature_4": "True",
         "feature_5": "True",
         "feature_6": "False",
         "feature_7": "False",
         "feature_8": "False",
         "feature_9": "True",
         "duration_listed": 83,
         "_deepnote_index_column": 1
        },
        {
         "manufacturer_name": "Subaru",
         "model_name": "Forester",
         "transmission": "automatic",
         "color": "red",
         "odometer_value": 402000,
         "year_produced": 2001,
         "engine_fuel": "gasoline",
         "engine_has_gas": "False",
         "engine_type": "gasoline",
         "engine_capacity": 2.5,
         "body_type": "suv",
         "has_warranty": "False",
         "state": "owned",
         "drivetrain": "all",
         "price_usd": 2800,
         "is_exchangeable": "True",
         "location_region": "Минская обл.",
         "number_of_photos": 4,
         "up_counter": 72,
         "feature_0": "False",
         "feature_1": "True",
         "feature_2": "False",
         "feature_3": "False",
         "feature_4": "False",
         "feature_5": "False",
         "feature_6": "False",
         "feature_7": "False",
         "feature_8": "True",
         "feature_9": "True",
         "duration_listed": 151,
         "_deepnote_index_column": 2
        },
        {
         "manufacturer_name": "Subaru",
         "model_name": "Impreza",
         "transmission": "mechanical",
         "color": "blue",
         "odometer_value": 10000,
         "year_produced": 1999,
         "engine_fuel": "gasoline",
         "engine_has_gas": "False",
         "engine_type": "gasoline",
         "engine_capacity": 3,
         "body_type": "sedan",
         "has_warranty": "False",
         "state": "owned",
         "drivetrain": "all",
         "price_usd": 9999,
         "is_exchangeable": "True",
         "location_region": "Минская обл.",
         "number_of_photos": 9,
         "up_counter": 42,
         "feature_0": "True",
         "feature_1": "False",
         "feature_2": "False",
         "feature_3": "False",
         "feature_4": "False",
         "feature_5": "False",
         "feature_6": "False",
         "feature_7": "False",
         "feature_8": "False",
         "feature_9": "False",
         "duration_listed": 86,
         "_deepnote_index_column": 3
        },
        {
         "manufacturer_name": "Subaru",
         "model_name": "Legacy",
         "transmission": "automatic",
         "color": "black",
         "odometer_value": 280000,
         "year_produced": 2001,
         "engine_fuel": "gasoline",
         "engine_has_gas": "False",
         "engine_type": "gasoline",
         "engine_capacity": 2.5,
         "body_type": "universal",
         "has_warranty": "False",
         "state": "owned",
         "drivetrain": "all",
         "price_usd": 2134.11,
         "is_exchangeable": "True",
         "location_region": "Гомельская обл.",
         "number_of_photos": 14,
         "up_counter": 7,
         "feature_0": "False",
         "feature_1": "True",
         "feature_2": "False",
         "feature_3": "True",
         "feature_4": "True",
         "feature_5": "False",
         "feature_6": "False",
         "feature_7": "False",
         "feature_8": "False",
         "feature_9": "True",
         "duration_listed": 7,
         "_deepnote_index_column": 4
        },
        {
         "manufacturer_name": "Subaru",
         "model_name": "Outback",
         "transmission": "automatic",
         "color": "silver",
         "odometer_value": 132449,
         "year_produced": 2011,
         "engine_fuel": "gasoline",
         "engine_has_gas": "False",
         "engine_type": "gasoline",
         "engine_capacity": 2.5,
         "body_type": "universal",
         "has_warranty": "False",
         "state": "owned",
         "drivetrain": "all",
         "price_usd": 14700,
         "is_exchangeable": "True",
         "location_region": "Минская обл.",
         "number_of_photos": 20,
         "up_counter": 56,
         "feature_0": "False",
         "feature_1": "True",
         "feature_2": "False",
         "feature_3": "False",
         "feature_4": "False",
         "feature_5": "True",
         "feature_6": "False",
         "feature_7": "True",
         "feature_8": "True",
         "feature_9": "True",
         "duration_listed": 67,
         "_deepnote_index_column": 5
        },
        {
         "manufacturer_name": "Subaru",
         "model_name": "Forester",
         "transmission": "automatic",
         "color": "black",
         "odometer_value": 318280,
         "year_produced": 1998,
         "engine_fuel": "gasoline",
         "engine_has_gas": "False",
         "engine_type": "gasoline",
         "engine_capacity": 2.5,
         "body_type": "universal",
         "has_warranty": "False",
         "state": "owned",
         "drivetrain": "all",
         "price_usd": 3000,
         "is_exchangeable": "True",
         "location_region": "Минская обл.",
         "number_of_photos": 8,
         "up_counter": 147,
         "feature_0": "False",
         "feature_1": "True",
         "feature_2": "False",
         "feature_3": "False",
         "feature_4": "True",
         "feature_5": "True",
         "feature_6": "False",
         "feature_7": "False",
         "feature_8": "True",
         "feature_9": "True",
         "duration_listed": 307,
         "_deepnote_index_column": 6
        },
        {
         "manufacturer_name": "Subaru",
         "model_name": "Legacy",
         "transmission": "automatic",
         "color": "silver",
         "odometer_value": 350000,
         "year_produced": 2004,
         "engine_fuel": "gasoline",
         "engine_has_gas": "False",
         "engine_type": "gasoline",
         "engine_capacity": 2.5,
         "body_type": "sedan",
         "has_warranty": "False",
         "state": "owned",
         "drivetrain": "all",
         "price_usd": 4500,
         "is_exchangeable": "False",
         "location_region": "Брестская обл.",
         "number_of_photos": 7,
         "up_counter": 29,
         "feature_0": "False",
         "feature_1": "True",
         "feature_2": "True",
         "feature_3": "False",
         "feature_4": "False",
         "feature_5": "False",
         "feature_6": "False",
         "feature_7": "False",
         "feature_8": "False",
         "feature_9": "True",
         "duration_listed": 73,
         "_deepnote_index_column": 7
        },
        {
         "manufacturer_name": "Subaru",
         "model_name": "Outback",
         "transmission": "automatic",
         "color": "grey",
         "odometer_value": 179000,
         "year_produced": 2010,
         "engine_fuel": "gasoline",
         "engine_has_gas": "False",
         "engine_type": "gasoline",
         "engine_capacity": 2.5,
         "body_type": "universal",
         "has_warranty": "False",
         "state": "owned",
         "drivetrain": "all",
         "price_usd": 12900,
         "is_exchangeable": "False",
         "location_region": "Минская обл.",
         "number_of_photos": 17,
         "up_counter": 33,
         "feature_0": "False",
         "feature_1": "True",
         "feature_2": "True",
         "feature_3": "True",
         "feature_4": "True",
         "feature_5": "True",
         "feature_6": "True",
         "feature_7": "True",
         "feature_8": "True",
         "feature_9": "True",
         "duration_listed": 87,
         "_deepnote_index_column": 8
        },
        {
         "manufacturer_name": "Subaru",
         "model_name": "Forester",
         "transmission": "automatic",
         "color": "silver",
         "odometer_value": 571317,
         "year_produced": 1999,
         "engine_fuel": "gasoline",
         "engine_has_gas": "False",
         "engine_type": "gasoline",
         "engine_capacity": 2.5,
         "body_type": "universal",
         "has_warranty": "False",
         "state": "owned",
         "drivetrain": "all",
         "price_usd": 4200,
         "is_exchangeable": "True",
         "location_region": "Минская обл.",
         "number_of_photos": 8,
         "up_counter": 11,
         "feature_0": "False",
         "feature_1": "True",
         "feature_2": "True",
         "feature_3": "False",
         "feature_4": "False",
         "feature_5": "True",
         "feature_6": "False",
         "feature_7": "False",
         "feature_8": "False",
         "feature_9": "True",
         "duration_listed": 43,
         "_deepnote_index_column": 9
        },
        {
         "manufacturer_name": "Subaru",
         "model_name": "Forester",
         "transmission": "mechanical",
         "color": "other",
         "odometer_value": 280000,
         "year_produced": 2003,
         "engine_fuel": "gasoline",
         "engine_has_gas": "False",
         "engine_type": "gasoline",
         "engine_capacity": 2,
         "body_type": "suv",
         "has_warranty": "False",
         "state": "owned",
         "drivetrain": "all",
         "price_usd": 6900,
         "is_exchangeable": "True",
         "location_region": "Минская обл.",
         "number_of_photos": 14,
         "up_counter": 6,
         "feature_0": "False",
         "feature_1": "True",
         "feature_2": "False",
         "feature_3": "True",
         "feature_4": "False",
         "feature_5": "True",
         "feature_6": "False",
         "feature_7": "True",
         "feature_8": "True",
         "feature_9": "True",
         "duration_listed": 11,
         "_deepnote_index_column": 10
        },
        {
         "manufacturer_name": "Subaru",
         "model_name": "Tribeca",
         "transmission": "automatic",
         "color": "grey",
         "odometer_value": 256000,
         "year_produced": 2008,
         "engine_fuel": "gasoline",
         "engine_has_gas": "False",
         "engine_type": "gasoline",
         "engine_capacity": 3.6,
         "body_type": "suv",
         "has_warranty": "False",
         "state": "owned",
         "drivetrain": "all",
         "price_usd": 8350,
         "is_exchangeable": "True",
         "location_region": "Минская обл.",
         "number_of_photos": 18,
         "up_counter": 61,
         "feature_0": "False",
         "feature_1": "True",
         "feature_2": "True",
         "feature_3": "True",
         "feature_4": "True",
         "feature_5": "True",
         "feature_6": "False",
         "feature_7": "False",
         "feature_8": "True",
         "feature_9": "True",
         "duration_listed": 80,
         "_deepnote_index_column": 11
        },
        {
         "manufacturer_name": "Subaru",
         "model_name": "Forester",
         "transmission": "mechanical",
         "color": "other",
         "odometer_value": 321000,
         "year_produced": 2002,
         "engine_fuel": "gasoline",
         "engine_has_gas": "False",
         "engine_type": "gasoline",
         "engine_capacity": 2,
         "body_type": "suv",
         "has_warranty": "False",
         "state": "owned",
         "drivetrain": "all",
         "price_usd": 4300,
         "is_exchangeable": "False",
         "location_region": "Минская обл.",
         "number_of_photos": 13,
         "up_counter": 2,
         "feature_0": "False",
         "feature_1": "True",
         "feature_2": "False",
         "feature_3": "False",
         "feature_4": "False",
         "feature_5": "False",
         "feature_6": "False",
         "feature_7": "False",
         "feature_8": "False",
         "feature_9": "False",
         "duration_listed": 2,
         "_deepnote_index_column": 12
        },
        {
         "manufacturer_name": "Subaru",
         "model_name": "Justy",
         "transmission": "mechanical",
         "color": "red",
         "odometer_value": 49999,
         "year_produced": 2001,
         "engine_fuel": "gasoline",
         "engine_has_gas": "False",
         "engine_type": "gasoline",
         "engine_capacity": 1.3,
         "body_type": "hatchback",
         "has_warranty": "False",
         "state": "owned",
         "drivetrain": "all",
         "price_usd": 1666,
         "is_exchangeable": "False",
         "location_region": "Гомельская обл.",
         "number_of_photos": 8,
         "up_counter": 94,
         "feature_0": "True",
         "feature_1": "False",
         "feature_2": "False",
         "feature_3": "False",
         "feature_4": "False",
         "feature_5": "False",
         "feature_6": "False",
         "feature_7": "False",
         "feature_8": "False",
         "feature_9": "False",
         "duration_listed": 230,
         "_deepnote_index_column": 13
        },
        {
         "manufacturer_name": "Subaru",
         "model_name": "Outback",
         "transmission": "automatic",
         "color": "brown",
         "odometer_value": 154685,
         "year_produced": 2011,
         "engine_fuel": "gasoline",
         "engine_has_gas": "False",
         "engine_type": "gasoline",
         "engine_capacity": 2.5,
         "body_type": "universal",
         "has_warranty": "False",
         "state": "owned",
         "drivetrain": "all",
         "price_usd": 8600,
         "is_exchangeable": "True",
         "location_region": "Минская обл.",
         "number_of_photos": 24,
         "up_counter": 34,
         "feature_0": "False",
         "feature_1": "True",
         "feature_2": "False",
         "feature_3": "True",
         "feature_4": "False",
         "feature_5": "False",
         "feature_6": "False",
         "feature_7": "False",
         "feature_8": "True",
         "feature_9": "True",
         "duration_listed": 63,
         "_deepnote_index_column": 14
        },
        {
         "manufacturer_name": "Subaru",
         "model_name": "Outback",
         "transmission": "automatic",
         "color": "black",
         "odometer_value": 163219,
         "year_produced": 2004,
         "engine_fuel": "gasoline",
         "engine_has_gas": "False",
         "engine_type": "gasoline",
         "engine_capacity": 2,
         "body_type": "universal",
         "has_warranty": "False",
         "state": "owned",
         "drivetrain": "all",
         "price_usd": 7300,
         "is_exchangeable": "True",
         "location_region": "Минская обл.",
         "number_of_photos": 17,
         "up_counter": 22,
         "feature_0": "False",
         "feature_1": "True",
         "feature_2": "True",
         "feature_3": "False",
         "feature_4": "True",
         "feature_5": "True",
         "feature_6": "False",
         "feature_7": "False",
         "feature_8": "False",
         "feature_9": "True",
         "duration_listed": 35,
         "_deepnote_index_column": 15
        }
       ],
       "rows_bottom": [
        {
         "manufacturer_name": "Chrysler",
         "model_name": "Voyager",
         "transmission": "automatic",
         "color": "red",
         "odometer_value": 300000,
         "year_produced": 2002,
         "engine_fuel": "gas",
         "engine_has_gas": "True",
         "engine_type": "gasoline",
         "engine_capacity": 2.4,
         "body_type": "minivan",
         "has_warranty": "False",
         "state": "owned",
         "drivetrain": "front",
         "price_usd": 3700,
         "is_exchangeable": "False",
         "location_region": "Минская обл.",
         "number_of_photos": 12,
         "up_counter": 4,
         "feature_0": "False",
         "feature_1": "True",
         "feature_2": "False",
         "feature_3": "False",
         "feature_4": "False",
         "feature_5": "False",
         "feature_6": "False",
         "feature_7": "False",
         "feature_8": "False",
         "feature_9": "False",
         "duration_listed": 161,
         "_deepnote_index_column": 38514
        },
        {
         "manufacturer_name": "Chrysler",
         "model_name": "Grand Voyager",
         "transmission": "automatic",
         "color": "green",
         "odometer_value": 210000,
         "year_produced": 1999,
         "engine_fuel": "gas",
         "engine_has_gas": "True",
         "engine_type": "gasoline",
         "engine_capacity": 3.3,
         "body_type": "minivan",
         "has_warranty": "False",
         "state": "owned",
         "drivetrain": "front",
         "price_usd": 4200,
         "is_exchangeable": "True",
         "location_region": "Гомельская обл.",
         "number_of_photos": 23,
         "up_counter": 2,
         "feature_0": "False",
         "feature_1": "True",
         "feature_2": "False",
         "feature_3": "False",
         "feature_4": "False",
         "feature_5": "False",
         "feature_6": "False",
         "feature_7": "False",
         "feature_8": "False",
         "feature_9": "True",
         "duration_listed": 163,
         "_deepnote_index_column": 38515
        },
        {
         "manufacturer_name": "Chrysler",
         "model_name": "Grand Voyager",
         "transmission": "automatic",
         "color": "grey",
         "odometer_value": 179000,
         "year_produced": 1998,
         "engine_fuel": "gasoline",
         "engine_has_gas": "False",
         "engine_type": "gasoline",
         "engine_capacity": 3.3,
         "body_type": "minivan",
         "has_warranty": "False",
         "state": "owned",
         "drivetrain": "front",
         "price_usd": 3450,
         "is_exchangeable": "False",
         "location_region": "Минская обл.",
         "number_of_photos": 6,
         "up_counter": 6,
         "feature_0": "False",
         "feature_1": "True",
         "feature_2": "False",
         "feature_3": "False",
         "feature_4": "False",
         "feature_5": "False",
         "feature_6": "False",
         "feature_7": "False",
         "feature_8": "False",
         "feature_9": "True",
         "duration_listed": 167,
         "_deepnote_index_column": 38516
        },
        {
         "manufacturer_name": "Chrysler",
         "model_name": "Voyager",
         "transmission": "mechanical",
         "color": "silver",
         "odometer_value": 240000,
         "year_produced": 2005,
         "engine_fuel": "diesel",
         "engine_has_gas": "False",
         "engine_type": "diesel",
         "engine_capacity": 2.5,
         "body_type": "minivan",
         "has_warranty": "False",
         "state": "owned",
         "drivetrain": "front",
         "price_usd": 6500,
         "is_exchangeable": "False",
         "location_region": "Минская обл.",
         "number_of_photos": 8,
         "up_counter": 2,
         "feature_0": "False",
         "feature_1": "True",
         "feature_2": "False",
         "feature_3": "False",
         "feature_4": "False",
         "feature_5": "True",
         "feature_6": "False",
         "feature_7": "True",
         "feature_8": "True",
         "feature_9": "True",
         "duration_listed": 177,
         "_deepnote_index_column": 38517
        },
        {
         "manufacturer_name": "Chrysler",
         "model_name": "PT Cruiser",
         "transmission": "automatic",
         "color": "blue",
         "odometer_value": 177000,
         "year_produced": 2003,
         "engine_fuel": "gasoline",
         "engine_has_gas": "False",
         "engine_type": "gasoline",
         "engine_capacity": 2.4,
         "body_type": "sedan",
         "has_warranty": "False",
         "state": "owned",
         "drivetrain": "front",
         "price_usd": 2800,
         "is_exchangeable": "False",
         "location_region": "Витебская обл.",
         "number_of_photos": 7,
         "up_counter": 2,
         "feature_0": "False",
         "feature_1": "True",
         "feature_2": "False",
         "feature_3": "False",
         "feature_4": "False",
         "feature_5": "False",
         "feature_6": "False",
         "feature_7": "False",
         "feature_8": "False",
         "feature_9": "False",
         "duration_listed": 181,
         "_deepnote_index_column": 38518
        },
        {
         "manufacturer_name": "Chrysler",
         "model_name": "Voyager",
         "transmission": "automatic",
         "color": "brown",
         "odometer_value": 200000,
         "year_produced": 1997,
         "engine_fuel": "gasoline",
         "engine_has_gas": "False",
         "engine_type": "gasoline",
         "engine_capacity": 2.4,
         "body_type": "minivan",
         "has_warranty": "False",
         "state": "owned",
         "drivetrain": "front",
         "price_usd": 2700,
         "is_exchangeable": "True",
         "location_region": "Минская обл.",
         "number_of_photos": 5,
         "up_counter": 12,
         "feature_0": "False",
         "feature_1": "True",
         "feature_2": "False",
         "feature_3": "False",
         "feature_4": "False",
         "feature_5": "False",
         "feature_6": "False",
         "feature_7": "False",
         "feature_8": "False",
         "feature_9": "False",
         "duration_listed": 186,
         "_deepnote_index_column": 38519
        },
        {
         "manufacturer_name": "Chrysler",
         "model_name": "Voyager",
         "transmission": "mechanical",
         "color": "silver",
         "odometer_value": 400000,
         "year_produced": 1999,
         "engine_fuel": "diesel",
         "engine_has_gas": "False",
         "engine_type": "diesel",
         "engine_capacity": 2.5,
         "body_type": "minivan",
         "has_warranty": "False",
         "state": "owned",
         "drivetrain": "front",
         "price_usd": 1600,
         "is_exchangeable": "True",
         "location_region": "Минская обл.",
         "number_of_photos": 1,
         "up_counter": 38,
         "feature_0": "False",
         "feature_1": "True",
         "feature_2": "False",
         "feature_3": "False",
         "feature_4": "False",
         "feature_5": "False",
         "feature_6": "False",
         "feature_7": "False",
         "feature_8": "False",
         "feature_9": "False",
         "duration_listed": 202,
         "_deepnote_index_column": 38520
        },
        {
         "manufacturer_name": "Chrysler",
         "model_name": "Neon",
         "transmission": "mechanical",
         "color": "green",
         "odometer_value": 260000,
         "year_produced": 1995,
         "engine_fuel": "gasoline",
         "engine_has_gas": "False",
         "engine_type": "gasoline",
         "engine_capacity": 2,
         "body_type": "sedan",
         "has_warranty": "False",
         "state": "owned",
         "drivetrain": "front",
         "price_usd": 550,
         "is_exchangeable": "True",
         "location_region": "Гродненская обл.",
         "number_of_photos": 7,
         "up_counter": 12,
         "feature_0": "False",
         "feature_1": "True",
         "feature_2": "False",
         "feature_3": "False",
         "feature_4": "False",
         "feature_5": "False",
         "feature_6": "False",
         "feature_7": "False",
         "feature_8": "False",
         "feature_9": "True",
         "duration_listed": 215,
         "_deepnote_index_column": 38521
        },
        {
         "manufacturer_name": "Chrysler",
         "model_name": "PT Cruiser",
         "transmission": "automatic",
         "color": "other",
         "odometer_value": 207605,
         "year_produced": 2004,
         "engine_fuel": "gasoline",
         "engine_has_gas": "False",
         "engine_type": "gasoline",
         "engine_capacity": 2.4,
         "body_type": "hatchback",
         "has_warranty": "False",
         "state": "owned",
         "drivetrain": "front",
         "price_usd": 4000,
         "is_exchangeable": "False",
         "location_region": "Витебская обл.",
         "number_of_photos": 8,
         "up_counter": 44,
         "feature_0": "False",
         "feature_1": "True",
         "feature_2": "False",
         "feature_3": "False",
         "feature_4": "False",
         "feature_5": "False",
         "feature_6": "False",
         "feature_7": "False",
         "feature_8": "False",
         "feature_9": "False",
         "duration_listed": 221,
         "_deepnote_index_column": 38522
        },
        {
         "manufacturer_name": "Chrysler",
         "model_name": "Grand Voyager",
         "transmission": "mechanical",
         "color": "black",
         "odometer_value": 278000,
         "year_produced": 1999,
         "engine_fuel": "diesel",
         "engine_has_gas": "False",
         "engine_type": "diesel",
         "engine_capacity": 2.5,
         "body_type": "minivan",
         "has_warranty": "False",
         "state": "owned",
         "drivetrain": "front",
         "price_usd": 4220.81,
         "is_exchangeable": "False",
         "location_region": "Брестская обл.",
         "number_of_photos": 5,
         "up_counter": 20,
         "feature_0": "False",
         "feature_1": "True",
         "feature_2": "True",
         "feature_3": "False",
         "feature_4": "True",
         "feature_5": "False",
         "feature_6": "False",
         "feature_7": "False",
         "feature_8": "False",
         "feature_9": "True",
         "duration_listed": 239,
         "_deepnote_index_column": 38523
        },
        {
         "manufacturer_name": "Chrysler",
         "model_name": "300",
         "transmission": "automatic",
         "color": "silver",
         "odometer_value": 240000,
         "year_produced": 2001,
         "engine_fuel": "gasoline",
         "engine_has_gas": "False",
         "engine_type": "gasoline",
         "engine_capacity": 3.5,
         "body_type": "sedan",
         "has_warranty": "False",
         "state": "owned",
         "drivetrain": "front",
         "price_usd": 3000,
         "is_exchangeable": "True",
         "location_region": "Минская обл.",
         "number_of_photos": 6,
         "up_counter": 11,
         "feature_0": "False",
         "feature_1": "True",
         "feature_2": "False",
         "feature_3": "False",
         "feature_4": "True",
         "feature_5": "True",
         "feature_6": "False",
         "feature_7": "False",
         "feature_8": "True",
         "feature_9": "True",
         "duration_listed": 264,
         "_deepnote_index_column": 38524
        },
        {
         "manufacturer_name": "Chrysler",
         "model_name": "Voyager",
         "transmission": "mechanical",
         "color": "violet",
         "odometer_value": 317000,
         "year_produced": 1999,
         "engine_fuel": "gas",
         "engine_has_gas": "True",
         "engine_type": "gasoline",
         "engine_capacity": 2,
         "body_type": "minivan",
         "has_warranty": "False",
         "state": "owned",
         "drivetrain": "front",
         "price_usd": 3300,
         "is_exchangeable": "True",
         "location_region": "Брестская обл.",
         "number_of_photos": 8,
         "up_counter": 28,
         "feature_0": "False",
         "feature_1": "False",
         "feature_2": "False",
         "feature_3": "True",
         "feature_4": "False",
         "feature_5": "False",
         "feature_6": "False",
         "feature_7": "False",
         "feature_8": "False",
         "feature_9": "True",
         "duration_listed": 269,
         "_deepnote_index_column": 38525
        },
        {
         "manufacturer_name": "Chrysler",
         "model_name": "300",
         "transmission": "automatic",
         "color": "silver",
         "odometer_value": 290000,
         "year_produced": 2000,
         "engine_fuel": "gasoline",
         "engine_has_gas": "False",
         "engine_type": "gasoline",
         "engine_capacity": 3.5,
         "body_type": "sedan",
         "has_warranty": "False",
         "state": "owned",
         "drivetrain": "front",
         "price_usd": 2750,
         "is_exchangeable": "True",
         "location_region": "Минская обл.",
         "number_of_photos": 5,
         "up_counter": 85,
         "feature_0": "False",
         "feature_1": "True",
         "feature_2": "False",
         "feature_3": "False",
         "feature_4": "True",
         "feature_5": "True",
         "feature_6": "False",
         "feature_7": "False",
         "feature_8": "True",
         "feature_9": "True",
         "duration_listed": 301,
         "_deepnote_index_column": 38526
        },
        {
         "manufacturer_name": "Chrysler",
         "model_name": "PT Cruiser",
         "transmission": "mechanical",
         "color": "blue",
         "odometer_value": 321000,
         "year_produced": 2004,
         "engine_fuel": "diesel",
         "engine_has_gas": "False",
         "engine_type": "diesel",
         "engine_capacity": 2.2,
         "body_type": "hatchback",
         "has_warranty": "False",
         "state": "owned",
         "drivetrain": "front",
         "price_usd": 4800,
         "is_exchangeable": "True",
         "location_region": "Брестская обл.",
         "number_of_photos": 4,
         "up_counter": 20,
         "feature_0": "False",
         "feature_1": "True",
         "feature_2": "False",
         "feature_3": "False",
         "feature_4": "True",
         "feature_5": "True",
         "feature_6": "False",
         "feature_7": "False",
         "feature_8": "True",
         "feature_9": "True",
         "duration_listed": 317,
         "_deepnote_index_column": 38527
        },
        {
         "manufacturer_name": "Chrysler",
         "model_name": "300",
         "transmission": "automatic",
         "color": "blue",
         "odometer_value": 777957,
         "year_produced": 2000,
         "engine_fuel": "gasoline",
         "engine_has_gas": "False",
         "engine_type": "gasoline",
         "engine_capacity": 3.5,
         "body_type": "sedan",
         "has_warranty": "False",
         "state": "owned",
         "drivetrain": "front",
         "price_usd": 4300,
         "is_exchangeable": "False",
         "location_region": "Минская обл.",
         "number_of_photos": 3,
         "up_counter": 63,
         "feature_0": "False",
         "feature_1": "True",
         "feature_2": "False",
         "feature_3": "False",
         "feature_4": "True",
         "feature_5": "True",
         "feature_6": "False",
         "feature_7": "False",
         "feature_8": "True",
         "feature_9": "True",
         "duration_listed": 369,
         "_deepnote_index_column": 38528
        },
        {
         "manufacturer_name": "Chrysler",
         "model_name": "PT Cruiser",
         "transmission": "mechanical",
         "color": "black",
         "odometer_value": 20000,
         "year_produced": 2001,
         "engine_fuel": "gasoline",
         "engine_has_gas": "False",
         "engine_type": "gasoline",
         "engine_capacity": 2,
         "body_type": "minivan",
         "has_warranty": "False",
         "state": "owned",
         "drivetrain": "front",
         "price_usd": 4000,
         "is_exchangeable": "True",
         "location_region": "Брестская обл.",
         "number_of_photos": 7,
         "up_counter": 156,
         "feature_0": "False",
         "feature_1": "True",
         "feature_2": "False",
         "feature_3": "False",
         "feature_4": "False",
         "feature_5": "False",
         "feature_6": "False",
         "feature_7": "False",
         "feature_8": "False",
         "feature_9": "True",
         "duration_listed": 490,
         "_deepnote_index_column": 38529
        },
        {
         "manufacturer_name": "Chrysler",
         "model_name": "Voyager",
         "transmission": "automatic",
         "color": "silver",
         "odometer_value": 297729,
         "year_produced": 2000,
         "engine_fuel": "gasoline",
         "engine_has_gas": "False",
         "engine_type": "gasoline",
         "engine_capacity": 2.4,
         "body_type": "minivan",
         "has_warranty": "False",
         "state": "owned",
         "drivetrain": "front",
         "price_usd": 3200,
         "is_exchangeable": "True",
         "location_region": "Минская обл.",
         "number_of_photos": 4,
         "up_counter": 73,
         "feature_0": "False",
         "feature_1": "False",
         "feature_2": "False",
         "feature_3": "False",
         "feature_4": "False",
         "feature_5": "False",
         "feature_6": "False",
         "feature_7": "False",
         "feature_8": "False",
         "feature_9": "True",
         "duration_listed": 632,
         "_deepnote_index_column": 38530
        }
       ]
      },
      "text/plain": "      manufacturer_name  model_name transmission   color  odometer_value  \\\n0                Subaru     Outback    automatic  silver          190000   \n1                Subaru     Outback    automatic    blue          290000   \n2                Subaru    Forester    automatic     red          402000   \n3                Subaru     Impreza   mechanical    blue           10000   \n4                Subaru      Legacy    automatic   black          280000   \n...                 ...         ...          ...     ...             ...   \n38526          Chrysler         300    automatic  silver          290000   \n38527          Chrysler  PT Cruiser   mechanical    blue          321000   \n38528          Chrysler         300    automatic    blue          777957   \n38529          Chrysler  PT Cruiser   mechanical   black           20000   \n38530          Chrysler     Voyager    automatic  silver          297729   \n\n       year_produced engine_fuel  engine_has_gas engine_type  engine_capacity  \\\n0               2010    gasoline           False    gasoline              2.5   \n1               2002    gasoline           False    gasoline              3.0   \n2               2001    gasoline           False    gasoline              2.5   \n3               1999    gasoline           False    gasoline              3.0   \n4               2001    gasoline           False    gasoline              2.5   \n...              ...         ...             ...         ...              ...   \n38526           2000    gasoline           False    gasoline              3.5   \n38527           2004      diesel           False      diesel              2.2   \n38528           2000    gasoline           False    gasoline              3.5   \n38529           2001    gasoline           False    gasoline              2.0   \n38530           2000    gasoline           False    gasoline              2.4   \n\n       ... feature_1  feature_2 feature_3 feature_4  feature_5  feature_6  \\\n0      ...      True       True      True     False       True      False   \n1      ...      True      False     False      True       True      False   \n2      ...      True      False     False     False      False      False   \n3      ...     False      False     False     False      False      False   \n4      ...      True      False      True      True      False      False   \n...    ...       ...        ...       ...       ...        ...        ...   \n38526  ...      True      False     False      True       True      False   \n38527  ...      True      False     False      True       True      False   \n38528  ...      True      False     False      True       True      False   \n38529  ...      True      False     False     False      False      False   \n38530  ...     False      False     False     False      False      False   \n\n      feature_7  feature_8  feature_9  duration_listed  \n0          True       True       True               16  \n1         False      False       True               83  \n2         False       True       True              151  \n3         False      False      False               86  \n4         False      False       True                7  \n...         ...        ...        ...              ...  \n38526     False       True       True              301  \n38527     False       True       True              317  \n38528     False       True       True              369  \n38529     False      False       True              490  \n38530     False      False       True              632  \n\n[38531 rows x 30 columns]",
      "text/html": "<div>\n<style scoped>\n    .dataframe tbody tr th:only-of-type {\n        vertical-align: middle;\n    }\n\n    .dataframe tbody tr th {\n        vertical-align: top;\n    }\n\n    .dataframe thead th {\n        text-align: right;\n    }\n</style>\n<table border=\"1\" class=\"dataframe\">\n  <thead>\n    <tr style=\"text-align: right;\">\n      <th></th>\n      <th>manufacturer_name</th>\n      <th>model_name</th>\n      <th>transmission</th>\n      <th>color</th>\n      <th>odometer_value</th>\n      <th>year_produced</th>\n      <th>engine_fuel</th>\n      <th>engine_has_gas</th>\n      <th>engine_type</th>\n      <th>engine_capacity</th>\n      <th>...</th>\n      <th>feature_1</th>\n      <th>feature_2</th>\n      <th>feature_3</th>\n      <th>feature_4</th>\n      <th>feature_5</th>\n      <th>feature_6</th>\n      <th>feature_7</th>\n      <th>feature_8</th>\n      <th>feature_9</th>\n      <th>duration_listed</th>\n    </tr>\n  </thead>\n  <tbody>\n    <tr>\n      <th>0</th>\n      <td>Subaru</td>\n      <td>Outback</td>\n      <td>automatic</td>\n      <td>silver</td>\n      <td>190000</td>\n      <td>2010</td>\n      <td>gasoline</td>\n      <td>False</td>\n      <td>gasoline</td>\n      <td>2.5</td>\n      <td>...</td>\n      <td>True</td>\n      <td>True</td>\n      <td>True</td>\n      <td>False</td>\n      <td>True</td>\n      <td>False</td>\n      <td>True</td>\n      <td>True</td>\n      <td>True</td>\n      <td>16</td>\n    </tr>\n    <tr>\n      <th>1</th>\n      <td>Subaru</td>\n      <td>Outback</td>\n      <td>automatic</td>\n      <td>blue</td>\n      <td>290000</td>\n      <td>2002</td>\n      <td>gasoline</td>\n      <td>False</td>\n      <td>gasoline</td>\n      <td>3.0</td>\n      <td>...</td>\n      <td>True</td>\n      <td>False</td>\n      <td>False</td>\n      <td>True</td>\n      <td>True</td>\n      <td>False</td>\n      <td>False</td>\n      <td>False</td>\n      <td>True</td>\n      <td>83</td>\n    </tr>\n    <tr>\n      <th>2</th>\n      <td>Subaru</td>\n      <td>Forester</td>\n      <td>automatic</td>\n      <td>red</td>\n      <td>402000</td>\n      <td>2001</td>\n      <td>gasoline</td>\n      <td>False</td>\n      <td>gasoline</td>\n      <td>2.5</td>\n      <td>...</td>\n      <td>True</td>\n      <td>False</td>\n      <td>False</td>\n      <td>False</td>\n      <td>False</td>\n      <td>False</td>\n      <td>False</td>\n      <td>True</td>\n      <td>True</td>\n      <td>151</td>\n    </tr>\n    <tr>\n      <th>3</th>\n      <td>Subaru</td>\n      <td>Impreza</td>\n      <td>mechanical</td>\n      <td>blue</td>\n      <td>10000</td>\n      <td>1999</td>\n      <td>gasoline</td>\n      <td>False</td>\n      <td>gasoline</td>\n      <td>3.0</td>\n      <td>...</td>\n      <td>False</td>\n      <td>False</td>\n      <td>False</td>\n      <td>False</td>\n      <td>False</td>\n      <td>False</td>\n      <td>False</td>\n      <td>False</td>\n      <td>False</td>\n      <td>86</td>\n    </tr>\n    <tr>\n      <th>4</th>\n      <td>Subaru</td>\n      <td>Legacy</td>\n      <td>automatic</td>\n      <td>black</td>\n      <td>280000</td>\n      <td>2001</td>\n      <td>gasoline</td>\n      <td>False</td>\n      <td>gasoline</td>\n      <td>2.5</td>\n      <td>...</td>\n      <td>True</td>\n      <td>False</td>\n      <td>True</td>\n      <td>True</td>\n      <td>False</td>\n      <td>False</td>\n      <td>False</td>\n      <td>False</td>\n      <td>True</td>\n      <td>7</td>\n    </tr>\n    <tr>\n      <th>...</th>\n      <td>...</td>\n      <td>...</td>\n      <td>...</td>\n      <td>...</td>\n      <td>...</td>\n      <td>...</td>\n      <td>...</td>\n      <td>...</td>\n      <td>...</td>\n      <td>...</td>\n      <td>...</td>\n      <td>...</td>\n      <td>...</td>\n      <td>...</td>\n      <td>...</td>\n      <td>...</td>\n      <td>...</td>\n      <td>...</td>\n      <td>...</td>\n      <td>...</td>\n      <td>...</td>\n    </tr>\n    <tr>\n      <th>38526</th>\n      <td>Chrysler</td>\n      <td>300</td>\n      <td>automatic</td>\n      <td>silver</td>\n      <td>290000</td>\n      <td>2000</td>\n      <td>gasoline</td>\n      <td>False</td>\n      <td>gasoline</td>\n      <td>3.5</td>\n      <td>...</td>\n      <td>True</td>\n      <td>False</td>\n      <td>False</td>\n      <td>True</td>\n      <td>True</td>\n      <td>False</td>\n      <td>False</td>\n      <td>True</td>\n      <td>True</td>\n      <td>301</td>\n    </tr>\n    <tr>\n      <th>38527</th>\n      <td>Chrysler</td>\n      <td>PT Cruiser</td>\n      <td>mechanical</td>\n      <td>blue</td>\n      <td>321000</td>\n      <td>2004</td>\n      <td>diesel</td>\n      <td>False</td>\n      <td>diesel</td>\n      <td>2.2</td>\n      <td>...</td>\n      <td>True</td>\n      <td>False</td>\n      <td>False</td>\n      <td>True</td>\n      <td>True</td>\n      <td>False</td>\n      <td>False</td>\n      <td>True</td>\n      <td>True</td>\n      <td>317</td>\n    </tr>\n    <tr>\n      <th>38528</th>\n      <td>Chrysler</td>\n      <td>300</td>\n      <td>automatic</td>\n      <td>blue</td>\n      <td>777957</td>\n      <td>2000</td>\n      <td>gasoline</td>\n      <td>False</td>\n      <td>gasoline</td>\n      <td>3.5</td>\n      <td>...</td>\n      <td>True</td>\n      <td>False</td>\n      <td>False</td>\n      <td>True</td>\n      <td>True</td>\n      <td>False</td>\n      <td>False</td>\n      <td>True</td>\n      <td>True</td>\n      <td>369</td>\n    </tr>\n    <tr>\n      <th>38529</th>\n      <td>Chrysler</td>\n      <td>PT Cruiser</td>\n      <td>mechanical</td>\n      <td>black</td>\n      <td>20000</td>\n      <td>2001</td>\n      <td>gasoline</td>\n      <td>False</td>\n      <td>gasoline</td>\n      <td>2.0</td>\n      <td>...</td>\n      <td>True</td>\n      <td>False</td>\n      <td>False</td>\n      <td>False</td>\n      <td>False</td>\n      <td>False</td>\n      <td>False</td>\n      <td>False</td>\n      <td>True</td>\n      <td>490</td>\n    </tr>\n    <tr>\n      <th>38530</th>\n      <td>Chrysler</td>\n      <td>Voyager</td>\n      <td>automatic</td>\n      <td>silver</td>\n      <td>297729</td>\n      <td>2000</td>\n      <td>gasoline</td>\n      <td>False</td>\n      <td>gasoline</td>\n      <td>2.4</td>\n      <td>...</td>\n      <td>False</td>\n      <td>False</td>\n      <td>False</td>\n      <td>False</td>\n      <td>False</td>\n      <td>False</td>\n      <td>False</td>\n      <td>False</td>\n      <td>True</td>\n      <td>632</td>\n    </tr>\n  </tbody>\n</table>\n<p>38531 rows × 30 columns</p>\n</div>"
     },
     "metadata": {}
    }
   ]
  },
  {
   "cell_type": "markdown",
   "source": "Exploramos los datos que tenemos en el data set ",
   "metadata": {
    "tags": [],
    "cell_id": "00002-1085a170-e2b8-4936-bf9a-8af69b77ad5a",
    "deepnote_cell_type": "markdown"
   }
  },
  {
   "cell_type": "code",
   "metadata": {
    "tags": [],
    "cell_id": "00003-82da257a-1e3f-4e6f-870b-cb1366caeebb",
    "deepnote_to_be_reexecuted": false,
    "source_hash": "1911abf0",
    "execution_start": 1635894746823,
    "execution_millis": 390,
    "deepnote_cell_type": "code"
   },
   "source": "df.info()\ndf.describe()",
   "execution_count": 2,
   "outputs": [
    {
     "name": "stdout",
     "text": "<class 'pandas.core.frame.DataFrame'>\nRangeIndex: 38531 entries, 0 to 38530\nData columns (total 30 columns):\n #   Column             Non-Null Count  Dtype  \n---  ------             --------------  -----  \n 0   manufacturer_name  38531 non-null  object \n 1   model_name         38531 non-null  object \n 2   transmission       38531 non-null  object \n 3   color              38531 non-null  object \n 4   odometer_value     38531 non-null  int64  \n 5   year_produced      38531 non-null  int64  \n 6   engine_fuel        38531 non-null  object \n 7   engine_has_gas     38531 non-null  bool   \n 8   engine_type        38531 non-null  object \n 9   engine_capacity    38521 non-null  float64\n 10  body_type          38531 non-null  object \n 11  has_warranty       38531 non-null  bool   \n 12  state              38531 non-null  object \n 13  drivetrain         38531 non-null  object \n 14  price_usd          38531 non-null  float64\n 15  is_exchangeable    38531 non-null  bool   \n 16  location_region    38531 non-null  object \n 17  number_of_photos   38531 non-null  int64  \n 18  up_counter         38531 non-null  int64  \n 19  feature_0          38531 non-null  bool   \n 20  feature_1          38531 non-null  bool   \n 21  feature_2          38531 non-null  bool   \n 22  feature_3          38531 non-null  bool   \n 23  feature_4          38531 non-null  bool   \n 24  feature_5          38531 non-null  bool   \n 25  feature_6          38531 non-null  bool   \n 26  feature_7          38531 non-null  bool   \n 27  feature_8          38531 non-null  bool   \n 28  feature_9          38531 non-null  bool   \n 29  duration_listed    38531 non-null  int64  \ndtypes: bool(13), float64(2), int64(5), object(10)\nmemory usage: 5.5+ MB\n",
     "output_type": "stream"
    },
    {
     "output_type": "execute_result",
     "execution_count": 2,
     "data": {
      "application/vnd.deepnote.dataframe.v2+json": {
       "row_count": 8,
       "column_count": 7,
       "columns": [
        {
         "name": "odometer_value",
         "dtype": "float64",
         "stats": {
          "unique_count": 8,
          "nan_count": 0,
          "min": "0.0",
          "max": "1000000.0",
          "histogram": [
           {
            "bin_start": 0,
            "bin_end": 100000,
            "count": 2
           },
           {
            "bin_start": 100000,
            "bin_end": 200000,
            "count": 2
           },
           {
            "bin_start": 200000,
            "bin_end": 300000,
            "count": 2
           },
           {
            "bin_start": 300000,
            "bin_end": 400000,
            "count": 1
           },
           {
            "bin_start": 400000,
            "bin_end": 500000,
            "count": 0
           },
           {
            "bin_start": 500000,
            "bin_end": 600000,
            "count": 0
           },
           {
            "bin_start": 600000,
            "bin_end": 700000,
            "count": 0
           },
           {
            "bin_start": 700000,
            "bin_end": 800000,
            "count": 0
           },
           {
            "bin_start": 800000,
            "bin_end": 900000,
            "count": 0
           },
           {
            "bin_start": 900000,
            "bin_end": 1000000,
            "count": 1
           }
          ]
         }
        },
        {
         "name": "year_produced",
         "dtype": "float64",
         "stats": {
          "unique_count": 8,
          "nan_count": 0,
          "min": "8.065730511309914",
          "max": "38531.0",
          "histogram": [
           {
            "bin_start": 8.065730511309914,
            "bin_end": 3860.3591574601787,
            "count": 7
           },
           {
            "bin_start": 3860.3591574601787,
            "bin_end": 7712.652584409047,
            "count": 0
           },
           {
            "bin_start": 7712.652584409047,
            "bin_end": 11564.946011357915,
            "count": 0
           },
           {
            "bin_start": 11564.946011357915,
            "bin_end": 15417.239438306784,
            "count": 0
           },
           {
            "bin_start": 15417.239438306784,
            "bin_end": 19269.532865255653,
            "count": 0
           },
           {
            "bin_start": 19269.532865255653,
            "bin_end": 23121.82629220452,
            "count": 0
           },
           {
            "bin_start": 23121.82629220452,
            "bin_end": 26974.11971915339,
            "count": 0
           },
           {
            "bin_start": 26974.11971915339,
            "bin_end": 30826.41314610226,
            "count": 0
           },
           {
            "bin_start": 30826.41314610226,
            "bin_end": 34678.70657305113,
            "count": 0
           },
           {
            "bin_start": 34678.70657305113,
            "bin_end": 38531,
            "count": 1
           }
          ]
         }
        },
        {
         "name": "engine_capacity",
         "dtype": "float64",
         "stats": {
          "unique_count": 8,
          "nan_count": 0,
          "min": "0.2",
          "max": "38521.0",
          "histogram": [
           {
            "bin_start": 0.2,
            "bin_end": 3852.28,
            "count": 7
           },
           {
            "bin_start": 3852.28,
            "bin_end": 7704.360000000001,
            "count": 0
           },
           {
            "bin_start": 7704.360000000001,
            "bin_end": 11556.440000000002,
            "count": 0
           },
           {
            "bin_start": 11556.440000000002,
            "bin_end": 15408.520000000002,
            "count": 0
           },
           {
            "bin_start": 15408.520000000002,
            "bin_end": 19260.600000000002,
            "count": 0
           },
           {
            "bin_start": 19260.600000000002,
            "bin_end": 23112.680000000004,
            "count": 0
           },
           {
            "bin_start": 23112.680000000004,
            "bin_end": 26964.760000000002,
            "count": 0
           },
           {
            "bin_start": 26964.760000000002,
            "bin_end": 30816.840000000004,
            "count": 0
           },
           {
            "bin_start": 30816.840000000004,
            "bin_end": 34668.92,
            "count": 0
           },
           {
            "bin_start": 34668.92,
            "bin_end": 38521,
            "count": 1
           }
          ]
         }
        },
        {
         "name": "price_usd",
         "dtype": "float64",
         "stats": {
          "unique_count": 8,
          "nan_count": 0,
          "min": "1.0",
          "max": "50000.0",
          "histogram": [
           {
            "bin_start": 1,
            "bin_end": 5000.9,
            "count": 3
           },
           {
            "bin_start": 5000.9,
            "bin_end": 10000.8,
            "count": 3
           },
           {
            "bin_start": 10000.8,
            "bin_end": 15000.699999999999,
            "count": 0
           },
           {
            "bin_start": 15000.699999999999,
            "bin_end": 20000.6,
            "count": 0
           },
           {
            "bin_start": 20000.6,
            "bin_end": 25000.5,
            "count": 0
           },
           {
            "bin_start": 25000.5,
            "bin_end": 30000.399999999998,
            "count": 0
           },
           {
            "bin_start": 30000.399999999998,
            "bin_end": 35000.299999999996,
            "count": 0
           },
           {
            "bin_start": 35000.299999999996,
            "bin_end": 40000.2,
            "count": 1
           },
           {
            "bin_start": 40000.2,
            "bin_end": 45000.1,
            "count": 0
           },
           {
            "bin_start": 45000.1,
            "bin_end": 50000,
            "count": 1
           }
          ]
         }
        },
        {
         "name": "number_of_photos",
         "dtype": "float64",
         "stats": {
          "unique_count": 8,
          "nan_count": 0,
          "min": "1.0",
          "max": "38531.0",
          "histogram": [
           {
            "bin_start": 1,
            "bin_end": 3854,
            "count": 7
           },
           {
            "bin_start": 3854,
            "bin_end": 7707,
            "count": 0
           },
           {
            "bin_start": 7707,
            "bin_end": 11560,
            "count": 0
           },
           {
            "bin_start": 11560,
            "bin_end": 15413,
            "count": 0
           },
           {
            "bin_start": 15413,
            "bin_end": 19266,
            "count": 0
           },
           {
            "bin_start": 19266,
            "bin_end": 23119,
            "count": 0
           },
           {
            "bin_start": 23119,
            "bin_end": 26972,
            "count": 0
           },
           {
            "bin_start": 26972,
            "bin_end": 30825,
            "count": 0
           },
           {
            "bin_start": 30825,
            "bin_end": 34678,
            "count": 0
           },
           {
            "bin_start": 34678,
            "bin_end": 38531,
            "count": 1
           }
          ]
         }
        },
        {
         "name": "up_counter",
         "dtype": "float64",
         "stats": {
          "unique_count": 8,
          "nan_count": 0,
          "min": "1.0",
          "max": "38531.0",
          "histogram": [
           {
            "bin_start": 1,
            "bin_end": 3854,
            "count": 7
           },
           {
            "bin_start": 3854,
            "bin_end": 7707,
            "count": 0
           },
           {
            "bin_start": 7707,
            "bin_end": 11560,
            "count": 0
           },
           {
            "bin_start": 11560,
            "bin_end": 15413,
            "count": 0
           },
           {
            "bin_start": 15413,
            "bin_end": 19266,
            "count": 0
           },
           {
            "bin_start": 19266,
            "bin_end": 23119,
            "count": 0
           },
           {
            "bin_start": 23119,
            "bin_end": 26972,
            "count": 0
           },
           {
            "bin_start": 26972,
            "bin_end": 30825,
            "count": 0
           },
           {
            "bin_start": 30825,
            "bin_end": 34678,
            "count": 0
           },
           {
            "bin_start": 34678,
            "bin_end": 38531,
            "count": 1
           }
          ]
         }
        },
        {
         "name": "duration_listed",
         "dtype": "float64",
         "stats": {
          "unique_count": 8,
          "nan_count": 0,
          "min": "0.0",
          "max": "38531.0",
          "histogram": [
           {
            "bin_start": 0,
            "bin_end": 3853.1,
            "count": 7
           },
           {
            "bin_start": 3853.1,
            "bin_end": 7706.2,
            "count": 0
           },
           {
            "bin_start": 7706.2,
            "bin_end": 11559.3,
            "count": 0
           },
           {
            "bin_start": 11559.3,
            "bin_end": 15412.4,
            "count": 0
           },
           {
            "bin_start": 15412.4,
            "bin_end": 19265.5,
            "count": 0
           },
           {
            "bin_start": 19265.5,
            "bin_end": 23118.6,
            "count": 0
           },
           {
            "bin_start": 23118.6,
            "bin_end": 26971.7,
            "count": 0
           },
           {
            "bin_start": 26971.7,
            "bin_end": 30824.8,
            "count": 0
           },
           {
            "bin_start": 30824.8,
            "bin_end": 34677.9,
            "count": 0
           },
           {
            "bin_start": 34677.9,
            "bin_end": 38531,
            "count": 1
           }
          ]
         }
        },
        {
         "name": "_deepnote_index_column",
         "dtype": "object"
        }
       ],
       "rows_top": [
        {
         "odometer_value": 38531,
         "year_produced": 38531,
         "engine_capacity": 38521,
         "price_usd": 38531,
         "number_of_photos": 38531,
         "up_counter": 38531,
         "duration_listed": 38531,
         "_deepnote_index_column": "count"
        },
        {
         "odometer_value": 248864.6384469648,
         "year_produced": 2002.9437336170874,
         "engine_capacity": 2.055161106928688,
         "price_usd": 6639.971021255613,
         "number_of_photos": 9.649061794399314,
         "up_counter": 16.306091199294073,
         "duration_listed": 80.5772494874257,
         "_deepnote_index_column": "mean"
        },
        {
         "odometer_value": 136072.37652978083,
         "year_produced": 8.065730511309914,
         "engine_capacity": 0.671177667208744,
         "price_usd": 6428.1520182029035,
         "number_of_photos": 6.093216996872852,
         "up_counter": 43.286933094223144,
         "duration_listed": 112.82656864261294,
         "_deepnote_index_column": "std"
        },
        {
         "odometer_value": 0,
         "year_produced": 1942,
         "engine_capacity": 0.2,
         "price_usd": 1,
         "number_of_photos": 1,
         "up_counter": 1,
         "duration_listed": 0,
         "_deepnote_index_column": "min"
        },
        {
         "odometer_value": 158000,
         "year_produced": 1998,
         "engine_capacity": 1.6,
         "price_usd": 2100,
         "number_of_photos": 5,
         "up_counter": 2,
         "duration_listed": 23,
         "_deepnote_index_column": "25%"
        },
        {
         "odometer_value": 250000,
         "year_produced": 2003,
         "engine_capacity": 2,
         "price_usd": 4800,
         "number_of_photos": 8,
         "up_counter": 5,
         "duration_listed": 59,
         "_deepnote_index_column": "50%"
        },
        {
         "odometer_value": 325000,
         "year_produced": 2009,
         "engine_capacity": 2.3,
         "price_usd": 8990,
         "number_of_photos": 12,
         "up_counter": 16,
         "duration_listed": 91,
         "_deepnote_index_column": "75%"
        },
        {
         "odometer_value": 1000000,
         "year_produced": 2019,
         "engine_capacity": 8,
         "price_usd": 50000,
         "number_of_photos": 86,
         "up_counter": 1861,
         "duration_listed": 2232,
         "_deepnote_index_column": "max"
        }
       ],
       "rows_bottom": null
      },
      "text/plain": "       odometer_value  year_produced  engine_capacity     price_usd  \\\ncount    38531.000000   38531.000000     38521.000000  38531.000000   \nmean    248864.638447    2002.943734         2.055161   6639.971021   \nstd     136072.376530       8.065731         0.671178   6428.152018   \nmin          0.000000    1942.000000         0.200000      1.000000   \n25%     158000.000000    1998.000000         1.600000   2100.000000   \n50%     250000.000000    2003.000000         2.000000   4800.000000   \n75%     325000.000000    2009.000000         2.300000   8990.000000   \nmax    1000000.000000    2019.000000         8.000000  50000.000000   \n\n       number_of_photos    up_counter  duration_listed  \ncount      38531.000000  38531.000000     38531.000000  \nmean           9.649062     16.306091        80.577249  \nstd            6.093217     43.286933       112.826569  \nmin            1.000000      1.000000         0.000000  \n25%            5.000000      2.000000        23.000000  \n50%            8.000000      5.000000        59.000000  \n75%           12.000000     16.000000        91.000000  \nmax           86.000000   1861.000000      2232.000000  ",
      "text/html": "<div>\n<style scoped>\n    .dataframe tbody tr th:only-of-type {\n        vertical-align: middle;\n    }\n\n    .dataframe tbody tr th {\n        vertical-align: top;\n    }\n\n    .dataframe thead th {\n        text-align: right;\n    }\n</style>\n<table border=\"1\" class=\"dataframe\">\n  <thead>\n    <tr style=\"text-align: right;\">\n      <th></th>\n      <th>odometer_value</th>\n      <th>year_produced</th>\n      <th>engine_capacity</th>\n      <th>price_usd</th>\n      <th>number_of_photos</th>\n      <th>up_counter</th>\n      <th>duration_listed</th>\n    </tr>\n  </thead>\n  <tbody>\n    <tr>\n      <th>count</th>\n      <td>38531.000000</td>\n      <td>38531.000000</td>\n      <td>38521.000000</td>\n      <td>38531.000000</td>\n      <td>38531.000000</td>\n      <td>38531.000000</td>\n      <td>38531.000000</td>\n    </tr>\n    <tr>\n      <th>mean</th>\n      <td>248864.638447</td>\n      <td>2002.943734</td>\n      <td>2.055161</td>\n      <td>6639.971021</td>\n      <td>9.649062</td>\n      <td>16.306091</td>\n      <td>80.577249</td>\n    </tr>\n    <tr>\n      <th>std</th>\n      <td>136072.376530</td>\n      <td>8.065731</td>\n      <td>0.671178</td>\n      <td>6428.152018</td>\n      <td>6.093217</td>\n      <td>43.286933</td>\n      <td>112.826569</td>\n    </tr>\n    <tr>\n      <th>min</th>\n      <td>0.000000</td>\n      <td>1942.000000</td>\n      <td>0.200000</td>\n      <td>1.000000</td>\n      <td>1.000000</td>\n      <td>1.000000</td>\n      <td>0.000000</td>\n    </tr>\n    <tr>\n      <th>25%</th>\n      <td>158000.000000</td>\n      <td>1998.000000</td>\n      <td>1.600000</td>\n      <td>2100.000000</td>\n      <td>5.000000</td>\n      <td>2.000000</td>\n      <td>23.000000</td>\n    </tr>\n    <tr>\n      <th>50%</th>\n      <td>250000.000000</td>\n      <td>2003.000000</td>\n      <td>2.000000</td>\n      <td>4800.000000</td>\n      <td>8.000000</td>\n      <td>5.000000</td>\n      <td>59.000000</td>\n    </tr>\n    <tr>\n      <th>75%</th>\n      <td>325000.000000</td>\n      <td>2009.000000</td>\n      <td>2.300000</td>\n      <td>8990.000000</td>\n      <td>12.000000</td>\n      <td>16.000000</td>\n      <td>91.000000</td>\n    </tr>\n    <tr>\n      <th>max</th>\n      <td>1000000.000000</td>\n      <td>2019.000000</td>\n      <td>8.000000</td>\n      <td>50000.000000</td>\n      <td>86.000000</td>\n      <td>1861.000000</td>\n      <td>2232.000000</td>\n    </tr>\n  </tbody>\n</table>\n</div>"
     },
     "metadata": {}
    }
   ]
  },
  {
   "cell_type": "code",
   "metadata": {
    "tags": [],
    "cell_id": "00005-7c5c3053-f099-4775-8520-99a58b678e91",
    "deepnote_to_be_reexecuted": false,
    "source_hash": "c085b6ba",
    "execution_start": 1635894747215,
    "execution_millis": 375,
    "deepnote_cell_type": "code"
   },
   "source": "df.head()",
   "execution_count": 3,
   "outputs": [
    {
     "output_type": "execute_result",
     "execution_count": 3,
     "data": {
      "application/vnd.deepnote.dataframe.v2+json": {
       "row_count": 5,
       "column_count": 30,
       "columns": [
        {
         "name": "manufacturer_name",
         "dtype": "object",
         "stats": {
          "unique_count": 1,
          "nan_count": 0,
          "categories": [
           {
            "name": "Subaru",
            "count": 5
           }
          ]
         }
        },
        {
         "name": "model_name",
         "dtype": "object",
         "stats": {
          "unique_count": 4,
          "nan_count": 0,
          "categories": [
           {
            "name": "Outback",
            "count": 2
           },
           {
            "name": "Forester",
            "count": 1
           },
           {
            "name": "2 others",
            "count": 2
           }
          ]
         }
        },
        {
         "name": "transmission",
         "dtype": "object",
         "stats": {
          "unique_count": 2,
          "nan_count": 0,
          "categories": [
           {
            "name": "automatic",
            "count": 4
           },
           {
            "name": "mechanical",
            "count": 1
           }
          ]
         }
        },
        {
         "name": "color",
         "dtype": "object",
         "stats": {
          "unique_count": 4,
          "nan_count": 0,
          "categories": [
           {
            "name": "blue",
            "count": 2
           },
           {
            "name": "silver",
            "count": 1
           },
           {
            "name": "2 others",
            "count": 2
           }
          ]
         }
        },
        {
         "name": "odometer_value",
         "dtype": "int64",
         "stats": {
          "unique_count": 5,
          "nan_count": 0,
          "min": "10000",
          "max": "402000",
          "histogram": [
           {
            "bin_start": 10000,
            "bin_end": 49200,
            "count": 1
           },
           {
            "bin_start": 49200,
            "bin_end": 88400,
            "count": 0
           },
           {
            "bin_start": 88400,
            "bin_end": 127600,
            "count": 0
           },
           {
            "bin_start": 127600,
            "bin_end": 166800,
            "count": 0
           },
           {
            "bin_start": 166800,
            "bin_end": 206000,
            "count": 1
           },
           {
            "bin_start": 206000,
            "bin_end": 245200,
            "count": 0
           },
           {
            "bin_start": 245200,
            "bin_end": 284400,
            "count": 1
           },
           {
            "bin_start": 284400,
            "bin_end": 323600,
            "count": 1
           },
           {
            "bin_start": 323600,
            "bin_end": 362800,
            "count": 0
           },
           {
            "bin_start": 362800,
            "bin_end": 402000,
            "count": 1
           }
          ]
         }
        },
        {
         "name": "year_produced",
         "dtype": "int64",
         "stats": {
          "unique_count": 4,
          "nan_count": 0,
          "min": "1999",
          "max": "2010",
          "histogram": [
           {
            "bin_start": 1999,
            "bin_end": 2000.1,
            "count": 1
           },
           {
            "bin_start": 2000.1,
            "bin_end": 2001.2,
            "count": 2
           },
           {
            "bin_start": 2001.2,
            "bin_end": 2002.3,
            "count": 1
           },
           {
            "bin_start": 2002.3,
            "bin_end": 2003.4,
            "count": 0
           },
           {
            "bin_start": 2003.4,
            "bin_end": 2004.5,
            "count": 0
           },
           {
            "bin_start": 2004.5,
            "bin_end": 2005.6,
            "count": 0
           },
           {
            "bin_start": 2005.6,
            "bin_end": 2006.7,
            "count": 0
           },
           {
            "bin_start": 2006.7,
            "bin_end": 2007.8,
            "count": 0
           },
           {
            "bin_start": 2007.8,
            "bin_end": 2008.9,
            "count": 0
           },
           {
            "bin_start": 2008.9,
            "bin_end": 2010,
            "count": 1
           }
          ]
         }
        },
        {
         "name": "engine_fuel",
         "dtype": "object",
         "stats": {
          "unique_count": 1,
          "nan_count": 0,
          "categories": [
           {
            "name": "gasoline",
            "count": 5
           }
          ]
         }
        },
        {
         "name": "engine_has_gas",
         "dtype": "bool",
         "stats": {
          "unique_count": 1,
          "nan_count": 0,
          "categories": [
           {
            "name": "False",
            "count": 5
           }
          ]
         }
        },
        {
         "name": "engine_type",
         "dtype": "object",
         "stats": {
          "unique_count": 1,
          "nan_count": 0,
          "categories": [
           {
            "name": "gasoline",
            "count": 5
           }
          ]
         }
        },
        {
         "name": "engine_capacity",
         "dtype": "float64",
         "stats": {
          "unique_count": 2,
          "nan_count": 0,
          "min": "2.5",
          "max": "3.0",
          "histogram": [
           {
            "bin_start": 2.5,
            "bin_end": 2.55,
            "count": 3
           },
           {
            "bin_start": 2.55,
            "bin_end": 2.6,
            "count": 0
           },
           {
            "bin_start": 2.6,
            "bin_end": 2.65,
            "count": 0
           },
           {
            "bin_start": 2.65,
            "bin_end": 2.7,
            "count": 0
           },
           {
            "bin_start": 2.7,
            "bin_end": 2.75,
            "count": 0
           },
           {
            "bin_start": 2.75,
            "bin_end": 2.8,
            "count": 0
           },
           {
            "bin_start": 2.8,
            "bin_end": 2.85,
            "count": 0
           },
           {
            "bin_start": 2.85,
            "bin_end": 2.9,
            "count": 0
           },
           {
            "bin_start": 2.9,
            "bin_end": 2.95,
            "count": 0
           },
           {
            "bin_start": 2.95,
            "bin_end": 3,
            "count": 2
           }
          ]
         }
        },
        {
         "name": "body_type",
         "dtype": "object",
         "stats": {
          "unique_count": 3,
          "nan_count": 0,
          "categories": [
           {
            "name": "universal",
            "count": 3
           },
           {
            "name": "suv",
            "count": 1
           },
           {
            "name": "sedan",
            "count": 1
           }
          ]
         }
        },
        {
         "name": "has_warranty",
         "dtype": "bool",
         "stats": {
          "unique_count": 1,
          "nan_count": 0,
          "categories": [
           {
            "name": "False",
            "count": 5
           }
          ]
         }
        },
        {
         "name": "state",
         "dtype": "object",
         "stats": {
          "unique_count": 1,
          "nan_count": 0,
          "categories": [
           {
            "name": "owned",
            "count": 5
           }
          ]
         }
        },
        {
         "name": "drivetrain",
         "dtype": "object",
         "stats": {
          "unique_count": 1,
          "nan_count": 0,
          "categories": [
           {
            "name": "all",
            "count": 5
           }
          ]
         }
        },
        {
         "name": "price_usd",
         "dtype": "float64",
         "stats": {
          "unique_count": 5,
          "nan_count": 0,
          "min": "2134.11",
          "max": "10900.0",
          "histogram": [
           {
            "bin_start": 2134.11,
            "bin_end": 3010.699,
            "count": 2
           },
           {
            "bin_start": 3010.699,
            "bin_end": 3887.288,
            "count": 0
           },
           {
            "bin_start": 3887.288,
            "bin_end": 4763.877,
            "count": 0
           },
           {
            "bin_start": 4763.877,
            "bin_end": 5640.466,
            "count": 1
           },
           {
            "bin_start": 5640.466,
            "bin_end": 6517.055,
            "count": 0
           },
           {
            "bin_start": 6517.055,
            "bin_end": 7393.644,
            "count": 0
           },
           {
            "bin_start": 7393.644,
            "bin_end": 8270.233,
            "count": 0
           },
           {
            "bin_start": 8270.233,
            "bin_end": 9146.822,
            "count": 0
           },
           {
            "bin_start": 9146.822,
            "bin_end": 10023.411,
            "count": 1
           },
           {
            "bin_start": 10023.411,
            "bin_end": 10900,
            "count": 1
           }
          ]
         }
        },
        {
         "name": "is_exchangeable",
         "dtype": "bool",
         "stats": {
          "unique_count": 2,
          "nan_count": 0,
          "categories": [
           {
            "name": "True",
            "count": 4
           },
           {
            "name": "False",
            "count": 1
           }
          ]
         }
        },
        {
         "name": "location_region",
         "dtype": "object",
         "stats": {
          "unique_count": 2,
          "nan_count": 0,
          "categories": [
           {
            "name": "Минская обл.",
            "count": 4
           },
           {
            "name": "Гомельская обл.",
            "count": 1
           }
          ]
         }
        },
        {
         "name": "number_of_photos",
         "dtype": "int64",
         "stats": {
          "unique_count": 4,
          "nan_count": 0,
          "min": "4",
          "max": "14",
          "histogram": [
           {
            "bin_start": 4,
            "bin_end": 5,
            "count": 1
           },
           {
            "bin_start": 5,
            "bin_end": 6,
            "count": 0
           },
           {
            "bin_start": 6,
            "bin_end": 7,
            "count": 0
           },
           {
            "bin_start": 7,
            "bin_end": 8,
            "count": 0
           },
           {
            "bin_start": 8,
            "bin_end": 9,
            "count": 0
           },
           {
            "bin_start": 9,
            "bin_end": 10,
            "count": 2
           },
           {
            "bin_start": 10,
            "bin_end": 11,
            "count": 0
           },
           {
            "bin_start": 11,
            "bin_end": 12,
            "count": 0
           },
           {
            "bin_start": 12,
            "bin_end": 13,
            "count": 1
           },
           {
            "bin_start": 13,
            "bin_end": 14,
            "count": 1
           }
          ]
         }
        },
        {
         "name": "up_counter",
         "dtype": "int64",
         "stats": {
          "unique_count": 5,
          "nan_count": 0,
          "min": "7",
          "max": "72",
          "histogram": [
           {
            "bin_start": 7,
            "bin_end": 13.5,
            "count": 2
           },
           {
            "bin_start": 13.5,
            "bin_end": 20,
            "count": 0
           },
           {
            "bin_start": 20,
            "bin_end": 26.5,
            "count": 0
           },
           {
            "bin_start": 26.5,
            "bin_end": 33,
            "count": 0
           },
           {
            "bin_start": 33,
            "bin_end": 39.5,
            "count": 0
           },
           {
            "bin_start": 39.5,
            "bin_end": 46,
            "count": 1
           },
           {
            "bin_start": 46,
            "bin_end": 52.5,
            "count": 0
           },
           {
            "bin_start": 52.5,
            "bin_end": 59,
            "count": 1
           },
           {
            "bin_start": 59,
            "bin_end": 65.5,
            "count": 0
           },
           {
            "bin_start": 65.5,
            "bin_end": 72,
            "count": 1
           }
          ]
         }
        },
        {
         "name": "feature_0",
         "dtype": "bool",
         "stats": {
          "unique_count": 2,
          "nan_count": 0,
          "categories": [
           {
            "name": "False",
            "count": 4
           },
           {
            "name": "True",
            "count": 1
           }
          ]
         }
        },
        {
         "name": "feature_1",
         "dtype": "bool",
         "stats": {
          "unique_count": 2,
          "nan_count": 0,
          "categories": [
           {
            "name": "True",
            "count": 4
           },
           {
            "name": "False",
            "count": 1
           }
          ]
         }
        },
        {
         "name": "feature_2",
         "dtype": "bool",
         "stats": {
          "unique_count": 2,
          "nan_count": 0,
          "categories": [
           {
            "name": "False",
            "count": 4
           },
           {
            "name": "True",
            "count": 1
           }
          ]
         }
        },
        {
         "name": "feature_3",
         "dtype": "bool",
         "stats": {
          "unique_count": 2,
          "nan_count": 0,
          "categories": [
           {
            "name": "False",
            "count": 3
           },
           {
            "name": "True",
            "count": 2
           }
          ]
         }
        },
        {
         "name": "feature_4",
         "dtype": "bool",
         "stats": {
          "unique_count": 2,
          "nan_count": 0,
          "categories": [
           {
            "name": "False",
            "count": 3
           },
           {
            "name": "True",
            "count": 2
           }
          ]
         }
        },
        {
         "name": "feature_5",
         "dtype": "bool",
         "stats": {
          "unique_count": 2,
          "nan_count": 0,
          "categories": [
           {
            "name": "False",
            "count": 3
           },
           {
            "name": "True",
            "count": 2
           }
          ]
         }
        },
        {
         "name": "feature_6",
         "dtype": "bool",
         "stats": {
          "unique_count": 1,
          "nan_count": 0,
          "categories": [
           {
            "name": "False",
            "count": 5
           }
          ]
         }
        },
        {
         "name": "feature_7",
         "dtype": "bool",
         "stats": {
          "unique_count": 2,
          "nan_count": 0,
          "categories": [
           {
            "name": "False",
            "count": 4
           },
           {
            "name": "True",
            "count": 1
           }
          ]
         }
        },
        {
         "name": "feature_8",
         "dtype": "bool",
         "stats": {
          "unique_count": 2,
          "nan_count": 0,
          "categories": [
           {
            "name": "False",
            "count": 3
           },
           {
            "name": "True",
            "count": 2
           }
          ]
         }
        },
        {
         "name": "feature_9",
         "dtype": "bool",
         "stats": {
          "unique_count": 2,
          "nan_count": 0,
          "categories": [
           {
            "name": "True",
            "count": 4
           },
           {
            "name": "False",
            "count": 1
           }
          ]
         }
        },
        {
         "name": "duration_listed",
         "dtype": "int64",
         "stats": {
          "unique_count": 5,
          "nan_count": 0,
          "min": "7",
          "max": "151",
          "histogram": [
           {
            "bin_start": 7,
            "bin_end": 21.4,
            "count": 2
           },
           {
            "bin_start": 21.4,
            "bin_end": 35.8,
            "count": 0
           },
           {
            "bin_start": 35.8,
            "bin_end": 50.2,
            "count": 0
           },
           {
            "bin_start": 50.2,
            "bin_end": 64.6,
            "count": 0
           },
           {
            "bin_start": 64.6,
            "bin_end": 79,
            "count": 0
           },
           {
            "bin_start": 79,
            "bin_end": 93.4,
            "count": 2
           },
           {
            "bin_start": 93.4,
            "bin_end": 107.8,
            "count": 0
           },
           {
            "bin_start": 107.8,
            "bin_end": 122.2,
            "count": 0
           },
           {
            "bin_start": 122.2,
            "bin_end": 136.6,
            "count": 0
           },
           {
            "bin_start": 136.6,
            "bin_end": 151,
            "count": 1
           }
          ]
         }
        },
        {
         "name": "_deepnote_index_column",
         "dtype": "int64"
        }
       ],
       "rows_top": [
        {
         "manufacturer_name": "Subaru",
         "model_name": "Outback",
         "transmission": "automatic",
         "color": "silver",
         "odometer_value": 190000,
         "year_produced": 2010,
         "engine_fuel": "gasoline",
         "engine_has_gas": "False",
         "engine_type": "gasoline",
         "engine_capacity": 2.5,
         "body_type": "universal",
         "has_warranty": "False",
         "state": "owned",
         "drivetrain": "all",
         "price_usd": 10900,
         "is_exchangeable": "False",
         "location_region": "Минская обл.",
         "number_of_photos": 9,
         "up_counter": 13,
         "feature_0": "False",
         "feature_1": "True",
         "feature_2": "True",
         "feature_3": "True",
         "feature_4": "False",
         "feature_5": "True",
         "feature_6": "False",
         "feature_7": "True",
         "feature_8": "True",
         "feature_9": "True",
         "duration_listed": 16,
         "_deepnote_index_column": 0
        },
        {
         "manufacturer_name": "Subaru",
         "model_name": "Outback",
         "transmission": "automatic",
         "color": "blue",
         "odometer_value": 290000,
         "year_produced": 2002,
         "engine_fuel": "gasoline",
         "engine_has_gas": "False",
         "engine_type": "gasoline",
         "engine_capacity": 3,
         "body_type": "universal",
         "has_warranty": "False",
         "state": "owned",
         "drivetrain": "all",
         "price_usd": 5000,
         "is_exchangeable": "True",
         "location_region": "Минская обл.",
         "number_of_photos": 12,
         "up_counter": 54,
         "feature_0": "False",
         "feature_1": "True",
         "feature_2": "False",
         "feature_3": "False",
         "feature_4": "True",
         "feature_5": "True",
         "feature_6": "False",
         "feature_7": "False",
         "feature_8": "False",
         "feature_9": "True",
         "duration_listed": 83,
         "_deepnote_index_column": 1
        },
        {
         "manufacturer_name": "Subaru",
         "model_name": "Forester",
         "transmission": "automatic",
         "color": "red",
         "odometer_value": 402000,
         "year_produced": 2001,
         "engine_fuel": "gasoline",
         "engine_has_gas": "False",
         "engine_type": "gasoline",
         "engine_capacity": 2.5,
         "body_type": "suv",
         "has_warranty": "False",
         "state": "owned",
         "drivetrain": "all",
         "price_usd": 2800,
         "is_exchangeable": "True",
         "location_region": "Минская обл.",
         "number_of_photos": 4,
         "up_counter": 72,
         "feature_0": "False",
         "feature_1": "True",
         "feature_2": "False",
         "feature_3": "False",
         "feature_4": "False",
         "feature_5": "False",
         "feature_6": "False",
         "feature_7": "False",
         "feature_8": "True",
         "feature_9": "True",
         "duration_listed": 151,
         "_deepnote_index_column": 2
        },
        {
         "manufacturer_name": "Subaru",
         "model_name": "Impreza",
         "transmission": "mechanical",
         "color": "blue",
         "odometer_value": 10000,
         "year_produced": 1999,
         "engine_fuel": "gasoline",
         "engine_has_gas": "False",
         "engine_type": "gasoline",
         "engine_capacity": 3,
         "body_type": "sedan",
         "has_warranty": "False",
         "state": "owned",
         "drivetrain": "all",
         "price_usd": 9999,
         "is_exchangeable": "True",
         "location_region": "Минская обл.",
         "number_of_photos": 9,
         "up_counter": 42,
         "feature_0": "True",
         "feature_1": "False",
         "feature_2": "False",
         "feature_3": "False",
         "feature_4": "False",
         "feature_5": "False",
         "feature_6": "False",
         "feature_7": "False",
         "feature_8": "False",
         "feature_9": "False",
         "duration_listed": 86,
         "_deepnote_index_column": 3
        },
        {
         "manufacturer_name": "Subaru",
         "model_name": "Legacy",
         "transmission": "automatic",
         "color": "black",
         "odometer_value": 280000,
         "year_produced": 2001,
         "engine_fuel": "gasoline",
         "engine_has_gas": "False",
         "engine_type": "gasoline",
         "engine_capacity": 2.5,
         "body_type": "universal",
         "has_warranty": "False",
         "state": "owned",
         "drivetrain": "all",
         "price_usd": 2134.11,
         "is_exchangeable": "True",
         "location_region": "Гомельская обл.",
         "number_of_photos": 14,
         "up_counter": 7,
         "feature_0": "False",
         "feature_1": "True",
         "feature_2": "False",
         "feature_3": "True",
         "feature_4": "True",
         "feature_5": "False",
         "feature_6": "False",
         "feature_7": "False",
         "feature_8": "False",
         "feature_9": "True",
         "duration_listed": 7,
         "_deepnote_index_column": 4
        }
       ],
       "rows_bottom": null
      },
      "text/plain": "  manufacturer_name model_name transmission   color  odometer_value  \\\n0            Subaru    Outback    automatic  silver          190000   \n1            Subaru    Outback    automatic    blue          290000   \n2            Subaru   Forester    automatic     red          402000   \n3            Subaru    Impreza   mechanical    blue           10000   \n4            Subaru     Legacy    automatic   black          280000   \n\n   year_produced engine_fuel  engine_has_gas engine_type  engine_capacity  \\\n0           2010    gasoline           False    gasoline              2.5   \n1           2002    gasoline           False    gasoline              3.0   \n2           2001    gasoline           False    gasoline              2.5   \n3           1999    gasoline           False    gasoline              3.0   \n4           2001    gasoline           False    gasoline              2.5   \n\n   ... feature_1  feature_2 feature_3 feature_4  feature_5  feature_6  \\\n0  ...      True       True      True     False       True      False   \n1  ...      True      False     False      True       True      False   \n2  ...      True      False     False     False      False      False   \n3  ...     False      False     False     False      False      False   \n4  ...      True      False      True      True      False      False   \n\n  feature_7  feature_8  feature_9  duration_listed  \n0      True       True       True               16  \n1     False      False       True               83  \n2     False       True       True              151  \n3     False      False      False               86  \n4     False      False       True                7  \n\n[5 rows x 30 columns]",
      "text/html": "<div>\n<style scoped>\n    .dataframe tbody tr th:only-of-type {\n        vertical-align: middle;\n    }\n\n    .dataframe tbody tr th {\n        vertical-align: top;\n    }\n\n    .dataframe thead th {\n        text-align: right;\n    }\n</style>\n<table border=\"1\" class=\"dataframe\">\n  <thead>\n    <tr style=\"text-align: right;\">\n      <th></th>\n      <th>manufacturer_name</th>\n      <th>model_name</th>\n      <th>transmission</th>\n      <th>color</th>\n      <th>odometer_value</th>\n      <th>year_produced</th>\n      <th>engine_fuel</th>\n      <th>engine_has_gas</th>\n      <th>engine_type</th>\n      <th>engine_capacity</th>\n      <th>...</th>\n      <th>feature_1</th>\n      <th>feature_2</th>\n      <th>feature_3</th>\n      <th>feature_4</th>\n      <th>feature_5</th>\n      <th>feature_6</th>\n      <th>feature_7</th>\n      <th>feature_8</th>\n      <th>feature_9</th>\n      <th>duration_listed</th>\n    </tr>\n  </thead>\n  <tbody>\n    <tr>\n      <th>0</th>\n      <td>Subaru</td>\n      <td>Outback</td>\n      <td>automatic</td>\n      <td>silver</td>\n      <td>190000</td>\n      <td>2010</td>\n      <td>gasoline</td>\n      <td>False</td>\n      <td>gasoline</td>\n      <td>2.5</td>\n      <td>...</td>\n      <td>True</td>\n      <td>True</td>\n      <td>True</td>\n      <td>False</td>\n      <td>True</td>\n      <td>False</td>\n      <td>True</td>\n      <td>True</td>\n      <td>True</td>\n      <td>16</td>\n    </tr>\n    <tr>\n      <th>1</th>\n      <td>Subaru</td>\n      <td>Outback</td>\n      <td>automatic</td>\n      <td>blue</td>\n      <td>290000</td>\n      <td>2002</td>\n      <td>gasoline</td>\n      <td>False</td>\n      <td>gasoline</td>\n      <td>3.0</td>\n      <td>...</td>\n      <td>True</td>\n      <td>False</td>\n      <td>False</td>\n      <td>True</td>\n      <td>True</td>\n      <td>False</td>\n      <td>False</td>\n      <td>False</td>\n      <td>True</td>\n      <td>83</td>\n    </tr>\n    <tr>\n      <th>2</th>\n      <td>Subaru</td>\n      <td>Forester</td>\n      <td>automatic</td>\n      <td>red</td>\n      <td>402000</td>\n      <td>2001</td>\n      <td>gasoline</td>\n      <td>False</td>\n      <td>gasoline</td>\n      <td>2.5</td>\n      <td>...</td>\n      <td>True</td>\n      <td>False</td>\n      <td>False</td>\n      <td>False</td>\n      <td>False</td>\n      <td>False</td>\n      <td>False</td>\n      <td>True</td>\n      <td>True</td>\n      <td>151</td>\n    </tr>\n    <tr>\n      <th>3</th>\n      <td>Subaru</td>\n      <td>Impreza</td>\n      <td>mechanical</td>\n      <td>blue</td>\n      <td>10000</td>\n      <td>1999</td>\n      <td>gasoline</td>\n      <td>False</td>\n      <td>gasoline</td>\n      <td>3.0</td>\n      <td>...</td>\n      <td>False</td>\n      <td>False</td>\n      <td>False</td>\n      <td>False</td>\n      <td>False</td>\n      <td>False</td>\n      <td>False</td>\n      <td>False</td>\n      <td>False</td>\n      <td>86</td>\n    </tr>\n    <tr>\n      <th>4</th>\n      <td>Subaru</td>\n      <td>Legacy</td>\n      <td>automatic</td>\n      <td>black</td>\n      <td>280000</td>\n      <td>2001</td>\n      <td>gasoline</td>\n      <td>False</td>\n      <td>gasoline</td>\n      <td>2.5</td>\n      <td>...</td>\n      <td>True</td>\n      <td>False</td>\n      <td>True</td>\n      <td>True</td>\n      <td>False</td>\n      <td>False</td>\n      <td>False</td>\n      <td>False</td>\n      <td>True</td>\n      <td>7</td>\n    </tr>\n  </tbody>\n</table>\n<p>5 rows × 30 columns</p>\n</div>"
     },
     "metadata": {}
    }
   ]
  },
  {
   "cell_type": "markdown",
   "source": "Buscaremos y analizaremos la columna de odometer_value",
   "metadata": {
    "tags": [],
    "cell_id": "00005-886d1bf0-efee-4982-af98-3320d0383768",
    "deepnote_cell_type": "markdown"
   }
  },
  {
   "cell_type": "code",
   "metadata": {
    "tags": [],
    "cell_id": "00006-628299e7-1d54-4c54-a3f8-fdd59f94ab7c",
    "deepnote_to_be_reexecuted": false,
    "source_hash": "734ff1ee",
    "execution_start": 1635894747660,
    "execution_millis": 7764745,
    "deepnote_cell_type": "code"
   },
   "source": "max = df['odometer_value'].max()\nmin = df['odometer_value'].min()\nmedian = df['odometer_value'].median()\nStd = df['odometer_value'].std()\n\nprint('El maximo: ' + str(max),'El minimo: '+ str(min),'La mediana :' + str(median),'La desviacion estandar: ' + str(Std))",
   "execution_count": 4,
   "outputs": [
    {
     "name": "stdout",
     "text": "El maximo: 1000000 El minimo: 0 La mediana :250000.0 La desviacion estandar: 136072.37652978083\n",
     "output_type": "stream"
    }
   ]
  },
  {
   "cell_type": "markdown",
   "source": "Ahora veamos un poco de graficos ",
   "metadata": {
    "tags": [],
    "cell_id": "00007-ddd698a6-6289-4afd-9b51-d830d655c8a8",
    "deepnote_cell_type": "markdown"
   }
  },
  {
   "cell_type": "code",
   "metadata": {
    "tags": [],
    "cell_id": "00007-81c086b5-02e2-4d97-84f6-57ee869b52c6",
    "deepnote_to_be_reexecuted": false,
    "source_hash": "f2c83b5b",
    "execution_start": 1635894747661,
    "execution_millis": 4,
    "deepnote_cell_type": "code"
   },
   "source": "# sns.displot(df, x='odometer_value')",
   "execution_count": 5,
   "outputs": []
  },
  {
   "cell_type": "markdown",
   "source": "Vemos que no tiene una distribucion normal, ahora analicemos los datos que nos aporta la columna Color",
   "metadata": {
    "tags": [],
    "cell_id": "00009-f7d7a493-c476-42c7-8fd1-aeaf93c6f839",
    "deepnote_cell_type": "markdown"
   }
  },
  {
   "cell_type": "markdown",
   "source": "Vemos Todos los valores de la columna color, y su relacion con cada una de las demas columnas. Ahora veamos un poco de graficas.",
   "metadata": {
    "tags": [],
    "cell_id": "00011-0d8ecdbd-a046-43f5-8431-cc710c4b830f",
    "deepnote_cell_type": "markdown"
   }
  },
  {
   "cell_type": "code",
   "metadata": {
    "tags": [],
    "cell_id": "00008-943e2ae7-2945-4551-93a4-790aed628dd3",
    "deepnote_to_be_reexecuted": false,
    "source_hash": "109b8a0e",
    "execution_start": 1635894747704,
    "execution_millis": 7764657,
    "deepnote_cell_type": "code"
   },
   "source": "# df['color'].hist(bins=40)\nfeatures=['feature_0',\n'feature_1',\n'feature_2',\n'feature_3',\n'feature_4',\n'feature_5',\n'feature_6',\n'feature_7',\n'feature_8',\n'feature_9',\n]\ndef remove_Columnus(df):\n\n    for i in range(len(features)):\n       \n       D = df.drop(features[i],1)\n       df =  D\n    return df\n",
   "execution_count": 6,
   "outputs": []
  },
  {
   "cell_type": "code",
   "metadata": {
    "tags": [],
    "cell_id": "00013-413e3371-2e0c-4acc-b0c1-021a71e81b72",
    "deepnote_to_be_reexecuted": false,
    "source_hash": "bbab32ea",
    "execution_start": 1635894747704,
    "execution_millis": 260,
    "deepnote_cell_type": "code"
   },
   "source": "NewDF = remove_Columnus(df)\nNewDF.head()",
   "execution_count": 7,
   "outputs": [
    {
     "output_type": "execute_result",
     "execution_count": 7,
     "data": {
      "application/vnd.deepnote.dataframe.v2+json": {
       "row_count": 5,
       "column_count": 20,
       "columns": [
        {
         "name": "manufacturer_name",
         "dtype": "object",
         "stats": {
          "unique_count": 1,
          "nan_count": 0,
          "categories": [
           {
            "name": "Subaru",
            "count": 5
           }
          ]
         }
        },
        {
         "name": "model_name",
         "dtype": "object",
         "stats": {
          "unique_count": 4,
          "nan_count": 0,
          "categories": [
           {
            "name": "Outback",
            "count": 2
           },
           {
            "name": "Forester",
            "count": 1
           },
           {
            "name": "2 others",
            "count": 2
           }
          ]
         }
        },
        {
         "name": "transmission",
         "dtype": "object",
         "stats": {
          "unique_count": 2,
          "nan_count": 0,
          "categories": [
           {
            "name": "automatic",
            "count": 4
           },
           {
            "name": "mechanical",
            "count": 1
           }
          ]
         }
        },
        {
         "name": "color",
         "dtype": "object",
         "stats": {
          "unique_count": 4,
          "nan_count": 0,
          "categories": [
           {
            "name": "blue",
            "count": 2
           },
           {
            "name": "silver",
            "count": 1
           },
           {
            "name": "2 others",
            "count": 2
           }
          ]
         }
        },
        {
         "name": "odometer_value",
         "dtype": "int64",
         "stats": {
          "unique_count": 5,
          "nan_count": 0,
          "min": "10000",
          "max": "402000",
          "histogram": [
           {
            "bin_start": 10000,
            "bin_end": 49200,
            "count": 1
           },
           {
            "bin_start": 49200,
            "bin_end": 88400,
            "count": 0
           },
           {
            "bin_start": 88400,
            "bin_end": 127600,
            "count": 0
           },
           {
            "bin_start": 127600,
            "bin_end": 166800,
            "count": 0
           },
           {
            "bin_start": 166800,
            "bin_end": 206000,
            "count": 1
           },
           {
            "bin_start": 206000,
            "bin_end": 245200,
            "count": 0
           },
           {
            "bin_start": 245200,
            "bin_end": 284400,
            "count": 1
           },
           {
            "bin_start": 284400,
            "bin_end": 323600,
            "count": 1
           },
           {
            "bin_start": 323600,
            "bin_end": 362800,
            "count": 0
           },
           {
            "bin_start": 362800,
            "bin_end": 402000,
            "count": 1
           }
          ]
         }
        },
        {
         "name": "year_produced",
         "dtype": "int64",
         "stats": {
          "unique_count": 4,
          "nan_count": 0,
          "min": "1999",
          "max": "2010",
          "histogram": [
           {
            "bin_start": 1999,
            "bin_end": 2000.1,
            "count": 1
           },
           {
            "bin_start": 2000.1,
            "bin_end": 2001.2,
            "count": 2
           },
           {
            "bin_start": 2001.2,
            "bin_end": 2002.3,
            "count": 1
           },
           {
            "bin_start": 2002.3,
            "bin_end": 2003.4,
            "count": 0
           },
           {
            "bin_start": 2003.4,
            "bin_end": 2004.5,
            "count": 0
           },
           {
            "bin_start": 2004.5,
            "bin_end": 2005.6,
            "count": 0
           },
           {
            "bin_start": 2005.6,
            "bin_end": 2006.7,
            "count": 0
           },
           {
            "bin_start": 2006.7,
            "bin_end": 2007.8,
            "count": 0
           },
           {
            "bin_start": 2007.8,
            "bin_end": 2008.9,
            "count": 0
           },
           {
            "bin_start": 2008.9,
            "bin_end": 2010,
            "count": 1
           }
          ]
         }
        },
        {
         "name": "engine_fuel",
         "dtype": "object",
         "stats": {
          "unique_count": 1,
          "nan_count": 0,
          "categories": [
           {
            "name": "gasoline",
            "count": 5
           }
          ]
         }
        },
        {
         "name": "engine_has_gas",
         "dtype": "bool",
         "stats": {
          "unique_count": 1,
          "nan_count": 0,
          "categories": [
           {
            "name": "False",
            "count": 5
           }
          ]
         }
        },
        {
         "name": "engine_type",
         "dtype": "object",
         "stats": {
          "unique_count": 1,
          "nan_count": 0,
          "categories": [
           {
            "name": "gasoline",
            "count": 5
           }
          ]
         }
        },
        {
         "name": "engine_capacity",
         "dtype": "float64",
         "stats": {
          "unique_count": 2,
          "nan_count": 0,
          "min": "2.5",
          "max": "3.0",
          "histogram": [
           {
            "bin_start": 2.5,
            "bin_end": 2.55,
            "count": 3
           },
           {
            "bin_start": 2.55,
            "bin_end": 2.6,
            "count": 0
           },
           {
            "bin_start": 2.6,
            "bin_end": 2.65,
            "count": 0
           },
           {
            "bin_start": 2.65,
            "bin_end": 2.7,
            "count": 0
           },
           {
            "bin_start": 2.7,
            "bin_end": 2.75,
            "count": 0
           },
           {
            "bin_start": 2.75,
            "bin_end": 2.8,
            "count": 0
           },
           {
            "bin_start": 2.8,
            "bin_end": 2.85,
            "count": 0
           },
           {
            "bin_start": 2.85,
            "bin_end": 2.9,
            "count": 0
           },
           {
            "bin_start": 2.9,
            "bin_end": 2.95,
            "count": 0
           },
           {
            "bin_start": 2.95,
            "bin_end": 3,
            "count": 2
           }
          ]
         }
        },
        {
         "name": "body_type",
         "dtype": "object",
         "stats": {
          "unique_count": 3,
          "nan_count": 0,
          "categories": [
           {
            "name": "universal",
            "count": 3
           },
           {
            "name": "suv",
            "count": 1
           },
           {
            "name": "sedan",
            "count": 1
           }
          ]
         }
        },
        {
         "name": "has_warranty",
         "dtype": "bool",
         "stats": {
          "unique_count": 1,
          "nan_count": 0,
          "categories": [
           {
            "name": "False",
            "count": 5
           }
          ]
         }
        },
        {
         "name": "state",
         "dtype": "object",
         "stats": {
          "unique_count": 1,
          "nan_count": 0,
          "categories": [
           {
            "name": "owned",
            "count": 5
           }
          ]
         }
        },
        {
         "name": "drivetrain",
         "dtype": "object",
         "stats": {
          "unique_count": 1,
          "nan_count": 0,
          "categories": [
           {
            "name": "all",
            "count": 5
           }
          ]
         }
        },
        {
         "name": "price_usd",
         "dtype": "float64",
         "stats": {
          "unique_count": 5,
          "nan_count": 0,
          "min": "2134.11",
          "max": "10900.0",
          "histogram": [
           {
            "bin_start": 2134.11,
            "bin_end": 3010.699,
            "count": 2
           },
           {
            "bin_start": 3010.699,
            "bin_end": 3887.288,
            "count": 0
           },
           {
            "bin_start": 3887.288,
            "bin_end": 4763.877,
            "count": 0
           },
           {
            "bin_start": 4763.877,
            "bin_end": 5640.466,
            "count": 1
           },
           {
            "bin_start": 5640.466,
            "bin_end": 6517.055,
            "count": 0
           },
           {
            "bin_start": 6517.055,
            "bin_end": 7393.644,
            "count": 0
           },
           {
            "bin_start": 7393.644,
            "bin_end": 8270.233,
            "count": 0
           },
           {
            "bin_start": 8270.233,
            "bin_end": 9146.822,
            "count": 0
           },
           {
            "bin_start": 9146.822,
            "bin_end": 10023.411,
            "count": 1
           },
           {
            "bin_start": 10023.411,
            "bin_end": 10900,
            "count": 1
           }
          ]
         }
        },
        {
         "name": "is_exchangeable",
         "dtype": "bool",
         "stats": {
          "unique_count": 2,
          "nan_count": 0,
          "categories": [
           {
            "name": "True",
            "count": 4
           },
           {
            "name": "False",
            "count": 1
           }
          ]
         }
        },
        {
         "name": "location_region",
         "dtype": "object",
         "stats": {
          "unique_count": 2,
          "nan_count": 0,
          "categories": [
           {
            "name": "Минская обл.",
            "count": 4
           },
           {
            "name": "Гомельская обл.",
            "count": 1
           }
          ]
         }
        },
        {
         "name": "number_of_photos",
         "dtype": "int64",
         "stats": {
          "unique_count": 4,
          "nan_count": 0,
          "min": "4",
          "max": "14",
          "histogram": [
           {
            "bin_start": 4,
            "bin_end": 5,
            "count": 1
           },
           {
            "bin_start": 5,
            "bin_end": 6,
            "count": 0
           },
           {
            "bin_start": 6,
            "bin_end": 7,
            "count": 0
           },
           {
            "bin_start": 7,
            "bin_end": 8,
            "count": 0
           },
           {
            "bin_start": 8,
            "bin_end": 9,
            "count": 0
           },
           {
            "bin_start": 9,
            "bin_end": 10,
            "count": 2
           },
           {
            "bin_start": 10,
            "bin_end": 11,
            "count": 0
           },
           {
            "bin_start": 11,
            "bin_end": 12,
            "count": 0
           },
           {
            "bin_start": 12,
            "bin_end": 13,
            "count": 1
           },
           {
            "bin_start": 13,
            "bin_end": 14,
            "count": 1
           }
          ]
         }
        },
        {
         "name": "up_counter",
         "dtype": "int64",
         "stats": {
          "unique_count": 5,
          "nan_count": 0,
          "min": "7",
          "max": "72",
          "histogram": [
           {
            "bin_start": 7,
            "bin_end": 13.5,
            "count": 2
           },
           {
            "bin_start": 13.5,
            "bin_end": 20,
            "count": 0
           },
           {
            "bin_start": 20,
            "bin_end": 26.5,
            "count": 0
           },
           {
            "bin_start": 26.5,
            "bin_end": 33,
            "count": 0
           },
           {
            "bin_start": 33,
            "bin_end": 39.5,
            "count": 0
           },
           {
            "bin_start": 39.5,
            "bin_end": 46,
            "count": 1
           },
           {
            "bin_start": 46,
            "bin_end": 52.5,
            "count": 0
           },
           {
            "bin_start": 52.5,
            "bin_end": 59,
            "count": 1
           },
           {
            "bin_start": 59,
            "bin_end": 65.5,
            "count": 0
           },
           {
            "bin_start": 65.5,
            "bin_end": 72,
            "count": 1
           }
          ]
         }
        },
        {
         "name": "duration_listed",
         "dtype": "int64",
         "stats": {
          "unique_count": 5,
          "nan_count": 0,
          "min": "7",
          "max": "151",
          "histogram": [
           {
            "bin_start": 7,
            "bin_end": 21.4,
            "count": 2
           },
           {
            "bin_start": 21.4,
            "bin_end": 35.8,
            "count": 0
           },
           {
            "bin_start": 35.8,
            "bin_end": 50.2,
            "count": 0
           },
           {
            "bin_start": 50.2,
            "bin_end": 64.6,
            "count": 0
           },
           {
            "bin_start": 64.6,
            "bin_end": 79,
            "count": 0
           },
           {
            "bin_start": 79,
            "bin_end": 93.4,
            "count": 2
           },
           {
            "bin_start": 93.4,
            "bin_end": 107.8,
            "count": 0
           },
           {
            "bin_start": 107.8,
            "bin_end": 122.2,
            "count": 0
           },
           {
            "bin_start": 122.2,
            "bin_end": 136.6,
            "count": 0
           },
           {
            "bin_start": 136.6,
            "bin_end": 151,
            "count": 1
           }
          ]
         }
        },
        {
         "name": "_deepnote_index_column",
         "dtype": "int64"
        }
       ],
       "rows_top": [
        {
         "manufacturer_name": "Subaru",
         "model_name": "Outback",
         "transmission": "automatic",
         "color": "silver",
         "odometer_value": 190000,
         "year_produced": 2010,
         "engine_fuel": "gasoline",
         "engine_has_gas": "False",
         "engine_type": "gasoline",
         "engine_capacity": 2.5,
         "body_type": "universal",
         "has_warranty": "False",
         "state": "owned",
         "drivetrain": "all",
         "price_usd": 10900,
         "is_exchangeable": "False",
         "location_region": "Минская обл.",
         "number_of_photos": 9,
         "up_counter": 13,
         "duration_listed": 16,
         "_deepnote_index_column": 0
        },
        {
         "manufacturer_name": "Subaru",
         "model_name": "Outback",
         "transmission": "automatic",
         "color": "blue",
         "odometer_value": 290000,
         "year_produced": 2002,
         "engine_fuel": "gasoline",
         "engine_has_gas": "False",
         "engine_type": "gasoline",
         "engine_capacity": 3,
         "body_type": "universal",
         "has_warranty": "False",
         "state": "owned",
         "drivetrain": "all",
         "price_usd": 5000,
         "is_exchangeable": "True",
         "location_region": "Минская обл.",
         "number_of_photos": 12,
         "up_counter": 54,
         "duration_listed": 83,
         "_deepnote_index_column": 1
        },
        {
         "manufacturer_name": "Subaru",
         "model_name": "Forester",
         "transmission": "automatic",
         "color": "red",
         "odometer_value": 402000,
         "year_produced": 2001,
         "engine_fuel": "gasoline",
         "engine_has_gas": "False",
         "engine_type": "gasoline",
         "engine_capacity": 2.5,
         "body_type": "suv",
         "has_warranty": "False",
         "state": "owned",
         "drivetrain": "all",
         "price_usd": 2800,
         "is_exchangeable": "True",
         "location_region": "Минская обл.",
         "number_of_photos": 4,
         "up_counter": 72,
         "duration_listed": 151,
         "_deepnote_index_column": 2
        },
        {
         "manufacturer_name": "Subaru",
         "model_name": "Impreza",
         "transmission": "mechanical",
         "color": "blue",
         "odometer_value": 10000,
         "year_produced": 1999,
         "engine_fuel": "gasoline",
         "engine_has_gas": "False",
         "engine_type": "gasoline",
         "engine_capacity": 3,
         "body_type": "sedan",
         "has_warranty": "False",
         "state": "owned",
         "drivetrain": "all",
         "price_usd": 9999,
         "is_exchangeable": "True",
         "location_region": "Минская обл.",
         "number_of_photos": 9,
         "up_counter": 42,
         "duration_listed": 86,
         "_deepnote_index_column": 3
        },
        {
         "manufacturer_name": "Subaru",
         "model_name": "Legacy",
         "transmission": "automatic",
         "color": "black",
         "odometer_value": 280000,
         "year_produced": 2001,
         "engine_fuel": "gasoline",
         "engine_has_gas": "False",
         "engine_type": "gasoline",
         "engine_capacity": 2.5,
         "body_type": "universal",
         "has_warranty": "False",
         "state": "owned",
         "drivetrain": "all",
         "price_usd": 2134.11,
         "is_exchangeable": "True",
         "location_region": "Гомельская обл.",
         "number_of_photos": 14,
         "up_counter": 7,
         "duration_listed": 7,
         "_deepnote_index_column": 4
        }
       ],
       "rows_bottom": null
      },
      "text/plain": "  manufacturer_name model_name transmission   color  odometer_value  \\\n0            Subaru    Outback    automatic  silver          190000   \n1            Subaru    Outback    automatic    blue          290000   \n2            Subaru   Forester    automatic     red          402000   \n3            Subaru    Impreza   mechanical    blue           10000   \n4            Subaru     Legacy    automatic   black          280000   \n\n   year_produced engine_fuel  engine_has_gas engine_type  engine_capacity  \\\n0           2010    gasoline           False    gasoline              2.5   \n1           2002    gasoline           False    gasoline              3.0   \n2           2001    gasoline           False    gasoline              2.5   \n3           1999    gasoline           False    gasoline              3.0   \n4           2001    gasoline           False    gasoline              2.5   \n\n   body_type  has_warranty  state drivetrain  price_usd  is_exchangeable  \\\n0  universal         False  owned        all   10900.00            False   \n1  universal         False  owned        all    5000.00             True   \n2        suv         False  owned        all    2800.00             True   \n3      sedan         False  owned        all    9999.00             True   \n4  universal         False  owned        all    2134.11             True   \n\n   location_region  number_of_photos  up_counter  duration_listed  \n0     Минская обл.                 9          13               16  \n1     Минская обл.                12          54               83  \n2     Минская обл.                 4          72              151  \n3     Минская обл.                 9          42               86  \n4  Гомельская обл.                14           7                7  ",
      "text/html": "<div>\n<style scoped>\n    .dataframe tbody tr th:only-of-type {\n        vertical-align: middle;\n    }\n\n    .dataframe tbody tr th {\n        vertical-align: top;\n    }\n\n    .dataframe thead th {\n        text-align: right;\n    }\n</style>\n<table border=\"1\" class=\"dataframe\">\n  <thead>\n    <tr style=\"text-align: right;\">\n      <th></th>\n      <th>manufacturer_name</th>\n      <th>model_name</th>\n      <th>transmission</th>\n      <th>color</th>\n      <th>odometer_value</th>\n      <th>year_produced</th>\n      <th>engine_fuel</th>\n      <th>engine_has_gas</th>\n      <th>engine_type</th>\n      <th>engine_capacity</th>\n      <th>body_type</th>\n      <th>has_warranty</th>\n      <th>state</th>\n      <th>drivetrain</th>\n      <th>price_usd</th>\n      <th>is_exchangeable</th>\n      <th>location_region</th>\n      <th>number_of_photos</th>\n      <th>up_counter</th>\n      <th>duration_listed</th>\n    </tr>\n  </thead>\n  <tbody>\n    <tr>\n      <th>0</th>\n      <td>Subaru</td>\n      <td>Outback</td>\n      <td>automatic</td>\n      <td>silver</td>\n      <td>190000</td>\n      <td>2010</td>\n      <td>gasoline</td>\n      <td>False</td>\n      <td>gasoline</td>\n      <td>2.5</td>\n      <td>universal</td>\n      <td>False</td>\n      <td>owned</td>\n      <td>all</td>\n      <td>10900.00</td>\n      <td>False</td>\n      <td>Минская обл.</td>\n      <td>9</td>\n      <td>13</td>\n      <td>16</td>\n    </tr>\n    <tr>\n      <th>1</th>\n      <td>Subaru</td>\n      <td>Outback</td>\n      <td>automatic</td>\n      <td>blue</td>\n      <td>290000</td>\n      <td>2002</td>\n      <td>gasoline</td>\n      <td>False</td>\n      <td>gasoline</td>\n      <td>3.0</td>\n      <td>universal</td>\n      <td>False</td>\n      <td>owned</td>\n      <td>all</td>\n      <td>5000.00</td>\n      <td>True</td>\n      <td>Минская обл.</td>\n      <td>12</td>\n      <td>54</td>\n      <td>83</td>\n    </tr>\n    <tr>\n      <th>2</th>\n      <td>Subaru</td>\n      <td>Forester</td>\n      <td>automatic</td>\n      <td>red</td>\n      <td>402000</td>\n      <td>2001</td>\n      <td>gasoline</td>\n      <td>False</td>\n      <td>gasoline</td>\n      <td>2.5</td>\n      <td>suv</td>\n      <td>False</td>\n      <td>owned</td>\n      <td>all</td>\n      <td>2800.00</td>\n      <td>True</td>\n      <td>Минская обл.</td>\n      <td>4</td>\n      <td>72</td>\n      <td>151</td>\n    </tr>\n    <tr>\n      <th>3</th>\n      <td>Subaru</td>\n      <td>Impreza</td>\n      <td>mechanical</td>\n      <td>blue</td>\n      <td>10000</td>\n      <td>1999</td>\n      <td>gasoline</td>\n      <td>False</td>\n      <td>gasoline</td>\n      <td>3.0</td>\n      <td>sedan</td>\n      <td>False</td>\n      <td>owned</td>\n      <td>all</td>\n      <td>9999.00</td>\n      <td>True</td>\n      <td>Минская обл.</td>\n      <td>9</td>\n      <td>42</td>\n      <td>86</td>\n    </tr>\n    <tr>\n      <th>4</th>\n      <td>Subaru</td>\n      <td>Legacy</td>\n      <td>automatic</td>\n      <td>black</td>\n      <td>280000</td>\n      <td>2001</td>\n      <td>gasoline</td>\n      <td>False</td>\n      <td>gasoline</td>\n      <td>2.5</td>\n      <td>universal</td>\n      <td>False</td>\n      <td>owned</td>\n      <td>all</td>\n      <td>2134.11</td>\n      <td>True</td>\n      <td>Гомельская обл.</td>\n      <td>14</td>\n      <td>7</td>\n      <td>7</td>\n    </tr>\n  </tbody>\n</table>\n</div>"
     },
     "metadata": {}
    }
   ]
  },
  {
   "cell_type": "code",
   "metadata": {
    "tags": [],
    "cell_id": "00017-20b81305-f019-4bd1-93de-29c5a731c831",
    "deepnote_to_be_reexecuted": false,
    "source_hash": "eb0e8f48",
    "execution_start": 1635894747982,
    "execution_millis": 3305,
    "deepnote_cell_type": "code"
   },
   "source": "sns.heatmap(NewDF.corr(), annot=True)",
   "execution_count": 8,
   "outputs": [
    {
     "output_type": "execute_result",
     "execution_count": 8,
     "data": {
      "text/plain": "<AxesSubplot:>"
     },
     "metadata": {}
    },
    {
     "data": {
      "text/plain": "<Figure size 432x288 with 2 Axes>",
      "image/png": "[encoded data removed]"
     },
     "metadata": {
      "needs_background": "light",
      "image/png": {
       "width": 440,
       "height": 335
      }
     },
     "output_type": "display_data"
    }
   ]
  },
  {
   "cell_type": "code",
   "metadata": {
    "tags": [],
    "cell_id": "00014-5f110f9e-98a0-450e-a9f2-80fb749b3200",
    "deepnote_to_be_reexecuted": false,
    "source_hash": "6dec5d5f",
    "execution_start": 1635894751300,
    "execution_millis": 753,
    "deepnote_cell_type": "code"
   },
   "source": "# sns.boxplot(x = 'price_usd', y = 'duration_listed', data = df)\nsns.scatterplot(data=df, x = 'year_produced', y = 'price_usd')",
   "execution_count": 9,
   "outputs": [
    {
     "output_type": "execute_result",
     "execution_count": 9,
     "data": {
      "text/plain": "<AxesSubplot:xlabel='year_produced', ylabel='price_usd'>"
     },
     "metadata": {}
    },
    {
     "data": {
      "text/plain": "<Figure size 432x288 with 1 Axes>",
      "image/png": "[encoded data removed]"
     },
     "metadata": {
      "needs_background": "light",
      "image/png": {
       "width": 403,
       "height": 263
      }
     },
     "output_type": "display_data"
    }
   ]
  },
  {
   "cell_type": "code",
   "metadata": {
    "tags": [],
    "cell_id": "00016-915f6a81-3e1c-43bd-8004-40dda3e9a461",
    "deepnote_to_be_reexecuted": false,
    "source_hash": "390b11dc",
    "execution_start": 1635894751821,
    "execution_millis": 241,
    "deepnote_cell_type": "code"
   },
   "source": "sns.boxplot(x = 'price_usd', data = NewDF)",
   "execution_count": 10,
   "outputs": [
    {
     "output_type": "execute_result",
     "execution_count": 10,
     "data": {
      "text/plain": "<AxesSubplot:xlabel='price_usd'>"
     },
     "metadata": {}
    },
    {
     "data": {
      "text/plain": "<Figure size 432x288 with 1 Axes>",
      "image/png": "[encoded data removed]"
     },
     "metadata": {
      "needs_background": "light",
      "image/png": {
       "width": 353,
       "height": 263
      }
     },
     "output_type": "display_data"
    }
   ]
  },
  {
   "cell_type": "code",
   "metadata": {
    "tags": [],
    "cell_id": "00018-339fcc01-08fc-4b58-9f51-7d8825c8a26d",
    "deepnote_to_be_reexecuted": false,
    "source_hash": "7cbf7308",
    "execution_start": 1635894752053,
    "execution_millis": 334,
    "deepnote_cell_type": "code"
   },
   "source": "NewDF['price_usd'].hist()",
   "execution_count": 11,
   "outputs": [
    {
     "output_type": "execute_result",
     "execution_count": 11,
     "data": {
      "text/plain": "<AxesSubplot:>"
     },
     "metadata": {}
    },
    {
     "data": {
      "text/plain": "<Figure size 432x288 with 1 Axes>",
      "image/png": "[encoded data removed]"
     },
     "metadata": {
      "needs_background": "light",
      "image/png": {
       "width": 388,
       "height": 248
      }
     },
     "output_type": "display_data"
    }
   ]
  },
  {
   "cell_type": "code",
   "metadata": {
    "tags": [],
    "cell_id": "00018-4a833593-0d01-43cd-837e-bcdbfa41e700",
    "deepnote_to_be_reexecuted": false,
    "source_hash": "c62f2f9b",
    "execution_start": 1635894752391,
    "execution_millis": 307,
    "deepnote_cell_type": "code"
   },
   "source": "NewDF['year_produced'].hist()",
   "execution_count": 12,
   "outputs": [
    {
     "output_type": "execute_result",
     "execution_count": 12,
     "data": {
      "text/plain": "<AxesSubplot:>"
     },
     "metadata": {}
    },
    {
     "data": {
      "text/plain": "<Figure size 432x288 with 1 Axes>",
      "image/png": "[encoded data removed]"
     },
     "metadata": {
      "needs_background": "light",
      "image/png": {
       "width": 389,
       "height": 248
      }
     },
     "output_type": "display_data"
    }
   ]
  },
  {
   "cell_type": "code",
   "metadata": {
    "tags": [],
    "cell_id": "00019-08b727e1-81bf-451f-b028-d6e6e6eadd9d",
    "deepnote_to_be_reexecuted": false,
    "source_hash": "6d173d3f",
    "execution_start": 1635894752697,
    "execution_millis": 8,
    "deepnote_cell_type": "code"
   },
   "source": "# p = 10000\n# NewDF['year_produced'] = df.price_usd.apply(lambda x: np.tanh(x/p))\n# NewDF['year_produced'].hist()",
   "execution_count": 13,
   "outputs": []
  },
  {
   "cell_type": "code",
   "metadata": {
    "tags": [],
    "cell_id": "00019-a9f84c94-42d9-4e15-b557-215463a93780",
    "deepnote_to_be_reexecuted": false,
    "source_hash": "d3b96f94",
    "execution_start": 1635894752708,
    "execution_millis": 421,
    "deepnote_cell_type": "code"
   },
   "source": "p = 10000\nNewDF['price_usd'] = df.price_usd.apply(lambda x: np.tanh(x/p))\nnp.arctanh\nNewDF['price_usd'].hist()",
   "execution_count": 14,
   "outputs": [
    {
     "output_type": "execute_result",
     "execution_count": 14,
     "data": {
      "text/plain": "<AxesSubplot:>"
     },
     "metadata": {}
    },
    {
     "data": {
      "text/plain": "<Figure size 432x288 with 1 Axes>",
      "image/png": "[encoded data removed]"
     },
     "metadata": {
      "needs_background": "light",
      "image/png": {
       "width": 381,
       "height": 248
      }
     },
     "output_type": "display_data"
    }
   ]
  },
  {
   "cell_type": "code",
   "metadata": {
    "tags": [],
    "cell_id": "00020-29d679e0-bd82-4f7a-8902-151d9d8380a7",
    "deepnote_to_be_reexecuted": false,
    "source_hash": "9d29dd02",
    "execution_start": 1635894753132,
    "execution_millis": 1282,
    "deepnote_cell_type": "code"
   },
   "source": "sns.jointplot(x= NewDF['year_produced'], y=NewDF['price_usd'])",
   "execution_count": 15,
   "outputs": [
    {
     "output_type": "execute_result",
     "execution_count": 15,
     "data": {
      "text/plain": "<seaborn.axisgrid.JointGrid at 0x7f07186c5f70>"
     },
     "metadata": {}
    },
    {
     "data": {
      "text/plain": "<Figure size 432x432 with 3 Axes>",
      "image/png": "[encoded data removed]"
     },
     "metadata": {
      "needs_background": "light",
      "image/png": {
       "width": 424,
       "height": 424
      }
     },
     "output_type": "display_data"
    }
   ]
  },
  {
   "cell_type": "code",
   "metadata": {
    "tags": [],
    "cell_id": "00017-b2488ea3-37e7-4aa9-8fe0-fcb1bb02ef9e",
    "deepnote_to_be_reexecuted": false,
    "source_hash": "8876fd0b",
    "execution_start": 1635894754415,
    "execution_millis": 241,
    "deepnote_cell_type": "code"
   },
   "source": "sns.boxplot(x = 'year_produced', data = NewDF)",
   "execution_count": 16,
   "outputs": [
    {
     "output_type": "execute_result",
     "execution_count": 16,
     "data": {
      "text/plain": "<AxesSubplot:xlabel='year_produced'>"
     },
     "metadata": {}
    },
    {
     "data": {
      "text/plain": "<Figure size 432x288 with 1 Axes>",
      "image/png": "[encoded data removed]"
     },
     "metadata": {
      "needs_background": "light",
      "image/png": {
       "width": 355,
       "height": 263
      }
     },
     "output_type": "display_data"
    }
   ]
  },
  {
   "cell_type": "code",
   "metadata": {
    "tags": [],
    "cell_id": "00021-7c44440b-4623-4b4b-aa63-da02d6dfd454",
    "deepnote_to_be_reexecuted": false,
    "source_hash": "390b11dc",
    "execution_start": 1635894754661,
    "execution_millis": 217,
    "deepnote_cell_type": "code"
   },
   "source": "sns.boxplot(x = 'price_usd', data = NewDF)",
   "execution_count": 17,
   "outputs": [
    {
     "output_type": "execute_result",
     "execution_count": 17,
     "data": {
      "text/plain": "<AxesSubplot:xlabel='price_usd'>"
     },
     "metadata": {}
    },
    {
     "data": {
      "text/plain": "<Figure size 432x288 with 1 Axes>",
      "image/png": "[encoded data removed]"
     },
     "metadata": {
      "needs_background": "light",
      "image/png": {
       "width": 352,
       "height": 263
      }
     },
     "output_type": "display_data"
    }
   ]
  },
  {
   "cell_type": "code",
   "metadata": {
    "tags": [],
    "cell_id": "00024-f742269f-6ae8-417b-a75d-8241a18c6df0",
    "deepnote_to_be_reexecuted": false,
    "source_hash": "4920b49c",
    "execution_start": 1635894754880,
    "execution_millis": 8,
    "deepnote_cell_type": "code"
   },
   "source": "def estimate_b1_b0(x,y):\n\n    # Obtenemos el promedio de X , Y\n    m_x, m_y = np.mean(x), np.mean(y)\n    \n    # Calculamos las sumatorias \n    sumatoria_xy = np.sum((x-m_x) * (y-m_y))\n    sumatoria_xx = np.sum((x-m_x)**2)\n    \n    # Coeficiente de regresion\n    b_1 = sumatoria_xy / sumatoria_xx\n    b_0 = m_y - b_1 * m_x\n    return (b_0,b_1) ",
   "execution_count": 18,
   "outputs": []
  },
  {
   "cell_type": "code",
   "metadata": {
    "tags": [],
    "cell_id": "00025-3916b04f-ea1f-4de3-b493-555ac093e6f8",
    "deepnote_to_be_reexecuted": false,
    "source_hash": "ad88410c",
    "execution_start": 1635894754892,
    "execution_millis": 8,
    "deepnote_cell_type": "code"
   },
   "source": "def plot_regresion(x,y,b):\n\n    plt.scatter(x,y, color ='g', marker='o',s=30)\n\n    y_pred = b[0] + b[1] * x\n    plt.plot(x,y_pred,color='b')\n\n    plt.xlabel('x-Independiente')\n    plt.ylabel('y-Dependiente')\n    \n    plt.show()",
   "execution_count": 19,
   "outputs": []
  },
  {
   "cell_type": "code",
   "metadata": {
    "tags": [],
    "cell_id": "00026-63c736a3-ba02-4eb1-be20-bbe7f1635198",
    "deepnote_to_be_reexecuted": false,
    "source_hash": "4a7f7032",
    "execution_start": 1635894754905,
    "execution_millis": 398,
    "deepnote_cell_type": "code"
   },
   "source": "def main():\n    \n    x = NewDF['year_produced']\n    y = NewDF['price_usd']\n\n    b = estimate_b1_b0(x,y)\n    print(f'Los valores de b0 = {b[0]}, y b1 = {b[1]}')\n\n    plot_regresion(x,y,b)\n    \nif __name__ == '__main__':\n    main()",
   "execution_count": 20,
   "outputs": [
    {
     "name": "stdout",
     "text": "Los valores de b0 = -58.33077375945124, y b1 = 0.029357697713157015\n",
     "output_type": "stream"
    },
    {
     "data": {
      "text/plain": "<Figure size 432x288 with 1 Axes>",
      "image/png": "[encoded data removed]"
     },
     "metadata": {
      "needs_background": "light",
      "image/png": {
       "width": 395,
       "height": 262
      }
     },
     "output_type": "display_data"
    }
   ]
  },
  {
   "cell_type": "markdown",
   "source": "<a style='text-decoration:none;line-height:16px;display:flex;color:#5B5B62;padding:10px;justify-content:end;' href='https://deepnote.com?utm_source=created-in-deepnote-cell&projectId=6546a603-27c4-462c-b3e4-3d77f9bf61da' target=\"_blank\">\n<img alt='Created in deepnote.com' style='display:inline;max-height:16px;margin:0px;margin-right:7.5px;' src='data:image/svg+xml;base64,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' > </img>\nCreated in <span style='font-weight:600;margin-left:4px;'>Deepnote</span></a>",
   "metadata": {
    "tags": [],
    "created_in_deepnote_cell": true,
    "deepnote_cell_type": "markdown"
   }
  }
 ],
 "nbformat": 4,
 "nbformat_minor": 2,
 "metadata": {
  "orig_nbformat": 2,
  "deepnote": {
   "is_reactive": false
  },
  "deepnote_notebook_id": "ebaa2a0c-1215-445b-8ec7-555448b7b75a",
  "deepnote_execution_queue": []
 }
}