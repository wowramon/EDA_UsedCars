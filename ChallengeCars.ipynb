{
 "cells": [
  {
   "cell_type": "markdown",
   "source": "Challenge Exploratory Data\n\nBuscamos la demanda de autos por color,\nEs decir que color suelen ser mas demandados en la industria automotriz, para ello compararemos el kilometraje de cada auto en relacion a color y luego compararemos el precio con el color, para saber si el color de verdad es un factor que pueda afectar directamente a la demanda.",
   "metadata": {
    "tags": [],
    "cell_id": "00001-d40e4363-33b3-4d9d-8050-b11db72cefd4",
    "deepnote_cell_type": "markdown"
   }
  },
  {
   "cell_type": "markdown",
   "source": "Empezamos importando las librerias necesarias para este analisis,\nen esta ocacion tomaremos el siguiente Dataset : https://www.kaggle.com/lepchenkov/usedcarscatalog\n",
   "metadata": {
    "tags": [],
    "cell_id": "00001-859be416-ef76-469e-bde0-701be4064b11",
    "deepnote_cell_type": "markdown"
   }
  },
  {
   "cell_type": "code",
   "metadata": {
    "tags": [],
    "cell_id": "00001-f359d235-547e-401b-8581-ebc7111847e2",
    "deepnote_to_be_reexecuted": false,
    "source_hash": "322a3e9",
    "execution_start": 1634487440133,
    "execution_millis": 1751,
    "deepnote_cell_type": "code"
   },
   "source": "import pandas as pd\nimport seaborn as sns\n\ndf = pd.read_csv('cars.csv')\ndf",
   "outputs": [
    {
     "output_type": "execute_result",
     "execution_count": 1,
     "data": {
      "application/vnd.deepnote.dataframe.v2+json": {
       "row_count": 38531,
       "column_count": 30,
       "columns": [
        {
         "name": "manufacturer_name",
         "dtype": "object",
         "stats": {
          "unique_count": 55,
          "nan_count": 0,
          "categories": [
           {
            "name": "Volkswagen",
            "count": 4243
           },
           {
            "name": "Opel",
            "count": 2759
           },
           {
            "name": "53 others",
            "count": 31529
           }
          ]
         }
        },
        {
         "name": "model_name",
         "dtype": "object",
         "stats": {
          "unique_count": 1118,
          "nan_count": 0,
          "categories": [
           {
            "name": "Passat",
            "count": 1423
           },
           {
            "name": "Astra",
            "count": 751
           },
           {
            "name": "1116 others",
            "count": 36357
           }
          ]
         }
        },
        {
         "name": "transmission",
         "dtype": "object"
        },
        {
         "name": "color",
         "dtype": "object"
        },
        {
         "name": "odometer_value",
         "dtype": "int64"
        },
        {
         "name": "year_produced",
         "dtype": "int64"
        },
        {
         "name": "engine_fuel",
         "dtype": "object"
        },
        {
         "name": "engine_has_gas",
         "dtype": "bool"
        },
        {
         "name": "engine_type",
         "dtype": "object"
        },
        {
         "name": "engine_capacity",
         "dtype": "float64"
        },
        {
         "name": "body_type",
         "dtype": "object"
        },
        {
         "name": "has_warranty",
         "dtype": "bool"
        },
        {
         "name": "state",
         "dtype": "object"
        },
        {
         "name": "drivetrain",
         "dtype": "object"
        },
        {
         "name": "price_usd",
         "dtype": "float64"
        },
        {
         "name": "is_exchangeable",
         "dtype": "bool"
        },
        {
         "name": "location_region",
         "dtype": "object"
        },
        {
         "name": "number_of_photos",
         "dtype": "int64"
        },
        {
         "name": "up_counter",
         "dtype": "int64"
        },
        {
         "name": "feature_0",
         "dtype": "bool"
        },
        {
         "name": "feature_1",
         "dtype": "bool"
        },
        {
         "name": "feature_2",
         "dtype": "bool"
        },
        {
         "name": "feature_3",
         "dtype": "bool"
        },
        {
         "name": "feature_4",
         "dtype": "bool"
        },
        {
         "name": "feature_5",
         "dtype": "bool"
        },
        {
         "name": "feature_6",
         "dtype": "bool"
        },
        {
         "name": "feature_7",
         "dtype": "bool"
        },
        {
         "name": "feature_8",
         "dtype": "bool"
        },
        {
         "name": "feature_9",
         "dtype": "bool"
        },
        {
         "name": "duration_listed",
         "dtype": "int64"
        },
        {
         "name": "_deepnote_index_column",
         "dtype": "int64"
        }
       ],
       "rows_top": [
        {
         "manufacturer_name": "Subaru",
         "model_name": "Outback",
         "transmission": "automatic",
         "color": "silver",
         "odometer_value": 190000,
         "year_produced": 2010,
         "engine_fuel": "gasoline",
         "engine_has_gas": "False",
         "engine_type": "gasoline",
         "engine_capacity": 2.5,
         "body_type": "universal",
         "has_warranty": "False",
         "state": "owned",
         "drivetrain": "all",
         "price_usd": 10900,
         "is_exchangeable": "False",
         "location_region": "Минская обл.",
         "number_of_photos": 9,
         "up_counter": 13,
         "feature_0": "False",
         "feature_1": "True",
         "feature_2": "True",
         "feature_3": "True",
         "feature_4": "False",
         "feature_5": "True",
         "feature_6": "False",
         "feature_7": "True",
         "feature_8": "True",
         "feature_9": "True",
         "duration_listed": 16,
         "_deepnote_index_column": 0
        },
        {
         "manufacturer_name": "Subaru",
         "model_name": "Outback",
         "transmission": "automatic",
         "color": "blue",
         "odometer_value": 290000,
         "year_produced": 2002,
         "engine_fuel": "gasoline",
         "engine_has_gas": "False",
         "engine_type": "gasoline",
         "engine_capacity": 3,
         "body_type": "universal",
         "has_warranty": "False",
         "state": "owned",
         "drivetrain": "all",
         "price_usd": 5000,
         "is_exchangeable": "True",
         "location_region": "Минская обл.",
         "number_of_photos": 12,
         "up_counter": 54,
         "feature_0": "False",
         "feature_1": "True",
         "feature_2": "False",
         "feature_3": "False",
         "feature_4": "True",
         "feature_5": "True",
         "feature_6": "False",
         "feature_7": "False",
         "feature_8": "False",
         "feature_9": "True",
         "duration_listed": 83,
         "_deepnote_index_column": 1
        },
        {
         "manufacturer_name": "Subaru",
         "model_name": "Forester",
         "transmission": "automatic",
         "color": "red",
         "odometer_value": 402000,
         "year_produced": 2001,
         "engine_fuel": "gasoline",
         "engine_has_gas": "False",
         "engine_type": "gasoline",
         "engine_capacity": 2.5,
         "body_type": "suv",
         "has_warranty": "False",
         "state": "owned",
         "drivetrain": "all",
         "price_usd": 2800,
         "is_exchangeable": "True",
         "location_region": "Минская обл.",
         "number_of_photos": 4,
         "up_counter": 72,
         "feature_0": "False",
         "feature_1": "True",
         "feature_2": "False",
         "feature_3": "False",
         "feature_4": "False",
         "feature_5": "False",
         "feature_6": "False",
         "feature_7": "False",
         "feature_8": "True",
         "feature_9": "True",
         "duration_listed": 151,
         "_deepnote_index_column": 2
        },
        {
         "manufacturer_name": "Subaru",
         "model_name": "Impreza",
         "transmission": "mechanical",
         "color": "blue",
         "odometer_value": 10000,
         "year_produced": 1999,
         "engine_fuel": "gasoline",
         "engine_has_gas": "False",
         "engine_type": "gasoline",
         "engine_capacity": 3,
         "body_type": "sedan",
         "has_warranty": "False",
         "state": "owned",
         "drivetrain": "all",
         "price_usd": 9999,
         "is_exchangeable": "True",
         "location_region": "Минская обл.",
         "number_of_photos": 9,
         "up_counter": 42,
         "feature_0": "True",
         "feature_1": "False",
         "feature_2": "False",
         "feature_3": "False",
         "feature_4": "False",
         "feature_5": "False",
         "feature_6": "False",
         "feature_7": "False",
         "feature_8": "False",
         "feature_9": "False",
         "duration_listed": 86,
         "_deepnote_index_column": 3
        },
        {
         "manufacturer_name": "Subaru",
         "model_name": "Legacy",
         "transmission": "automatic",
         "color": "black",
         "odometer_value": 280000,
         "year_produced": 2001,
         "engine_fuel": "gasoline",
         "engine_has_gas": "False",
         "engine_type": "gasoline",
         "engine_capacity": 2.5,
         "body_type": "universal",
         "has_warranty": "False",
         "state": "owned",
         "drivetrain": "all",
         "price_usd": 2134.11,
         "is_exchangeable": "True",
         "location_region": "Гомельская обл.",
         "number_of_photos": 14,
         "up_counter": 7,
         "feature_0": "False",
         "feature_1": "True",
         "feature_2": "False",
         "feature_3": "True",
         "feature_4": "True",
         "feature_5": "False",
         "feature_6": "False",
         "feature_7": "False",
         "feature_8": "False",
         "feature_9": "True",
         "duration_listed": 7,
         "_deepnote_index_column": 4
        },
        {
         "manufacturer_name": "Subaru",
         "model_name": "Outback",
         "transmission": "automatic",
         "color": "silver",
         "odometer_value": 132449,
         "year_produced": 2011,
         "engine_fuel": "gasoline",
         "engine_has_gas": "False",
         "engine_type": "gasoline",
         "engine_capacity": 2.5,
         "body_type": "universal",
         "has_warranty": "False",
         "state": "owned",
         "drivetrain": "all",
         "price_usd": 14700,
         "is_exchangeable": "True",
         "location_region": "Минская обл.",
         "number_of_photos": 20,
         "up_counter": 56,
         "feature_0": "False",
         "feature_1": "True",
         "feature_2": "False",
         "feature_3": "False",
         "feature_4": "False",
         "feature_5": "True",
         "feature_6": "False",
         "feature_7": "True",
         "feature_8": "True",
         "feature_9": "True",
         "duration_listed": 67,
         "_deepnote_index_column": 5
        },
        {
         "manufacturer_name": "Subaru",
         "model_name": "Forester",
         "transmission": "automatic",
         "color": "black",
         "odometer_value": 318280,
         "year_produced": 1998,
         "engine_fuel": "gasoline",
         "engine_has_gas": "False",
         "engine_type": "gasoline",
         "engine_capacity": 2.5,
         "body_type": "universal",
         "has_warranty": "False",
         "state": "owned",
         "drivetrain": "all",
         "price_usd": 3000,
         "is_exchangeable": "True",
         "location_region": "Минская обл.",
         "number_of_photos": 8,
         "up_counter": 147,
         "feature_0": "False",
         "feature_1": "True",
         "feature_2": "False",
         "feature_3": "False",
         "feature_4": "True",
         "feature_5": "True",
         "feature_6": "False",
         "feature_7": "False",
         "feature_8": "True",
         "feature_9": "True",
         "duration_listed": 307,
         "_deepnote_index_column": 6
        },
        {
         "manufacturer_name": "Subaru",
         "model_name": "Legacy",
         "transmission": "automatic",
         "color": "silver",
         "odometer_value": 350000,
         "year_produced": 2004,
         "engine_fuel": "gasoline",
         "engine_has_gas": "False",
         "engine_type": "gasoline",
         "engine_capacity": 2.5,
         "body_type": "sedan",
         "has_warranty": "False",
         "state": "owned",
         "drivetrain": "all",
         "price_usd": 4500,
         "is_exchangeable": "False",
         "location_region": "Брестская обл.",
         "number_of_photos": 7,
         "up_counter": 29,
         "feature_0": "False",
         "feature_1": "True",
         "feature_2": "True",
         "feature_3": "False",
         "feature_4": "False",
         "feature_5": "False",
         "feature_6": "False",
         "feature_7": "False",
         "feature_8": "False",
         "feature_9": "True",
         "duration_listed": 73,
         "_deepnote_index_column": 7
        },
        {
         "manufacturer_name": "Subaru",
         "model_name": "Outback",
         "transmission": "automatic",
         "color": "grey",
         "odometer_value": 179000,
         "year_produced": 2010,
         "engine_fuel": "gasoline",
         "engine_has_gas": "False",
         "engine_type": "gasoline",
         "engine_capacity": 2.5,
         "body_type": "universal",
         "has_warranty": "False",
         "state": "owned",
         "drivetrain": "all",
         "price_usd": 12900,
         "is_exchangeable": "False",
         "location_region": "Минская обл.",
         "number_of_photos": 17,
         "up_counter": 33,
         "feature_0": "False",
         "feature_1": "True",
         "feature_2": "True",
         "feature_3": "True",
         "feature_4": "True",
         "feature_5": "True",
         "feature_6": "True",
         "feature_7": "True",
         "feature_8": "True",
         "feature_9": "True",
         "duration_listed": 87,
         "_deepnote_index_column": 8
        },
        {
         "manufacturer_name": "Subaru",
         "model_name": "Forester",
         "transmission": "automatic",
         "color": "silver",
         "odometer_value": 571317,
         "year_produced": 1999,
         "engine_fuel": "gasoline",
         "engine_has_gas": "False",
         "engine_type": "gasoline",
         "engine_capacity": 2.5,
         "body_type": "universal",
         "has_warranty": "False",
         "state": "owned",
         "drivetrain": "all",
         "price_usd": 4200,
         "is_exchangeable": "True",
         "location_region": "Минская обл.",
         "number_of_photos": 8,
         "up_counter": 11,
         "feature_0": "False",
         "feature_1": "True",
         "feature_2": "True",
         "feature_3": "False",
         "feature_4": "False",
         "feature_5": "True",
         "feature_6": "False",
         "feature_7": "False",
         "feature_8": "False",
         "feature_9": "True",
         "duration_listed": 43,
         "_deepnote_index_column": 9
        },
        {
         "manufacturer_name": "Subaru",
         "model_name": "Forester",
         "transmission": "mechanical",
         "color": "other",
         "odometer_value": 280000,
         "year_produced": 2003,
         "engine_fuel": "gasoline",
         "engine_has_gas": "False",
         "engine_type": "gasoline",
         "engine_capacity": 2,
         "body_type": "suv",
         "has_warranty": "False",
         "state": "owned",
         "drivetrain": "all",
         "price_usd": 6900,
         "is_exchangeable": "True",
         "location_region": "Минская обл.",
         "number_of_photos": 14,
         "up_counter": 6,
         "feature_0": "False",
         "feature_1": "True",
         "feature_2": "False",
         "feature_3": "True",
         "feature_4": "False",
         "feature_5": "True",
         "feature_6": "False",
         "feature_7": "True",
         "feature_8": "True",
         "feature_9": "True",
         "duration_listed": 11,
         "_deepnote_index_column": 10
        },
        {
         "manufacturer_name": "Subaru",
         "model_name": "Tribeca",
         "transmission": "automatic",
         "color": "grey",
         "odometer_value": 256000,
         "year_produced": 2008,
         "engine_fuel": "gasoline",
         "engine_has_gas": "False",
         "engine_type": "gasoline",
         "engine_capacity": 3.6,
         "body_type": "suv",
         "has_warranty": "False",
         "state": "owned",
         "drivetrain": "all",
         "price_usd": 8350,
         "is_exchangeable": "True",
         "location_region": "Минская обл.",
         "number_of_photos": 18,
         "up_counter": 61,
         "feature_0": "False",
         "feature_1": "True",
         "feature_2": "True",
         "feature_3": "True",
         "feature_4": "True",
         "feature_5": "True",
         "feature_6": "False",
         "feature_7": "False",
         "feature_8": "True",
         "feature_9": "True",
         "duration_listed": 80,
         "_deepnote_index_column": 11
        },
        {
         "manufacturer_name": "Subaru",
         "model_name": "Forester",
         "transmission": "mechanical",
         "color": "other",
         "odometer_value": 321000,
         "year_produced": 2002,
         "engine_fuel": "gasoline",
         "engine_has_gas": "False",
         "engine_type": "gasoline",
         "engine_capacity": 2,
         "body_type": "suv",
         "has_warranty": "False",
         "state": "owned",
         "drivetrain": "all",
         "price_usd": 4300,
         "is_exchangeable": "False",
         "location_region": "Минская обл.",
         "number_of_photos": 13,
         "up_counter": 2,
         "feature_0": "False",
         "feature_1": "True",
         "feature_2": "False",
         "feature_3": "False",
         "feature_4": "False",
         "feature_5": "False",
         "feature_6": "False",
         "feature_7": "False",
         "feature_8": "False",
         "feature_9": "False",
         "duration_listed": 2,
         "_deepnote_index_column": 12
        },
        {
         "manufacturer_name": "Subaru",
         "model_name": "Justy",
         "transmission": "mechanical",
         "color": "red",
         "odometer_value": 49999,
         "year_produced": 2001,
         "engine_fuel": "gasoline",
         "engine_has_gas": "False",
         "engine_type": "gasoline",
         "engine_capacity": 1.3,
         "body_type": "hatchback",
         "has_warranty": "False",
         "state": "owned",
         "drivetrain": "all",
         "price_usd": 1666,
         "is_exchangeable": "False",
         "location_region": "Гомельская обл.",
         "number_of_photos": 8,
         "up_counter": 94,
         "feature_0": "True",
         "feature_1": "False",
         "feature_2": "False",
         "feature_3": "False",
         "feature_4": "False",
         "feature_5": "False",
         "feature_6": "False",
         "feature_7": "False",
         "feature_8": "False",
         "feature_9": "False",
         "duration_listed": 230,
         "_deepnote_index_column": 13
        },
        {
         "manufacturer_name": "Subaru",
         "model_name": "Outback",
         "transmission": "automatic",
         "color": "brown",
         "odometer_value": 154685,
         "year_produced": 2011,
         "engine_fuel": "gasoline",
         "engine_has_gas": "False",
         "engine_type": "gasoline",
         "engine_capacity": 2.5,
         "body_type": "universal",
         "has_warranty": "False",
         "state": "owned",
         "drivetrain": "all",
         "price_usd": 8600,
         "is_exchangeable": "True",
         "location_region": "Минская обл.",
         "number_of_photos": 24,
         "up_counter": 34,
         "feature_0": "False",
         "feature_1": "True",
         "feature_2": "False",
         "feature_3": "True",
         "feature_4": "False",
         "feature_5": "False",
         "feature_6": "False",
         "feature_7": "False",
         "feature_8": "True",
         "feature_9": "True",
         "duration_listed": 63,
         "_deepnote_index_column": 14
        },
        {
         "manufacturer_name": "Subaru",
         "model_name": "Outback",
         "transmission": "automatic",
         "color": "black",
         "odometer_value": 163219,
         "year_produced": 2004,
         "engine_fuel": "gasoline",
         "engine_has_gas": "False",
         "engine_type": "gasoline",
         "engine_capacity": 2,
         "body_type": "universal",
         "has_warranty": "False",
         "state": "owned",
         "drivetrain": "all",
         "price_usd": 7300,
         "is_exchangeable": "True",
         "location_region": "Минская обл.",
         "number_of_photos": 17,
         "up_counter": 22,
         "feature_0": "False",
         "feature_1": "True",
         "feature_2": "True",
         "feature_3": "False",
         "feature_4": "True",
         "feature_5": "True",
         "feature_6": "False",
         "feature_7": "False",
         "feature_8": "False",
         "feature_9": "True",
         "duration_listed": 35,
         "_deepnote_index_column": 15
        }
       ],
       "rows_bottom": [
        {
         "manufacturer_name": "Chrysler",
         "model_name": "Voyager",
         "transmission": "automatic",
         "color": "red",
         "odometer_value": 300000,
         "year_produced": 2002,
         "engine_fuel": "gas",
         "engine_has_gas": "True",
         "engine_type": "gasoline",
         "engine_capacity": 2.4,
         "body_type": "minivan",
         "has_warranty": "False",
         "state": "owned",
         "drivetrain": "front",
         "price_usd": 3700,
         "is_exchangeable": "False",
         "location_region": "Минская обл.",
         "number_of_photos": 12,
         "up_counter": 4,
         "feature_0": "False",
         "feature_1": "True",
         "feature_2": "False",
         "feature_3": "False",
         "feature_4": "False",
         "feature_5": "False",
         "feature_6": "False",
         "feature_7": "False",
         "feature_8": "False",
         "feature_9": "False",
         "duration_listed": 161,
         "_deepnote_index_column": 38514
        },
        {
         "manufacturer_name": "Chrysler",
         "model_name": "Grand Voyager",
         "transmission": "automatic",
         "color": "green",
         "odometer_value": 210000,
         "year_produced": 1999,
         "engine_fuel": "gas",
         "engine_has_gas": "True",
         "engine_type": "gasoline",
         "engine_capacity": 3.3,
         "body_type": "minivan",
         "has_warranty": "False",
         "state": "owned",
         "drivetrain": "front",
         "price_usd": 4200,
         "is_exchangeable": "True",
         "location_region": "Гомельская обл.",
         "number_of_photos": 23,
         "up_counter": 2,
         "feature_0": "False",
         "feature_1": "True",
         "feature_2": "False",
         "feature_3": "False",
         "feature_4": "False",
         "feature_5": "False",
         "feature_6": "False",
         "feature_7": "False",
         "feature_8": "False",
         "feature_9": "True",
         "duration_listed": 163,
         "_deepnote_index_column": 38515
        },
        {
         "manufacturer_name": "Chrysler",
         "model_name": "Grand Voyager",
         "transmission": "automatic",
         "color": "grey",
         "odometer_value": 179000,
         "year_produced": 1998,
         "engine_fuel": "gasoline",
         "engine_has_gas": "False",
         "engine_type": "gasoline",
         "engine_capacity": 3.3,
         "body_type": "minivan",
         "has_warranty": "False",
         "state": "owned",
         "drivetrain": "front",
         "price_usd": 3450,
         "is_exchangeable": "False",
         "location_region": "Минская обл.",
         "number_of_photos": 6,
         "up_counter": 6,
         "feature_0": "False",
         "feature_1": "True",
         "feature_2": "False",
         "feature_3": "False",
         "feature_4": "False",
         "feature_5": "False",
         "feature_6": "False",
         "feature_7": "False",
         "feature_8": "False",
         "feature_9": "True",
         "duration_listed": 167,
         "_deepnote_index_column": 38516
        },
        {
         "manufacturer_name": "Chrysler",
         "model_name": "Voyager",
         "transmission": "mechanical",
         "color": "silver",
         "odometer_value": 240000,
         "year_produced": 2005,
         "engine_fuel": "diesel",
         "engine_has_gas": "False",
         "engine_type": "diesel",
         "engine_capacity": 2.5,
         "body_type": "minivan",
         "has_warranty": "False",
         "state": "owned",
         "drivetrain": "front",
         "price_usd": 6500,
         "is_exchangeable": "False",
         "location_region": "Минская обл.",
         "number_of_photos": 8,
         "up_counter": 2,
         "feature_0": "False",
         "feature_1": "True",
         "feature_2": "False",
         "feature_3": "False",
         "feature_4": "False",
         "feature_5": "True",
         "feature_6": "False",
         "feature_7": "True",
         "feature_8": "True",
         "feature_9": "True",
         "duration_listed": 177,
         "_deepnote_index_column": 38517
        },
        {
         "manufacturer_name": "Chrysler",
         "model_name": "PT Cruiser",
         "transmission": "automatic",
         "color": "blue",
         "odometer_value": 177000,
         "year_produced": 2003,
         "engine_fuel": "gasoline",
         "engine_has_gas": "False",
         "engine_type": "gasoline",
         "engine_capacity": 2.4,
         "body_type": "sedan",
         "has_warranty": "False",
         "state": "owned",
         "drivetrain": "front",
         "price_usd": 2800,
         "is_exchangeable": "False",
         "location_region": "Витебская обл.",
         "number_of_photos": 7,
         "up_counter": 2,
         "feature_0": "False",
         "feature_1": "True",
         "feature_2": "False",
         "feature_3": "False",
         "feature_4": "False",
         "feature_5": "False",
         "feature_6": "False",
         "feature_7": "False",
         "feature_8": "False",
         "feature_9": "False",
         "duration_listed": 181,
         "_deepnote_index_column": 38518
        },
        {
         "manufacturer_name": "Chrysler",
         "model_name": "Voyager",
         "transmission": "automatic",
         "color": "brown",
         "odometer_value": 200000,
         "year_produced": 1997,
         "engine_fuel": "gasoline",
         "engine_has_gas": "False",
         "engine_type": "gasoline",
         "engine_capacity": 2.4,
         "body_type": "minivan",
         "has_warranty": "False",
         "state": "owned",
         "drivetrain": "front",
         "price_usd": 2700,
         "is_exchangeable": "True",
         "location_region": "Минская обл.",
         "number_of_photos": 5,
         "up_counter": 12,
         "feature_0": "False",
         "feature_1": "True",
         "feature_2": "False",
         "feature_3": "False",
         "feature_4": "False",
         "feature_5": "False",
         "feature_6": "False",
         "feature_7": "False",
         "feature_8": "False",
         "feature_9": "False",
         "duration_listed": 186,
         "_deepnote_index_column": 38519
        },
        {
         "manufacturer_name": "Chrysler",
         "model_name": "Voyager",
         "transmission": "mechanical",
         "color": "silver",
         "odometer_value": 400000,
         "year_produced": 1999,
         "engine_fuel": "diesel",
         "engine_has_gas": "False",
         "engine_type": "diesel",
         "engine_capacity": 2.5,
         "body_type": "minivan",
         "has_warranty": "False",
         "state": "owned",
         "drivetrain": "front",
         "price_usd": 1600,
         "is_exchangeable": "True",
         "location_region": "Минская обл.",
         "number_of_photos": 1,
         "up_counter": 38,
         "feature_0": "False",
         "feature_1": "True",
         "feature_2": "False",
         "feature_3": "False",
         "feature_4": "False",
         "feature_5": "False",
         "feature_6": "False",
         "feature_7": "False",
         "feature_8": "False",
         "feature_9": "False",
         "duration_listed": 202,
         "_deepnote_index_column": 38520
        },
        {
         "manufacturer_name": "Chrysler",
         "model_name": "Neon",
         "transmission": "mechanical",
         "color": "green",
         "odometer_value": 260000,
         "year_produced": 1995,
         "engine_fuel": "gasoline",
         "engine_has_gas": "False",
         "engine_type": "gasoline",
         "engine_capacity": 2,
         "body_type": "sedan",
         "has_warranty": "False",
         "state": "owned",
         "drivetrain": "front",
         "price_usd": 550,
         "is_exchangeable": "True",
         "location_region": "Гродненская обл.",
         "number_of_photos": 7,
         "up_counter": 12,
         "feature_0": "False",
         "feature_1": "True",
         "feature_2": "False",
         "feature_3": "False",
         "feature_4": "False",
         "feature_5": "False",
         "feature_6": "False",
         "feature_7": "False",
         "feature_8": "False",
         "feature_9": "True",
         "duration_listed": 215,
         "_deepnote_index_column": 38521
        },
        {
         "manufacturer_name": "Chrysler",
         "model_name": "PT Cruiser",
         "transmission": "automatic",
         "color": "other",
         "odometer_value": 207605,
         "year_produced": 2004,
         "engine_fuel": "gasoline",
         "engine_has_gas": "False",
         "engine_type": "gasoline",
         "engine_capacity": 2.4,
         "body_type": "hatchback",
         "has_warranty": "False",
         "state": "owned",
         "drivetrain": "front",
         "price_usd": 4000,
         "is_exchangeable": "False",
         "location_region": "Витебская обл.",
         "number_of_photos": 8,
         "up_counter": 44,
         "feature_0": "False",
         "feature_1": "True",
         "feature_2": "False",
         "feature_3": "False",
         "feature_4": "False",
         "feature_5": "False",
         "feature_6": "False",
         "feature_7": "False",
         "feature_8": "False",
         "feature_9": "False",
         "duration_listed": 221,
         "_deepnote_index_column": 38522
        },
        {
         "manufacturer_name": "Chrysler",
         "model_name": "Grand Voyager",
         "transmission": "mechanical",
         "color": "black",
         "odometer_value": 278000,
         "year_produced": 1999,
         "engine_fuel": "diesel",
         "engine_has_gas": "False",
         "engine_type": "diesel",
         "engine_capacity": 2.5,
         "body_type": "minivan",
         "has_warranty": "False",
         "state": "owned",
         "drivetrain": "front",
         "price_usd": 4220.81,
         "is_exchangeable": "False",
         "location_region": "Брестская обл.",
         "number_of_photos": 5,
         "up_counter": 20,
         "feature_0": "False",
         "feature_1": "True",
         "feature_2": "True",
         "feature_3": "False",
         "feature_4": "True",
         "feature_5": "False",
         "feature_6": "False",
         "feature_7": "False",
         "feature_8": "False",
         "feature_9": "True",
         "duration_listed": 239,
         "_deepnote_index_column": 38523
        },
        {
         "manufacturer_name": "Chrysler",
         "model_name": "300",
         "transmission": "automatic",
         "color": "silver",
         "odometer_value": 240000,
         "year_produced": 2001,
         "engine_fuel": "gasoline",
         "engine_has_gas": "False",
         "engine_type": "gasoline",
         "engine_capacity": 3.5,
         "body_type": "sedan",
         "has_warranty": "False",
         "state": "owned",
         "drivetrain": "front",
         "price_usd": 3000,
         "is_exchangeable": "True",
         "location_region": "Минская обл.",
         "number_of_photos": 6,
         "up_counter": 11,
         "feature_0": "False",
         "feature_1": "True",
         "feature_2": "False",
         "feature_3": "False",
         "feature_4": "True",
         "feature_5": "True",
         "feature_6": "False",
         "feature_7": "False",
         "feature_8": "True",
         "feature_9": "True",
         "duration_listed": 264,
         "_deepnote_index_column": 38524
        },
        {
         "manufacturer_name": "Chrysler",
         "model_name": "Voyager",
         "transmission": "mechanical",
         "color": "violet",
         "odometer_value": 317000,
         "year_produced": 1999,
         "engine_fuel": "gas",
         "engine_has_gas": "True",
         "engine_type": "gasoline",
         "engine_capacity": 2,
         "body_type": "minivan",
         "has_warranty": "False",
         "state": "owned",
         "drivetrain": "front",
         "price_usd": 3300,
         "is_exchangeable": "True",
         "location_region": "Брестская обл.",
         "number_of_photos": 8,
         "up_counter": 28,
         "feature_0": "False",
         "feature_1": "False",
         "feature_2": "False",
         "feature_3": "True",
         "feature_4": "False",
         "feature_5": "False",
         "feature_6": "False",
         "feature_7": "False",
         "feature_8": "False",
         "feature_9": "True",
         "duration_listed": 269,
         "_deepnote_index_column": 38525
        },
        {
         "manufacturer_name": "Chrysler",
         "model_name": "300",
         "transmission": "automatic",
         "color": "silver",
         "odometer_value": 290000,
         "year_produced": 2000,
         "engine_fuel": "gasoline",
         "engine_has_gas": "False",
         "engine_type": "gasoline",
         "engine_capacity": 3.5,
         "body_type": "sedan",
         "has_warranty": "False",
         "state": "owned",
         "drivetrain": "front",
         "price_usd": 2750,
         "is_exchangeable": "True",
         "location_region": "Минская обл.",
         "number_of_photos": 5,
         "up_counter": 85,
         "feature_0": "False",
         "feature_1": "True",
         "feature_2": "False",
         "feature_3": "False",
         "feature_4": "True",
         "feature_5": "True",
         "feature_6": "False",
         "feature_7": "False",
         "feature_8": "True",
         "feature_9": "True",
         "duration_listed": 301,
         "_deepnote_index_column": 38526
        },
        {
         "manufacturer_name": "Chrysler",
         "model_name": "PT Cruiser",
         "transmission": "mechanical",
         "color": "blue",
         "odometer_value": 321000,
         "year_produced": 2004,
         "engine_fuel": "diesel",
         "engine_has_gas": "False",
         "engine_type": "diesel",
         "engine_capacity": 2.2,
         "body_type": "hatchback",
         "has_warranty": "False",
         "state": "owned",
         "drivetrain": "front",
         "price_usd": 4800,
         "is_exchangeable": "True",
         "location_region": "Брестская обл.",
         "number_of_photos": 4,
         "up_counter": 20,
         "feature_0": "False",
         "feature_1": "True",
         "feature_2": "False",
         "feature_3": "False",
         "feature_4": "True",
         "feature_5": "True",
         "feature_6": "False",
         "feature_7": "False",
         "feature_8": "True",
         "feature_9": "True",
         "duration_listed": 317,
         "_deepnote_index_column": 38527
        },
        {
         "manufacturer_name": "Chrysler",
         "model_name": "300",
         "transmission": "automatic",
         "color": "blue",
         "odometer_value": 777957,
         "year_produced": 2000,
         "engine_fuel": "gasoline",
         "engine_has_gas": "False",
         "engine_type": "gasoline",
         "engine_capacity": 3.5,
         "body_type": "sedan",
         "has_warranty": "False",
         "state": "owned",
         "drivetrain": "front",
         "price_usd": 4300,
         "is_exchangeable": "False",
         "location_region": "Минская обл.",
         "number_of_photos": 3,
         "up_counter": 63,
         "feature_0": "False",
         "feature_1": "True",
         "feature_2": "False",
         "feature_3": "False",
         "feature_4": "True",
         "feature_5": "True",
         "feature_6": "False",
         "feature_7": "False",
         "feature_8": "True",
         "feature_9": "True",
         "duration_listed": 369,
         "_deepnote_index_column": 38528
        },
        {
         "manufacturer_name": "Chrysler",
         "model_name": "PT Cruiser",
         "transmission": "mechanical",
         "color": "black",
         "odometer_value": 20000,
         "year_produced": 2001,
         "engine_fuel": "gasoline",
         "engine_has_gas": "False",
         "engine_type": "gasoline",
         "engine_capacity": 2,
         "body_type": "minivan",
         "has_warranty": "False",
         "state": "owned",
         "drivetrain": "front",
         "price_usd": 4000,
         "is_exchangeable": "True",
         "location_region": "Брестская обл.",
         "number_of_photos": 7,
         "up_counter": 156,
         "feature_0": "False",
         "feature_1": "True",
         "feature_2": "False",
         "feature_3": "False",
         "feature_4": "False",
         "feature_5": "False",
         "feature_6": "False",
         "feature_7": "False",
         "feature_8": "False",
         "feature_9": "True",
         "duration_listed": 490,
         "_deepnote_index_column": 38529
        },
        {
         "manufacturer_name": "Chrysler",
         "model_name": "Voyager",
         "transmission": "automatic",
         "color": "silver",
         "odometer_value": 297729,
         "year_produced": 2000,
         "engine_fuel": "gasoline",
         "engine_has_gas": "False",
         "engine_type": "gasoline",
         "engine_capacity": 2.4,
         "body_type": "minivan",
         "has_warranty": "False",
         "state": "owned",
         "drivetrain": "front",
         "price_usd": 3200,
         "is_exchangeable": "True",
         "location_region": "Минская обл.",
         "number_of_photos": 4,
         "up_counter": 73,
         "feature_0": "False",
         "feature_1": "False",
         "feature_2": "False",
         "feature_3": "False",
         "feature_4": "False",
         "feature_5": "False",
         "feature_6": "False",
         "feature_7": "False",
         "feature_8": "False",
         "feature_9": "True",
         "duration_listed": 632,
         "_deepnote_index_column": 38530
        }
       ]
      },
      "text/plain": "      manufacturer_name  model_name transmission   color  odometer_value  \\\n0                Subaru     Outback    automatic  silver          190000   \n1                Subaru     Outback    automatic    blue          290000   \n2                Subaru    Forester    automatic     red          402000   \n3                Subaru     Impreza   mechanical    blue           10000   \n4                Subaru      Legacy    automatic   black          280000   \n...                 ...         ...          ...     ...             ...   \n38526          Chrysler         300    automatic  silver          290000   \n38527          Chrysler  PT Cruiser   mechanical    blue          321000   \n38528          Chrysler         300    automatic    blue          777957   \n38529          Chrysler  PT Cruiser   mechanical   black           20000   \n38530          Chrysler     Voyager    automatic  silver          297729   \n\n       year_produced engine_fuel  engine_has_gas engine_type  engine_capacity  \\\n0               2010    gasoline           False    gasoline              2.5   \n1               2002    gasoline           False    gasoline              3.0   \n2               2001    gasoline           False    gasoline              2.5   \n3               1999    gasoline           False    gasoline              3.0   \n4               2001    gasoline           False    gasoline              2.5   \n...              ...         ...             ...         ...              ...   \n38526           2000    gasoline           False    gasoline              3.5   \n38527           2004      diesel           False      diesel              2.2   \n38528           2000    gasoline           False    gasoline              3.5   \n38529           2001    gasoline           False    gasoline              2.0   \n38530           2000    gasoline           False    gasoline              2.4   \n\n       ... feature_1  feature_2 feature_3 feature_4  feature_5  feature_6  \\\n0      ...      True       True      True     False       True      False   \n1      ...      True      False     False      True       True      False   \n2      ...      True      False     False     False      False      False   \n3      ...     False      False     False     False      False      False   \n4      ...      True      False      True      True      False      False   \n...    ...       ...        ...       ...       ...        ...        ...   \n38526  ...      True      False     False      True       True      False   \n38527  ...      True      False     False      True       True      False   \n38528  ...      True      False     False      True       True      False   \n38529  ...      True      False     False     False      False      False   \n38530  ...     False      False     False     False      False      False   \n\n      feature_7  feature_8  feature_9  duration_listed  \n0          True       True       True               16  \n1         False      False       True               83  \n2         False       True       True              151  \n3         False      False      False               86  \n4         False      False       True                7  \n...         ...        ...        ...              ...  \n38526     False       True       True              301  \n38527     False       True       True              317  \n38528     False       True       True              369  \n38529     False      False       True              490  \n38530     False      False       True              632  \n\n[38531 rows x 30 columns]",
      "text/html": "<div>\n<style scoped>\n    .dataframe tbody tr th:only-of-type {\n        vertical-align: middle;\n    }\n\n    .dataframe tbody tr th {\n        vertical-align: top;\n    }\n\n    .dataframe thead th {\n        text-align: right;\n    }\n</style>\n<table border=\"1\" class=\"dataframe\">\n  <thead>\n    <tr style=\"text-align: right;\">\n      <th></th>\n      <th>manufacturer_name</th>\n      <th>model_name</th>\n      <th>transmission</th>\n      <th>color</th>\n      <th>odometer_value</th>\n      <th>year_produced</th>\n      <th>engine_fuel</th>\n      <th>engine_has_gas</th>\n      <th>engine_type</th>\n      <th>engine_capacity</th>\n      <th>...</th>\n      <th>feature_1</th>\n      <th>feature_2</th>\n      <th>feature_3</th>\n      <th>feature_4</th>\n      <th>feature_5</th>\n      <th>feature_6</th>\n      <th>feature_7</th>\n      <th>feature_8</th>\n      <th>feature_9</th>\n      <th>duration_listed</th>\n    </tr>\n  </thead>\n  <tbody>\n    <tr>\n      <th>0</th>\n      <td>Subaru</td>\n      <td>Outback</td>\n      <td>automatic</td>\n      <td>silver</td>\n      <td>190000</td>\n      <td>2010</td>\n      <td>gasoline</td>\n      <td>False</td>\n      <td>gasoline</td>\n      <td>2.5</td>\n      <td>...</td>\n      <td>True</td>\n      <td>True</td>\n      <td>True</td>\n      <td>False</td>\n      <td>True</td>\n      <td>False</td>\n      <td>True</td>\n      <td>True</td>\n      <td>True</td>\n      <td>16</td>\n    </tr>\n    <tr>\n      <th>1</th>\n      <td>Subaru</td>\n      <td>Outback</td>\n      <td>automatic</td>\n      <td>blue</td>\n      <td>290000</td>\n      <td>2002</td>\n      <td>gasoline</td>\n      <td>False</td>\n      <td>gasoline</td>\n      <td>3.0</td>\n      <td>...</td>\n      <td>True</td>\n      <td>False</td>\n      <td>False</td>\n      <td>True</td>\n      <td>True</td>\n      <td>False</td>\n      <td>False</td>\n      <td>False</td>\n      <td>True</td>\n      <td>83</td>\n    </tr>\n    <tr>\n      <th>2</th>\n      <td>Subaru</td>\n      <td>Forester</td>\n      <td>automatic</td>\n      <td>red</td>\n      <td>402000</td>\n      <td>2001</td>\n      <td>gasoline</td>\n      <td>False</td>\n      <td>gasoline</td>\n      <td>2.5</td>\n      <td>...</td>\n      <td>True</td>\n      <td>False</td>\n      <td>False</td>\n      <td>False</td>\n      <td>False</td>\n      <td>False</td>\n      <td>False</td>\n      <td>True</td>\n      <td>True</td>\n      <td>151</td>\n    </tr>\n    <tr>\n      <th>3</th>\n      <td>Subaru</td>\n      <td>Impreza</td>\n      <td>mechanical</td>\n      <td>blue</td>\n      <td>10000</td>\n      <td>1999</td>\n      <td>gasoline</td>\n      <td>False</td>\n      <td>gasoline</td>\n      <td>3.0</td>\n      <td>...</td>\n      <td>False</td>\n      <td>False</td>\n      <td>False</td>\n      <td>False</td>\n      <td>False</td>\n      <td>False</td>\n      <td>False</td>\n      <td>False</td>\n      <td>False</td>\n      <td>86</td>\n    </tr>\n    <tr>\n      <th>4</th>\n      <td>Subaru</td>\n      <td>Legacy</td>\n      <td>automatic</td>\n      <td>black</td>\n      <td>280000</td>\n      <td>2001</td>\n      <td>gasoline</td>\n      <td>False</td>\n      <td>gasoline</td>\n      <td>2.5</td>\n      <td>...</td>\n      <td>True</td>\n      <td>False</td>\n      <td>True</td>\n      <td>True</td>\n      <td>False</td>\n      <td>False</td>\n      <td>False</td>\n      <td>False</td>\n      <td>True</td>\n      <td>7</td>\n    </tr>\n    <tr>\n      <th>...</th>\n      <td>...</td>\n      <td>...</td>\n      <td>...</td>\n      <td>...</td>\n      <td>...</td>\n      <td>...</td>\n      <td>...</td>\n      <td>...</td>\n      <td>...</td>\n      <td>...</td>\n      <td>...</td>\n      <td>...</td>\n      <td>...</td>\n      <td>...</td>\n      <td>...</td>\n      <td>...</td>\n      <td>...</td>\n      <td>...</td>\n      <td>...</td>\n      <td>...</td>\n      <td>...</td>\n    </tr>\n    <tr>\n      <th>38526</th>\n      <td>Chrysler</td>\n      <td>300</td>\n      <td>automatic</td>\n      <td>silver</td>\n      <td>290000</td>\n      <td>2000</td>\n      <td>gasoline</td>\n      <td>False</td>\n      <td>gasoline</td>\n      <td>3.5</td>\n      <td>...</td>\n      <td>True</td>\n      <td>False</td>\n      <td>False</td>\n      <td>True</td>\n      <td>True</td>\n      <td>False</td>\n      <td>False</td>\n      <td>True</td>\n      <td>True</td>\n      <td>301</td>\n    </tr>\n    <tr>\n      <th>38527</th>\n      <td>Chrysler</td>\n      <td>PT Cruiser</td>\n      <td>mechanical</td>\n      <td>blue</td>\n      <td>321000</td>\n      <td>2004</td>\n      <td>diesel</td>\n      <td>False</td>\n      <td>diesel</td>\n      <td>2.2</td>\n      <td>...</td>\n      <td>True</td>\n      <td>False</td>\n      <td>False</td>\n      <td>True</td>\n      <td>True</td>\n      <td>False</td>\n      <td>False</td>\n      <td>True</td>\n      <td>True</td>\n      <td>317</td>\n    </tr>\n    <tr>\n      <th>38528</th>\n      <td>Chrysler</td>\n      <td>300</td>\n      <td>automatic</td>\n      <td>blue</td>\n      <td>777957</td>\n      <td>2000</td>\n      <td>gasoline</td>\n      <td>False</td>\n      <td>gasoline</td>\n      <td>3.5</td>\n      <td>...</td>\n      <td>True</td>\n      <td>False</td>\n      <td>False</td>\n      <td>True</td>\n      <td>True</td>\n      <td>False</td>\n      <td>False</td>\n      <td>True</td>\n      <td>True</td>\n      <td>369</td>\n    </tr>\n    <tr>\n      <th>38529</th>\n      <td>Chrysler</td>\n      <td>PT Cruiser</td>\n      <td>mechanical</td>\n      <td>black</td>\n      <td>20000</td>\n      <td>2001</td>\n      <td>gasoline</td>\n      <td>False</td>\n      <td>gasoline</td>\n      <td>2.0</td>\n      <td>...</td>\n      <td>True</td>\n      <td>False</td>\n      <td>False</td>\n      <td>False</td>\n      <td>False</td>\n      <td>False</td>\n      <td>False</td>\n      <td>False</td>\n      <td>True</td>\n      <td>490</td>\n    </tr>\n    <tr>\n      <th>38530</th>\n      <td>Chrysler</td>\n      <td>Voyager</td>\n      <td>automatic</td>\n      <td>silver</td>\n      <td>297729</td>\n      <td>2000</td>\n      <td>gasoline</td>\n      <td>False</td>\n      <td>gasoline</td>\n      <td>2.4</td>\n      <td>...</td>\n      <td>False</td>\n      <td>False</td>\n      <td>False</td>\n      <td>False</td>\n      <td>False</td>\n      <td>False</td>\n      <td>False</td>\n      <td>False</td>\n      <td>True</td>\n      <td>632</td>\n    </tr>\n  </tbody>\n</table>\n<p>38531 rows × 30 columns</p>\n</div>"
     },
     "metadata": {}
    }
   ],
   "execution_count": 1
  },
  {
   "cell_type": "markdown",
   "source": "Exploramos los datos que tenemos en el data set ",
   "metadata": {
    "tags": [],
    "cell_id": "00002-1085a170-e2b8-4936-bf9a-8af69b77ad5a",
    "deepnote_cell_type": "markdown"
   }
  },
  {
   "cell_type": "code",
   "metadata": {
    "tags": [],
    "cell_id": "00003-82da257a-1e3f-4e6f-870b-cb1366caeebb",
    "deepnote_to_be_reexecuted": false,
    "source_hash": "1911abf0",
    "execution_start": 1634487441891,
    "execution_millis": 144,
    "deepnote_cell_type": "code"
   },
   "source": "df.info()\ndf.describe()",
   "outputs": [
    {
     "name": "stdout",
     "text": "<class 'pandas.core.frame.DataFrame'>\nRangeIndex: 38531 entries, 0 to 38530\nData columns (total 30 columns):\n #   Column             Non-Null Count  Dtype  \n---  ------             --------------  -----  \n 0   manufacturer_name  38531 non-null  object \n 1   model_name         38531 non-null  object \n 2   transmission       38531 non-null  object \n 3   color              38531 non-null  object \n 4   odometer_value     38531 non-null  int64  \n 5   year_produced      38531 non-null  int64  \n 6   engine_fuel        38531 non-null  object \n 7   engine_has_gas     38531 non-null  bool   \n 8   engine_type        38531 non-null  object \n 9   engine_capacity    38521 non-null  float64\n 10  body_type          38531 non-null  object \n 11  has_warranty       38531 non-null  bool   \n 12  state              38531 non-null  object \n 13  drivetrain         38531 non-null  object \n 14  price_usd          38531 non-null  float64\n 15  is_exchangeable    38531 non-null  bool   \n 16  location_region    38531 non-null  object \n 17  number_of_photos   38531 non-null  int64  \n 18  up_counter         38531 non-null  int64  \n 19  feature_0          38531 non-null  bool   \n 20  feature_1          38531 non-null  bool   \n 21  feature_2          38531 non-null  bool   \n 22  feature_3          38531 non-null  bool   \n 23  feature_4          38531 non-null  bool   \n 24  feature_5          38531 non-null  bool   \n 25  feature_6          38531 non-null  bool   \n 26  feature_7          38531 non-null  bool   \n 27  feature_8          38531 non-null  bool   \n 28  feature_9          38531 non-null  bool   \n 29  duration_listed    38531 non-null  int64  \ndtypes: bool(13), float64(2), int64(5), object(10)\nmemory usage: 5.5+ MB\n",
     "output_type": "stream"
    },
    {
     "output_type": "execute_result",
     "execution_count": 2,
     "data": {
      "application/vnd.deepnote.dataframe.v2+json": {
       "row_count": 8,
       "column_count": 7,
       "columns": [
        {
         "name": "odometer_value",
         "dtype": "float64",
         "stats": {
          "unique_count": 8,
          "nan_count": 0,
          "min": "0.0",
          "max": "1000000.0",
          "histogram": [
           {
            "bin_start": 0,
            "bin_end": 100000,
            "count": 2
           },
           {
            "bin_start": 100000,
            "bin_end": 200000,
            "count": 2
           },
           {
            "bin_start": 200000,
            "bin_end": 300000,
            "count": 2
           },
           {
            "bin_start": 300000,
            "bin_end": 400000,
            "count": 1
           },
           {
            "bin_start": 400000,
            "bin_end": 500000,
            "count": 0
           },
           {
            "bin_start": 500000,
            "bin_end": 600000,
            "count": 0
           },
           {
            "bin_start": 600000,
            "bin_end": 700000,
            "count": 0
           },
           {
            "bin_start": 700000,
            "bin_end": 800000,
            "count": 0
           },
           {
            "bin_start": 800000,
            "bin_end": 900000,
            "count": 0
           },
           {
            "bin_start": 900000,
            "bin_end": 1000000,
            "count": 1
           }
          ]
         }
        },
        {
         "name": "year_produced",
         "dtype": "float64",
         "stats": {
          "unique_count": 8,
          "nan_count": 0,
          "min": "8.065730511309914",
          "max": "38531.0",
          "histogram": [
           {
            "bin_start": 8.065730511309914,
            "bin_end": 3860.3591574601787,
            "count": 7
           },
           {
            "bin_start": 3860.3591574601787,
            "bin_end": 7712.652584409047,
            "count": 0
           },
           {
            "bin_start": 7712.652584409047,
            "bin_end": 11564.946011357915,
            "count": 0
           },
           {
            "bin_start": 11564.946011357915,
            "bin_end": 15417.239438306784,
            "count": 0
           },
           {
            "bin_start": 15417.239438306784,
            "bin_end": 19269.532865255653,
            "count": 0
           },
           {
            "bin_start": 19269.532865255653,
            "bin_end": 23121.82629220452,
            "count": 0
           },
           {
            "bin_start": 23121.82629220452,
            "bin_end": 26974.11971915339,
            "count": 0
           },
           {
            "bin_start": 26974.11971915339,
            "bin_end": 30826.41314610226,
            "count": 0
           },
           {
            "bin_start": 30826.41314610226,
            "bin_end": 34678.70657305113,
            "count": 0
           },
           {
            "bin_start": 34678.70657305113,
            "bin_end": 38531,
            "count": 1
           }
          ]
         }
        },
        {
         "name": "engine_capacity",
         "dtype": "float64",
         "stats": {
          "unique_count": 8,
          "nan_count": 0,
          "min": "0.2",
          "max": "38521.0",
          "histogram": [
           {
            "bin_start": 0.2,
            "bin_end": 3852.28,
            "count": 7
           },
           {
            "bin_start": 3852.28,
            "bin_end": 7704.360000000001,
            "count": 0
           },
           {
            "bin_start": 7704.360000000001,
            "bin_end": 11556.440000000002,
            "count": 0
           },
           {
            "bin_start": 11556.440000000002,
            "bin_end": 15408.520000000002,
            "count": 0
           },
           {
            "bin_start": 15408.520000000002,
            "bin_end": 19260.600000000002,
            "count": 0
           },
           {
            "bin_start": 19260.600000000002,
            "bin_end": 23112.680000000004,
            "count": 0
           },
           {
            "bin_start": 23112.680000000004,
            "bin_end": 26964.760000000002,
            "count": 0
           },
           {
            "bin_start": 26964.760000000002,
            "bin_end": 30816.840000000004,
            "count": 0
           },
           {
            "bin_start": 30816.840000000004,
            "bin_end": 34668.92,
            "count": 0
           },
           {
            "bin_start": 34668.92,
            "bin_end": 38521,
            "count": 1
           }
          ]
         }
        },
        {
         "name": "price_usd",
         "dtype": "float64",
         "stats": {
          "unique_count": 8,
          "nan_count": 0,
          "min": "1.0",
          "max": "50000.0",
          "histogram": [
           {
            "bin_start": 1,
            "bin_end": 5000.9,
            "count": 3
           },
           {
            "bin_start": 5000.9,
            "bin_end": 10000.8,
            "count": 3
           },
           {
            "bin_start": 10000.8,
            "bin_end": 15000.699999999999,
            "count": 0
           },
           {
            "bin_start": 15000.699999999999,
            "bin_end": 20000.6,
            "count": 0
           },
           {
            "bin_start": 20000.6,
            "bin_end": 25000.5,
            "count": 0
           },
           {
            "bin_start": 25000.5,
            "bin_end": 30000.399999999998,
            "count": 0
           },
           {
            "bin_start": 30000.399999999998,
            "bin_end": 35000.299999999996,
            "count": 0
           },
           {
            "bin_start": 35000.299999999996,
            "bin_end": 40000.2,
            "count": 1
           },
           {
            "bin_start": 40000.2,
            "bin_end": 45000.1,
            "count": 0
           },
           {
            "bin_start": 45000.1,
            "bin_end": 50000,
            "count": 1
           }
          ]
         }
        },
        {
         "name": "number_of_photos",
         "dtype": "float64",
         "stats": {
          "unique_count": 8,
          "nan_count": 0,
          "min": "1.0",
          "max": "38531.0",
          "histogram": [
           {
            "bin_start": 1,
            "bin_end": 3854,
            "count": 7
           },
           {
            "bin_start": 3854,
            "bin_end": 7707,
            "count": 0
           },
           {
            "bin_start": 7707,
            "bin_end": 11560,
            "count": 0
           },
           {
            "bin_start": 11560,
            "bin_end": 15413,
            "count": 0
           },
           {
            "bin_start": 15413,
            "bin_end": 19266,
            "count": 0
           },
           {
            "bin_start": 19266,
            "bin_end": 23119,
            "count": 0
           },
           {
            "bin_start": 23119,
            "bin_end": 26972,
            "count": 0
           },
           {
            "bin_start": 26972,
            "bin_end": 30825,
            "count": 0
           },
           {
            "bin_start": 30825,
            "bin_end": 34678,
            "count": 0
           },
           {
            "bin_start": 34678,
            "bin_end": 38531,
            "count": 1
           }
          ]
         }
        },
        {
         "name": "up_counter",
         "dtype": "float64",
         "stats": {
          "unique_count": 8,
          "nan_count": 0,
          "min": "1.0",
          "max": "38531.0",
          "histogram": [
           {
            "bin_start": 1,
            "bin_end": 3854,
            "count": 7
           },
           {
            "bin_start": 3854,
            "bin_end": 7707,
            "count": 0
           },
           {
            "bin_start": 7707,
            "bin_end": 11560,
            "count": 0
           },
           {
            "bin_start": 11560,
            "bin_end": 15413,
            "count": 0
           },
           {
            "bin_start": 15413,
            "bin_end": 19266,
            "count": 0
           },
           {
            "bin_start": 19266,
            "bin_end": 23119,
            "count": 0
           },
           {
            "bin_start": 23119,
            "bin_end": 26972,
            "count": 0
           },
           {
            "bin_start": 26972,
            "bin_end": 30825,
            "count": 0
           },
           {
            "bin_start": 30825,
            "bin_end": 34678,
            "count": 0
           },
           {
            "bin_start": 34678,
            "bin_end": 38531,
            "count": 1
           }
          ]
         }
        },
        {
         "name": "duration_listed",
         "dtype": "float64",
         "stats": {
          "unique_count": 8,
          "nan_count": 0,
          "min": "0.0",
          "max": "38531.0",
          "histogram": [
           {
            "bin_start": 0,
            "bin_end": 3853.1,
            "count": 7
           },
           {
            "bin_start": 3853.1,
            "bin_end": 7706.2,
            "count": 0
           },
           {
            "bin_start": 7706.2,
            "bin_end": 11559.3,
            "count": 0
           },
           {
            "bin_start": 11559.3,
            "bin_end": 15412.4,
            "count": 0
           },
           {
            "bin_start": 15412.4,
            "bin_end": 19265.5,
            "count": 0
           },
           {
            "bin_start": 19265.5,
            "bin_end": 23118.6,
            "count": 0
           },
           {
            "bin_start": 23118.6,
            "bin_end": 26971.7,
            "count": 0
           },
           {
            "bin_start": 26971.7,
            "bin_end": 30824.8,
            "count": 0
           },
           {
            "bin_start": 30824.8,
            "bin_end": 34677.9,
            "count": 0
           },
           {
            "bin_start": 34677.9,
            "bin_end": 38531,
            "count": 1
           }
          ]
         }
        },
        {
         "name": "_deepnote_index_column",
         "dtype": "object"
        }
       ],
       "rows_top": [
        {
         "odometer_value": 38531,
         "year_produced": 38531,
         "engine_capacity": 38521,
         "price_usd": 38531,
         "number_of_photos": 38531,
         "up_counter": 38531,
         "duration_listed": 38531,
         "_deepnote_index_column": "count"
        },
        {
         "odometer_value": 248864.6384469648,
         "year_produced": 2002.9437336170874,
         "engine_capacity": 2.055161106928688,
         "price_usd": 6639.971021255613,
         "number_of_photos": 9.649061794399314,
         "up_counter": 16.306091199294073,
         "duration_listed": 80.5772494874257,
         "_deepnote_index_column": "mean"
        },
        {
         "odometer_value": 136072.37652978083,
         "year_produced": 8.065730511309914,
         "engine_capacity": 0.671177667208744,
         "price_usd": 6428.1520182029035,
         "number_of_photos": 6.093216996872852,
         "up_counter": 43.286933094223144,
         "duration_listed": 112.82656864261294,
         "_deepnote_index_column": "std"
        },
        {
         "odometer_value": 0,
         "year_produced": 1942,
         "engine_capacity": 0.2,
         "price_usd": 1,
         "number_of_photos": 1,
         "up_counter": 1,
         "duration_listed": 0,
         "_deepnote_index_column": "min"
        },
        {
         "odometer_value": 158000,
         "year_produced": 1998,
         "engine_capacity": 1.6,
         "price_usd": 2100,
         "number_of_photos": 5,
         "up_counter": 2,
         "duration_listed": 23,
         "_deepnote_index_column": "25%"
        },
        {
         "odometer_value": 250000,
         "year_produced": 2003,
         "engine_capacity": 2,
         "price_usd": 4800,
         "number_of_photos": 8,
         "up_counter": 5,
         "duration_listed": 59,
         "_deepnote_index_column": "50%"
        },
        {
         "odometer_value": 325000,
         "year_produced": 2009,
         "engine_capacity": 2.3,
         "price_usd": 8990,
         "number_of_photos": 12,
         "up_counter": 16,
         "duration_listed": 91,
         "_deepnote_index_column": "75%"
        },
        {
         "odometer_value": 1000000,
         "year_produced": 2019,
         "engine_capacity": 8,
         "price_usd": 50000,
         "number_of_photos": 86,
         "up_counter": 1861,
         "duration_listed": 2232,
         "_deepnote_index_column": "max"
        }
       ],
       "rows_bottom": null
      },
      "text/plain": "       odometer_value  year_produced  engine_capacity     price_usd  \\\ncount    38531.000000   38531.000000     38521.000000  38531.000000   \nmean    248864.638447    2002.943734         2.055161   6639.971021   \nstd     136072.376530       8.065731         0.671178   6428.152018   \nmin          0.000000    1942.000000         0.200000      1.000000   \n25%     158000.000000    1998.000000         1.600000   2100.000000   \n50%     250000.000000    2003.000000         2.000000   4800.000000   \n75%     325000.000000    2009.000000         2.300000   8990.000000   \nmax    1000000.000000    2019.000000         8.000000  50000.000000   \n\n       number_of_photos    up_counter  duration_listed  \ncount      38531.000000  38531.000000     38531.000000  \nmean           9.649062     16.306091        80.577249  \nstd            6.093217     43.286933       112.826569  \nmin            1.000000      1.000000         0.000000  \n25%            5.000000      2.000000        23.000000  \n50%            8.000000      5.000000        59.000000  \n75%           12.000000     16.000000        91.000000  \nmax           86.000000   1861.000000      2232.000000  ",
      "text/html": "<div>\n<style scoped>\n    .dataframe tbody tr th:only-of-type {\n        vertical-align: middle;\n    }\n\n    .dataframe tbody tr th {\n        vertical-align: top;\n    }\n\n    .dataframe thead th {\n        text-align: right;\n    }\n</style>\n<table border=\"1\" class=\"dataframe\">\n  <thead>\n    <tr style=\"text-align: right;\">\n      <th></th>\n      <th>odometer_value</th>\n      <th>year_produced</th>\n      <th>engine_capacity</th>\n      <th>price_usd</th>\n      <th>number_of_photos</th>\n      <th>up_counter</th>\n      <th>duration_listed</th>\n    </tr>\n  </thead>\n  <tbody>\n    <tr>\n      <th>count</th>\n      <td>38531.000000</td>\n      <td>38531.000000</td>\n      <td>38521.000000</td>\n      <td>38531.000000</td>\n      <td>38531.000000</td>\n      <td>38531.000000</td>\n      <td>38531.000000</td>\n    </tr>\n    <tr>\n      <th>mean</th>\n      <td>248864.638447</td>\n      <td>2002.943734</td>\n      <td>2.055161</td>\n      <td>6639.971021</td>\n      <td>9.649062</td>\n      <td>16.306091</td>\n      <td>80.577249</td>\n    </tr>\n    <tr>\n      <th>std</th>\n      <td>136072.376530</td>\n      <td>8.065731</td>\n      <td>0.671178</td>\n      <td>6428.152018</td>\n      <td>6.093217</td>\n      <td>43.286933</td>\n      <td>112.826569</td>\n    </tr>\n    <tr>\n      <th>min</th>\n      <td>0.000000</td>\n      <td>1942.000000</td>\n      <td>0.200000</td>\n      <td>1.000000</td>\n      <td>1.000000</td>\n      <td>1.000000</td>\n      <td>0.000000</td>\n    </tr>\n    <tr>\n      <th>25%</th>\n      <td>158000.000000</td>\n      <td>1998.000000</td>\n      <td>1.600000</td>\n      <td>2100.000000</td>\n      <td>5.000000</td>\n      <td>2.000000</td>\n      <td>23.000000</td>\n    </tr>\n    <tr>\n      <th>50%</th>\n      <td>250000.000000</td>\n      <td>2003.000000</td>\n      <td>2.000000</td>\n      <td>4800.000000</td>\n      <td>8.000000</td>\n      <td>5.000000</td>\n      <td>59.000000</td>\n    </tr>\n    <tr>\n      <th>75%</th>\n      <td>325000.000000</td>\n      <td>2009.000000</td>\n      <td>2.300000</td>\n      <td>8990.000000</td>\n      <td>12.000000</td>\n      <td>16.000000</td>\n      <td>91.000000</td>\n    </tr>\n    <tr>\n      <th>max</th>\n      <td>1000000.000000</td>\n      <td>2019.000000</td>\n      <td>8.000000</td>\n      <td>50000.000000</td>\n      <td>86.000000</td>\n      <td>1861.000000</td>\n      <td>2232.000000</td>\n    </tr>\n  </tbody>\n</table>\n</div>"
     },
     "metadata": {}
    }
   ],
   "execution_count": 2
  },
  {
   "cell_type": "markdown",
   "source": "Buscaremos y analizaremos la columna de odometer_value",
   "metadata": {
    "tags": [],
    "cell_id": "00005-886d1bf0-efee-4982-af98-3320d0383768",
    "deepnote_cell_type": "markdown"
   }
  },
  {
   "cell_type": "code",
   "metadata": {
    "tags": [],
    "cell_id": "00006-628299e7-1d54-4c54-a3f8-fdd59f94ab7c",
    "deepnote_to_be_reexecuted": false,
    "source_hash": "734ff1ee",
    "execution_start": 1634487442047,
    "execution_millis": 69,
    "deepnote_cell_type": "code"
   },
   "source": "max = df['odometer_value'].max()\nmin = df['odometer_value'].min()\nmedian = df['odometer_value'].median()\nStd = df['odometer_value'].std()\n\nprint('El maximo: ' + str(max),'El minimo: '+ str(min),'La mediana :' + str(median),'La desviacion estandar: ' + str(Std))",
   "outputs": [
    {
     "name": "stdout",
     "text": "El maximo: 1000000 El minimo: 0 La mediana :250000.0 La desviacion estandar: 136072.37652978083\n",
     "output_type": "stream"
    }
   ],
   "execution_count": 3
  },
  {
   "cell_type": "markdown",
   "source": "Ahora veamos un poco de graficos ",
   "metadata": {
    "tags": [],
    "cell_id": "00007-ddd698a6-6289-4afd-9b51-d830d655c8a8",
    "deepnote_cell_type": "markdown"
   }
  },
  {
   "cell_type": "code",
   "metadata": {
    "tags": [],
    "cell_id": "00007-81c086b5-02e2-4d97-84f6-57ee869b52c6",
    "deepnote_to_be_reexecuted": false,
    "source_hash": "bc7f7b76",
    "execution_start": 1634487442064,
    "execution_millis": 968,
    "deepnote_cell_type": "code"
   },
   "source": "sns.displot(df, x='odometer_value')",
   "outputs": [
    {
     "output_type": "execute_result",
     "execution_count": 4,
     "data": {
      "text/plain": "<seaborn.axisgrid.FacetGrid at 0x7ff361b46220>"
     },
     "metadata": {}
    },
    {
     "data": {
      "text/plain": "<Figure size 360x360 with 1 Axes>",
      "image/png": "[encoded data removed]"
     },
     "metadata": {
      "needs_background": "light",
      "image/png": {
       "width": 352,
       "height": 352
      }
     },
     "output_type": "display_data"
    }
   ],
   "execution_count": 4
  },
  {
   "cell_type": "markdown",
   "source": "Vemos que no tiene una distribucion normal, ahora analicemos los datos que nos aporta la columna Color",
   "metadata": {
    "tags": [],
    "cell_id": "00009-f7d7a493-c476-42c7-8fd1-aeaf93c6f839",
    "deepnote_cell_type": "markdown"
   }
  },
  {
   "cell_type": "code",
   "metadata": {
    "tags": [],
    "cell_id": "00007-e2b2cbf1-ad5f-4e47-9c83-b4634b60bc6d",
    "deepnote_to_be_reexecuted": false,
    "source_hash": "f897860",
    "execution_start": 1634487443036,
    "execution_millis": 153,
    "deepnote_cell_type": "code"
   },
   "source": "df.groupby('color').count()",
   "outputs": [
    {
     "output_type": "execute_result",
     "execution_count": 5,
     "data": {
      "application/vnd.deepnote.dataframe.v2+json": {
       "row_count": 12,
       "column_count": 29,
       "columns": [
        {
         "name": "manufacturer_name",
         "dtype": "int64",
         "stats": {
          "unique_count": 12,
          "nan_count": 0,
          "min": "184",
          "max": "7705",
          "histogram": [
           {
            "bin_start": 184,
            "bin_end": 936.1,
            "count": 4
           },
           {
            "bin_start": 936.1,
            "bin_end": 1688.2,
            "count": 0
           },
           {
            "bin_start": 1688.2,
            "bin_end": 2440.3,
            "count": 0
           },
           {
            "bin_start": 2440.3,
            "bin_end": 3192.4,
            "count": 3
           },
           {
            "bin_start": 3192.4,
            "bin_end": 3944.5,
            "count": 1
           },
           {
            "bin_start": 3944.5,
            "bin_end": 4696.6,
            "count": 1
           },
           {
            "bin_start": 4696.6,
            "bin_end": 5448.7,
            "count": 0
           },
           {
            "bin_start": 5448.7,
            "bin_end": 6200.8,
            "count": 1
           },
           {
            "bin_start": 6200.8,
            "bin_end": 6952.900000000001,
            "count": 1
           },
           {
            "bin_start": 6952.900000000001,
            "bin_end": 7705,
            "count": 1
           }
          ]
         }
        },
        {
         "name": "model_name",
         "dtype": "int64",
         "stats": {
          "unique_count": 12,
          "nan_count": 0,
          "min": "184",
          "max": "7705",
          "histogram": [
           {
            "bin_start": 184,
            "bin_end": 936.1,
            "count": 4
           },
           {
            "bin_start": 936.1,
            "bin_end": 1688.2,
            "count": 0
           },
           {
            "bin_start": 1688.2,
            "bin_end": 2440.3,
            "count": 0
           },
           {
            "bin_start": 2440.3,
            "bin_end": 3192.4,
            "count": 3
           },
           {
            "bin_start": 3192.4,
            "bin_end": 3944.5,
            "count": 1
           },
           {
            "bin_start": 3944.5,
            "bin_end": 4696.6,
            "count": 1
           },
           {
            "bin_start": 4696.6,
            "bin_end": 5448.7,
            "count": 0
           },
           {
            "bin_start": 5448.7,
            "bin_end": 6200.8,
            "count": 1
           },
           {
            "bin_start": 6200.8,
            "bin_end": 6952.900000000001,
            "count": 1
           },
           {
            "bin_start": 6952.900000000001,
            "bin_end": 7705,
            "count": 1
           }
          ]
         }
        },
        {
         "name": "transmission",
         "dtype": "int64",
         "stats": {
          "unique_count": 12,
          "nan_count": 0,
          "min": "184",
          "max": "7705",
          "histogram": [
           {
            "bin_start": 184,
            "bin_end": 936.1,
            "count": 4
           },
           {
            "bin_start": 936.1,
            "bin_end": 1688.2,
            "count": 0
           },
           {
            "bin_start": 1688.2,
            "bin_end": 2440.3,
            "count": 0
           },
           {
            "bin_start": 2440.3,
            "bin_end": 3192.4,
            "count": 3
           },
           {
            "bin_start": 3192.4,
            "bin_end": 3944.5,
            "count": 1
           },
           {
            "bin_start": 3944.5,
            "bin_end": 4696.6,
            "count": 1
           },
           {
            "bin_start": 4696.6,
            "bin_end": 5448.7,
            "count": 0
           },
           {
            "bin_start": 5448.7,
            "bin_end": 6200.8,
            "count": 1
           },
           {
            "bin_start": 6200.8,
            "bin_end": 6952.900000000001,
            "count": 1
           },
           {
            "bin_start": 6952.900000000001,
            "bin_end": 7705,
            "count": 1
           }
          ]
         }
        },
        {
         "name": "odometer_value",
         "dtype": "int64",
         "stats": {
          "unique_count": 12,
          "nan_count": 0,
          "min": "184",
          "max": "7705",
          "histogram": [
           {
            "bin_start": 184,
            "bin_end": 936.1,
            "count": 4
           },
           {
            "bin_start": 936.1,
            "bin_end": 1688.2,
            "count": 0
           },
           {
            "bin_start": 1688.2,
            "bin_end": 2440.3,
            "count": 0
           },
           {
            "bin_start": 2440.3,
            "bin_end": 3192.4,
            "count": 3
           },
           {
            "bin_start": 3192.4,
            "bin_end": 3944.5,
            "count": 1
           },
           {
            "bin_start": 3944.5,
            "bin_end": 4696.6,
            "count": 1
           },
           {
            "bin_start": 4696.6,
            "bin_end": 5448.7,
            "count": 0
           },
           {
            "bin_start": 5448.7,
            "bin_end": 6200.8,
            "count": 1
           },
           {
            "bin_start": 6200.8,
            "bin_end": 6952.900000000001,
            "count": 1
           },
           {
            "bin_start": 6952.900000000001,
            "bin_end": 7705,
            "count": 1
           }
          ]
         }
        },
        {
         "name": "year_produced",
         "dtype": "int64",
         "stats": {
          "unique_count": 12,
          "nan_count": 0,
          "min": "184",
          "max": "7705",
          "histogram": [
           {
            "bin_start": 184,
            "bin_end": 936.1,
            "count": 4
           },
           {
            "bin_start": 936.1,
            "bin_end": 1688.2,
            "count": 0
           },
           {
            "bin_start": 1688.2,
            "bin_end": 2440.3,
            "count": 0
           },
           {
            "bin_start": 2440.3,
            "bin_end": 3192.4,
            "count": 3
           },
           {
            "bin_start": 3192.4,
            "bin_end": 3944.5,
            "count": 1
           },
           {
            "bin_start": 3944.5,
            "bin_end": 4696.6,
            "count": 1
           },
           {
            "bin_start": 4696.6,
            "bin_end": 5448.7,
            "count": 0
           },
           {
            "bin_start": 5448.7,
            "bin_end": 6200.8,
            "count": 1
           },
           {
            "bin_start": 6200.8,
            "bin_end": 6952.900000000001,
            "count": 1
           },
           {
            "bin_start": 6952.900000000001,
            "bin_end": 7705,
            "count": 1
           }
          ]
         }
        },
        {
         "name": "engine_fuel",
         "dtype": "int64",
         "stats": {
          "unique_count": 12,
          "nan_count": 0,
          "min": "184",
          "max": "7705",
          "histogram": [
           {
            "bin_start": 184,
            "bin_end": 936.1,
            "count": 4
           },
           {
            "bin_start": 936.1,
            "bin_end": 1688.2,
            "count": 0
           },
           {
            "bin_start": 1688.2,
            "bin_end": 2440.3,
            "count": 0
           },
           {
            "bin_start": 2440.3,
            "bin_end": 3192.4,
            "count": 3
           },
           {
            "bin_start": 3192.4,
            "bin_end": 3944.5,
            "count": 1
           },
           {
            "bin_start": 3944.5,
            "bin_end": 4696.6,
            "count": 1
           },
           {
            "bin_start": 4696.6,
            "bin_end": 5448.7,
            "count": 0
           },
           {
            "bin_start": 5448.7,
            "bin_end": 6200.8,
            "count": 1
           },
           {
            "bin_start": 6200.8,
            "bin_end": 6952.900000000001,
            "count": 1
           },
           {
            "bin_start": 6952.900000000001,
            "bin_end": 7705,
            "count": 1
           }
          ]
         }
        },
        {
         "name": "engine_has_gas",
         "dtype": "int64",
         "stats": {
          "unique_count": 12,
          "nan_count": 0,
          "min": "184",
          "max": "7705",
          "histogram": [
           {
            "bin_start": 184,
            "bin_end": 936.1,
            "count": 4
           },
           {
            "bin_start": 936.1,
            "bin_end": 1688.2,
            "count": 0
           },
           {
            "bin_start": 1688.2,
            "bin_end": 2440.3,
            "count": 0
           },
           {
            "bin_start": 2440.3,
            "bin_end": 3192.4,
            "count": 3
           },
           {
            "bin_start": 3192.4,
            "bin_end": 3944.5,
            "count": 1
           },
           {
            "bin_start": 3944.5,
            "bin_end": 4696.6,
            "count": 1
           },
           {
            "bin_start": 4696.6,
            "bin_end": 5448.7,
            "count": 0
           },
           {
            "bin_start": 5448.7,
            "bin_end": 6200.8,
            "count": 1
           },
           {
            "bin_start": 6200.8,
            "bin_end": 6952.900000000001,
            "count": 1
           },
           {
            "bin_start": 6952.900000000001,
            "bin_end": 7705,
            "count": 1
           }
          ]
         }
        },
        {
         "name": "engine_type",
         "dtype": "int64",
         "stats": {
          "unique_count": 12,
          "nan_count": 0,
          "min": "184",
          "max": "7705",
          "histogram": [
           {
            "bin_start": 184,
            "bin_end": 936.1,
            "count": 4
           },
           {
            "bin_start": 936.1,
            "bin_end": 1688.2,
            "count": 0
           },
           {
            "bin_start": 1688.2,
            "bin_end": 2440.3,
            "count": 0
           },
           {
            "bin_start": 2440.3,
            "bin_end": 3192.4,
            "count": 3
           },
           {
            "bin_start": 3192.4,
            "bin_end": 3944.5,
            "count": 1
           },
           {
            "bin_start": 3944.5,
            "bin_end": 4696.6,
            "count": 1
           },
           {
            "bin_start": 4696.6,
            "bin_end": 5448.7,
            "count": 0
           },
           {
            "bin_start": 5448.7,
            "bin_end": 6200.8,
            "count": 1
           },
           {
            "bin_start": 6200.8,
            "bin_end": 6952.900000000001,
            "count": 1
           },
           {
            "bin_start": 6952.900000000001,
            "bin_end": 7705,
            "count": 1
           }
          ]
         }
        },
        {
         "name": "engine_capacity",
         "dtype": "int64",
         "stats": {
          "unique_count": 12,
          "nan_count": 0,
          "min": "182",
          "max": "7703",
          "histogram": [
           {
            "bin_start": 182,
            "bin_end": 934.1,
            "count": 4
           },
           {
            "bin_start": 934.1,
            "bin_end": 1686.2,
            "count": 0
           },
           {
            "bin_start": 1686.2,
            "bin_end": 2438.3,
            "count": 0
           },
           {
            "bin_start": 2438.3,
            "bin_end": 3190.4,
            "count": 3
           },
           {
            "bin_start": 3190.4,
            "bin_end": 3942.5,
            "count": 1
           },
           {
            "bin_start": 3942.5,
            "bin_end": 4694.6,
            "count": 1
           },
           {
            "bin_start": 4694.6,
            "bin_end": 5446.7,
            "count": 0
           },
           {
            "bin_start": 5446.7,
            "bin_end": 6198.8,
            "count": 1
           },
           {
            "bin_start": 6198.8,
            "bin_end": 6950.900000000001,
            "count": 1
           },
           {
            "bin_start": 6950.900000000001,
            "bin_end": 7703,
            "count": 1
           }
          ]
         }
        },
        {
         "name": "body_type",
         "dtype": "int64",
         "stats": {
          "unique_count": 12,
          "nan_count": 0,
          "min": "184",
          "max": "7705",
          "histogram": [
           {
            "bin_start": 184,
            "bin_end": 936.1,
            "count": 4
           },
           {
            "bin_start": 936.1,
            "bin_end": 1688.2,
            "count": 0
           },
           {
            "bin_start": 1688.2,
            "bin_end": 2440.3,
            "count": 0
           },
           {
            "bin_start": 2440.3,
            "bin_end": 3192.4,
            "count": 3
           },
           {
            "bin_start": 3192.4,
            "bin_end": 3944.5,
            "count": 1
           },
           {
            "bin_start": 3944.5,
            "bin_end": 4696.6,
            "count": 1
           },
           {
            "bin_start": 4696.6,
            "bin_end": 5448.7,
            "count": 0
           },
           {
            "bin_start": 5448.7,
            "bin_end": 6200.8,
            "count": 1
           },
           {
            "bin_start": 6200.8,
            "bin_end": 6952.900000000001,
            "count": 1
           },
           {
            "bin_start": 6952.900000000001,
            "bin_end": 7705,
            "count": 1
           }
          ]
         }
        },
        {
         "name": "has_warranty",
         "dtype": "int64",
         "stats": {
          "unique_count": 12,
          "nan_count": 0,
          "min": "184",
          "max": "7705",
          "histogram": [
           {
            "bin_start": 184,
            "bin_end": 936.1,
            "count": 4
           },
           {
            "bin_start": 936.1,
            "bin_end": 1688.2,
            "count": 0
           },
           {
            "bin_start": 1688.2,
            "bin_end": 2440.3,
            "count": 0
           },
           {
            "bin_start": 2440.3,
            "bin_end": 3192.4,
            "count": 3
           },
           {
            "bin_start": 3192.4,
            "bin_end": 3944.5,
            "count": 1
           },
           {
            "bin_start": 3944.5,
            "bin_end": 4696.6,
            "count": 1
           },
           {
            "bin_start": 4696.6,
            "bin_end": 5448.7,
            "count": 0
           },
           {
            "bin_start": 5448.7,
            "bin_end": 6200.8,
            "count": 1
           },
           {
            "bin_start": 6200.8,
            "bin_end": 6952.900000000001,
            "count": 1
           },
           {
            "bin_start": 6952.900000000001,
            "bin_end": 7705,
            "count": 1
           }
          ]
         }
        },
        {
         "name": "state",
         "dtype": "int64",
         "stats": {
          "unique_count": 12,
          "nan_count": 0,
          "min": "184",
          "max": "7705",
          "histogram": [
           {
            "bin_start": 184,
            "bin_end": 936.1,
            "count": 4
           },
           {
            "bin_start": 936.1,
            "bin_end": 1688.2,
            "count": 0
           },
           {
            "bin_start": 1688.2,
            "bin_end": 2440.3,
            "count": 0
           },
           {
            "bin_start": 2440.3,
            "bin_end": 3192.4,
            "count": 3
           },
           {
            "bin_start": 3192.4,
            "bin_end": 3944.5,
            "count": 1
           },
           {
            "bin_start": 3944.5,
            "bin_end": 4696.6,
            "count": 1
           },
           {
            "bin_start": 4696.6,
            "bin_end": 5448.7,
            "count": 0
           },
           {
            "bin_start": 5448.7,
            "bin_end": 6200.8,
            "count": 1
           },
           {
            "bin_start": 6200.8,
            "bin_end": 6952.900000000001,
            "count": 1
           },
           {
            "bin_start": 6952.900000000001,
            "bin_end": 7705,
            "count": 1
           }
          ]
         }
        },
        {
         "name": "drivetrain",
         "dtype": "int64",
         "stats": {
          "unique_count": 12,
          "nan_count": 0,
          "min": "184",
          "max": "7705",
          "histogram": [
           {
            "bin_start": 184,
            "bin_end": 936.1,
            "count": 4
           },
           {
            "bin_start": 936.1,
            "bin_end": 1688.2,
            "count": 0
           },
           {
            "bin_start": 1688.2,
            "bin_end": 2440.3,
            "count": 0
           },
           {
            "bin_start": 2440.3,
            "bin_end": 3192.4,
            "count": 3
           },
           {
            "bin_start": 3192.4,
            "bin_end": 3944.5,
            "count": 1
           },
           {
            "bin_start": 3944.5,
            "bin_end": 4696.6,
            "count": 1
           },
           {
            "bin_start": 4696.6,
            "bin_end": 5448.7,
            "count": 0
           },
           {
            "bin_start": 5448.7,
            "bin_end": 6200.8,
            "count": 1
           },
           {
            "bin_start": 6200.8,
            "bin_end": 6952.900000000001,
            "count": 1
           },
           {
            "bin_start": 6952.900000000001,
            "bin_end": 7705,
            "count": 1
           }
          ]
         }
        },
        {
         "name": "price_usd",
         "dtype": "int64",
         "stats": {
          "unique_count": 12,
          "nan_count": 0,
          "min": "184",
          "max": "7705",
          "histogram": [
           {
            "bin_start": 184,
            "bin_end": 936.1,
            "count": 4
           },
           {
            "bin_start": 936.1,
            "bin_end": 1688.2,
            "count": 0
           },
           {
            "bin_start": 1688.2,
            "bin_end": 2440.3,
            "count": 0
           },
           {
            "bin_start": 2440.3,
            "bin_end": 3192.4,
            "count": 3
           },
           {
            "bin_start": 3192.4,
            "bin_end": 3944.5,
            "count": 1
           },
           {
            "bin_start": 3944.5,
            "bin_end": 4696.6,
            "count": 1
           },
           {
            "bin_start": 4696.6,
            "bin_end": 5448.7,
            "count": 0
           },
           {
            "bin_start": 5448.7,
            "bin_end": 6200.8,
            "count": 1
           },
           {
            "bin_start": 6200.8,
            "bin_end": 6952.900000000001,
            "count": 1
           },
           {
            "bin_start": 6952.900000000001,
            "bin_end": 7705,
            "count": 1
           }
          ]
         }
        },
        {
         "name": "is_exchangeable",
         "dtype": "int64",
         "stats": {
          "unique_count": 12,
          "nan_count": 0,
          "min": "184",
          "max": "7705",
          "histogram": [
           {
            "bin_start": 184,
            "bin_end": 936.1,
            "count": 4
           },
           {
            "bin_start": 936.1,
            "bin_end": 1688.2,
            "count": 0
           },
           {
            "bin_start": 1688.2,
            "bin_end": 2440.3,
            "count": 0
           },
           {
            "bin_start": 2440.3,
            "bin_end": 3192.4,
            "count": 3
           },
           {
            "bin_start": 3192.4,
            "bin_end": 3944.5,
            "count": 1
           },
           {
            "bin_start": 3944.5,
            "bin_end": 4696.6,
            "count": 1
           },
           {
            "bin_start": 4696.6,
            "bin_end": 5448.7,
            "count": 0
           },
           {
            "bin_start": 5448.7,
            "bin_end": 6200.8,
            "count": 1
           },
           {
            "bin_start": 6200.8,
            "bin_end": 6952.900000000001,
            "count": 1
           },
           {
            "bin_start": 6952.900000000001,
            "bin_end": 7705,
            "count": 1
           }
          ]
         }
        },
        {
         "name": "location_region",
         "dtype": "int64",
         "stats": {
          "unique_count": 12,
          "nan_count": 0,
          "min": "184",
          "max": "7705",
          "histogram": [
           {
            "bin_start": 184,
            "bin_end": 936.1,
            "count": 4
           },
           {
            "bin_start": 936.1,
            "bin_end": 1688.2,
            "count": 0
           },
           {
            "bin_start": 1688.2,
            "bin_end": 2440.3,
            "count": 0
           },
           {
            "bin_start": 2440.3,
            "bin_end": 3192.4,
            "count": 3
           },
           {
            "bin_start": 3192.4,
            "bin_end": 3944.5,
            "count": 1
           },
           {
            "bin_start": 3944.5,
            "bin_end": 4696.6,
            "count": 1
           },
           {
            "bin_start": 4696.6,
            "bin_end": 5448.7,
            "count": 0
           },
           {
            "bin_start": 5448.7,
            "bin_end": 6200.8,
            "count": 1
           },
           {
            "bin_start": 6200.8,
            "bin_end": 6952.900000000001,
            "count": 1
           },
           {
            "bin_start": 6952.900000000001,
            "bin_end": 7705,
            "count": 1
           }
          ]
         }
        },
        {
         "name": "number_of_photos",
         "dtype": "int64",
         "stats": {
          "unique_count": 12,
          "nan_count": 0,
          "min": "184",
          "max": "7705",
          "histogram": [
           {
            "bin_start": 184,
            "bin_end": 936.1,
            "count": 4
           },
           {
            "bin_start": 936.1,
            "bin_end": 1688.2,
            "count": 0
           },
           {
            "bin_start": 1688.2,
            "bin_end": 2440.3,
            "count": 0
           },
           {
            "bin_start": 2440.3,
            "bin_end": 3192.4,
            "count": 3
           },
           {
            "bin_start": 3192.4,
            "bin_end": 3944.5,
            "count": 1
           },
           {
            "bin_start": 3944.5,
            "bin_end": 4696.6,
            "count": 1
           },
           {
            "bin_start": 4696.6,
            "bin_end": 5448.7,
            "count": 0
           },
           {
            "bin_start": 5448.7,
            "bin_end": 6200.8,
            "count": 1
           },
           {
            "bin_start": 6200.8,
            "bin_end": 6952.900000000001,
            "count": 1
           },
           {
            "bin_start": 6952.900000000001,
            "bin_end": 7705,
            "count": 1
           }
          ]
         }
        },
        {
         "name": "up_counter",
         "dtype": "int64",
         "stats": {
          "unique_count": 12,
          "nan_count": 0,
          "min": "184",
          "max": "7705",
          "histogram": [
           {
            "bin_start": 184,
            "bin_end": 936.1,
            "count": 4
           },
           {
            "bin_start": 936.1,
            "bin_end": 1688.2,
            "count": 0
           },
           {
            "bin_start": 1688.2,
            "bin_end": 2440.3,
            "count": 0
           },
           {
            "bin_start": 2440.3,
            "bin_end": 3192.4,
            "count": 3
           },
           {
            "bin_start": 3192.4,
            "bin_end": 3944.5,
            "count": 1
           },
           {
            "bin_start": 3944.5,
            "bin_end": 4696.6,
            "count": 1
           },
           {
            "bin_start": 4696.6,
            "bin_end": 5448.7,
            "count": 0
           },
           {
            "bin_start": 5448.7,
            "bin_end": 6200.8,
            "count": 1
           },
           {
            "bin_start": 6200.8,
            "bin_end": 6952.900000000001,
            "count": 1
           },
           {
            "bin_start": 6952.900000000001,
            "bin_end": 7705,
            "count": 1
           }
          ]
         }
        },
        {
         "name": "feature_0",
         "dtype": "int64",
         "stats": {
          "unique_count": 12,
          "nan_count": 0,
          "min": "184",
          "max": "7705",
          "histogram": [
           {
            "bin_start": 184,
            "bin_end": 936.1,
            "count": 4
           },
           {
            "bin_start": 936.1,
            "bin_end": 1688.2,
            "count": 0
           },
           {
            "bin_start": 1688.2,
            "bin_end": 2440.3,
            "count": 0
           },
           {
            "bin_start": 2440.3,
            "bin_end": 3192.4,
            "count": 3
           },
           {
            "bin_start": 3192.4,
            "bin_end": 3944.5,
            "count": 1
           },
           {
            "bin_start": 3944.5,
            "bin_end": 4696.6,
            "count": 1
           },
           {
            "bin_start": 4696.6,
            "bin_end": 5448.7,
            "count": 0
           },
           {
            "bin_start": 5448.7,
            "bin_end": 6200.8,
            "count": 1
           },
           {
            "bin_start": 6200.8,
            "bin_end": 6952.900000000001,
            "count": 1
           },
           {
            "bin_start": 6952.900000000001,
            "bin_end": 7705,
            "count": 1
           }
          ]
         }
        },
        {
         "name": "feature_1",
         "dtype": "int64",
         "stats": {
          "unique_count": 12,
          "nan_count": 0,
          "min": "184",
          "max": "7705",
          "histogram": [
           {
            "bin_start": 184,
            "bin_end": 936.1,
            "count": 4
           },
           {
            "bin_start": 936.1,
            "bin_end": 1688.2,
            "count": 0
           },
           {
            "bin_start": 1688.2,
            "bin_end": 2440.3,
            "count": 0
           },
           {
            "bin_start": 2440.3,
            "bin_end": 3192.4,
            "count": 3
           },
           {
            "bin_start": 3192.4,
            "bin_end": 3944.5,
            "count": 1
           },
           {
            "bin_start": 3944.5,
            "bin_end": 4696.6,
            "count": 1
           },
           {
            "bin_start": 4696.6,
            "bin_end": 5448.7,
            "count": 0
           },
           {
            "bin_start": 5448.7,
            "bin_end": 6200.8,
            "count": 1
           },
           {
            "bin_start": 6200.8,
            "bin_end": 6952.900000000001,
            "count": 1
           },
           {
            "bin_start": 6952.900000000001,
            "bin_end": 7705,
            "count": 1
           }
          ]
         }
        },
        {
         "name": "feature_2",
         "dtype": "int64",
         "stats": {
          "unique_count": 12,
          "nan_count": 0,
          "min": "184",
          "max": "7705",
          "histogram": [
           {
            "bin_start": 184,
            "bin_end": 936.1,
            "count": 4
           },
           {
            "bin_start": 936.1,
            "bin_end": 1688.2,
            "count": 0
           },
           {
            "bin_start": 1688.2,
            "bin_end": 2440.3,
            "count": 0
           },
           {
            "bin_start": 2440.3,
            "bin_end": 3192.4,
            "count": 3
           },
           {
            "bin_start": 3192.4,
            "bin_end": 3944.5,
            "count": 1
           },
           {
            "bin_start": 3944.5,
            "bin_end": 4696.6,
            "count": 1
           },
           {
            "bin_start": 4696.6,
            "bin_end": 5448.7,
            "count": 0
           },
           {
            "bin_start": 5448.7,
            "bin_end": 6200.8,
            "count": 1
           },
           {
            "bin_start": 6200.8,
            "bin_end": 6952.900000000001,
            "count": 1
           },
           {
            "bin_start": 6952.900000000001,
            "bin_end": 7705,
            "count": 1
           }
          ]
         }
        },
        {
         "name": "feature_3",
         "dtype": "int64",
         "stats": {
          "unique_count": 12,
          "nan_count": 0,
          "min": "184",
          "max": "7705",
          "histogram": [
           {
            "bin_start": 184,
            "bin_end": 936.1,
            "count": 4
           },
           {
            "bin_start": 936.1,
            "bin_end": 1688.2,
            "count": 0
           },
           {
            "bin_start": 1688.2,
            "bin_end": 2440.3,
            "count": 0
           },
           {
            "bin_start": 2440.3,
            "bin_end": 3192.4,
            "count": 3
           },
           {
            "bin_start": 3192.4,
            "bin_end": 3944.5,
            "count": 1
           },
           {
            "bin_start": 3944.5,
            "bin_end": 4696.6,
            "count": 1
           },
           {
            "bin_start": 4696.6,
            "bin_end": 5448.7,
            "count": 0
           },
           {
            "bin_start": 5448.7,
            "bin_end": 6200.8,
            "count": 1
           },
           {
            "bin_start": 6200.8,
            "bin_end": 6952.900000000001,
            "count": 1
           },
           {
            "bin_start": 6952.900000000001,
            "bin_end": 7705,
            "count": 1
           }
          ]
         }
        },
        {
         "name": "feature_4",
         "dtype": "int64",
         "stats": {
          "unique_count": 12,
          "nan_count": 0,
          "min": "184",
          "max": "7705",
          "histogram": [
           {
            "bin_start": 184,
            "bin_end": 936.1,
            "count": 4
           },
           {
            "bin_start": 936.1,
            "bin_end": 1688.2,
            "count": 0
           },
           {
            "bin_start": 1688.2,
            "bin_end": 2440.3,
            "count": 0
           },
           {
            "bin_start": 2440.3,
            "bin_end": 3192.4,
            "count": 3
           },
           {
            "bin_start": 3192.4,
            "bin_end": 3944.5,
            "count": 1
           },
           {
            "bin_start": 3944.5,
            "bin_end": 4696.6,
            "count": 1
           },
           {
            "bin_start": 4696.6,
            "bin_end": 5448.7,
            "count": 0
           },
           {
            "bin_start": 5448.7,
            "bin_end": 6200.8,
            "count": 1
           },
           {
            "bin_start": 6200.8,
            "bin_end": 6952.900000000001,
            "count": 1
           },
           {
            "bin_start": 6952.900000000001,
            "bin_end": 7705,
            "count": 1
           }
          ]
         }
        },
        {
         "name": "feature_5",
         "dtype": "int64",
         "stats": {
          "unique_count": 12,
          "nan_count": 0,
          "min": "184",
          "max": "7705",
          "histogram": [
           {
            "bin_start": 184,
            "bin_end": 936.1,
            "count": 4
           },
           {
            "bin_start": 936.1,
            "bin_end": 1688.2,
            "count": 0
           },
           {
            "bin_start": 1688.2,
            "bin_end": 2440.3,
            "count": 0
           },
           {
            "bin_start": 2440.3,
            "bin_end": 3192.4,
            "count": 3
           },
           {
            "bin_start": 3192.4,
            "bin_end": 3944.5,
            "count": 1
           },
           {
            "bin_start": 3944.5,
            "bin_end": 4696.6,
            "count": 1
           },
           {
            "bin_start": 4696.6,
            "bin_end": 5448.7,
            "count": 0
           },
           {
            "bin_start": 5448.7,
            "bin_end": 6200.8,
            "count": 1
           },
           {
            "bin_start": 6200.8,
            "bin_end": 6952.900000000001,
            "count": 1
           },
           {
            "bin_start": 6952.900000000001,
            "bin_end": 7705,
            "count": 1
           }
          ]
         }
        },
        {
         "name": "feature_6",
         "dtype": "int64",
         "stats": {
          "unique_count": 12,
          "nan_count": 0,
          "min": "184",
          "max": "7705",
          "histogram": [
           {
            "bin_start": 184,
            "bin_end": 936.1,
            "count": 4
           },
           {
            "bin_start": 936.1,
            "bin_end": 1688.2,
            "count": 0
           },
           {
            "bin_start": 1688.2,
            "bin_end": 2440.3,
            "count": 0
           },
           {
            "bin_start": 2440.3,
            "bin_end": 3192.4,
            "count": 3
           },
           {
            "bin_start": 3192.4,
            "bin_end": 3944.5,
            "count": 1
           },
           {
            "bin_start": 3944.5,
            "bin_end": 4696.6,
            "count": 1
           },
           {
            "bin_start": 4696.6,
            "bin_end": 5448.7,
            "count": 0
           },
           {
            "bin_start": 5448.7,
            "bin_end": 6200.8,
            "count": 1
           },
           {
            "bin_start": 6200.8,
            "bin_end": 6952.900000000001,
            "count": 1
           },
           {
            "bin_start": 6952.900000000001,
            "bin_end": 7705,
            "count": 1
           }
          ]
         }
        },
        {
         "name": "feature_7",
         "dtype": "int64",
         "stats": {
          "unique_count": 12,
          "nan_count": 0,
          "min": "184",
          "max": "7705",
          "histogram": [
           {
            "bin_start": 184,
            "bin_end": 936.1,
            "count": 4
           },
           {
            "bin_start": 936.1,
            "bin_end": 1688.2,
            "count": 0
           },
           {
            "bin_start": 1688.2,
            "bin_end": 2440.3,
            "count": 0
           },
           {
            "bin_start": 2440.3,
            "bin_end": 3192.4,
            "count": 3
           },
           {
            "bin_start": 3192.4,
            "bin_end": 3944.5,
            "count": 1
           },
           {
            "bin_start": 3944.5,
            "bin_end": 4696.6,
            "count": 1
           },
           {
            "bin_start": 4696.6,
            "bin_end": 5448.7,
            "count": 0
           },
           {
            "bin_start": 5448.7,
            "bin_end": 6200.8,
            "count": 1
           },
           {
            "bin_start": 6200.8,
            "bin_end": 6952.900000000001,
            "count": 1
           },
           {
            "bin_start": 6952.900000000001,
            "bin_end": 7705,
            "count": 1
           }
          ]
         }
        },
        {
         "name": "feature_8",
         "dtype": "int64",
         "stats": {
          "unique_count": 12,
          "nan_count": 0,
          "min": "184",
          "max": "7705",
          "histogram": [
           {
            "bin_start": 184,
            "bin_end": 936.1,
            "count": 4
           },
           {
            "bin_start": 936.1,
            "bin_end": 1688.2,
            "count": 0
           },
           {
            "bin_start": 1688.2,
            "bin_end": 2440.3,
            "count": 0
           },
           {
            "bin_start": 2440.3,
            "bin_end": 3192.4,
            "count": 3
           },
           {
            "bin_start": 3192.4,
            "bin_end": 3944.5,
            "count": 1
           },
           {
            "bin_start": 3944.5,
            "bin_end": 4696.6,
            "count": 1
           },
           {
            "bin_start": 4696.6,
            "bin_end": 5448.7,
            "count": 0
           },
           {
            "bin_start": 5448.7,
            "bin_end": 6200.8,
            "count": 1
           },
           {
            "bin_start": 6200.8,
            "bin_end": 6952.900000000001,
            "count": 1
           },
           {
            "bin_start": 6952.900000000001,
            "bin_end": 7705,
            "count": 1
           }
          ]
         }
        },
        {
         "name": "feature_9",
         "dtype": "int64",
         "stats": {
          "unique_count": 12,
          "nan_count": 0,
          "min": "184",
          "max": "7705",
          "histogram": [
           {
            "bin_start": 184,
            "bin_end": 936.1,
            "count": 4
           },
           {
            "bin_start": 936.1,
            "bin_end": 1688.2,
            "count": 0
           },
           {
            "bin_start": 1688.2,
            "bin_end": 2440.3,
            "count": 0
           },
           {
            "bin_start": 2440.3,
            "bin_end": 3192.4,
            "count": 3
           },
           {
            "bin_start": 3192.4,
            "bin_end": 3944.5,
            "count": 1
           },
           {
            "bin_start": 3944.5,
            "bin_end": 4696.6,
            "count": 1
           },
           {
            "bin_start": 4696.6,
            "bin_end": 5448.7,
            "count": 0
           },
           {
            "bin_start": 5448.7,
            "bin_end": 6200.8,
            "count": 1
           },
           {
            "bin_start": 6200.8,
            "bin_end": 6952.900000000001,
            "count": 1
           },
           {
            "bin_start": 6952.900000000001,
            "bin_end": 7705,
            "count": 1
           }
          ]
         }
        },
        {
         "name": "duration_listed",
         "dtype": "int64",
         "stats": {
          "unique_count": 12,
          "nan_count": 0,
          "min": "184",
          "max": "7705",
          "histogram": [
           {
            "bin_start": 184,
            "bin_end": 936.1,
            "count": 4
           },
           {
            "bin_start": 936.1,
            "bin_end": 1688.2,
            "count": 0
           },
           {
            "bin_start": 1688.2,
            "bin_end": 2440.3,
            "count": 0
           },
           {
            "bin_start": 2440.3,
            "bin_end": 3192.4,
            "count": 3
           },
           {
            "bin_start": 3192.4,
            "bin_end": 3944.5,
            "count": 1
           },
           {
            "bin_start": 3944.5,
            "bin_end": 4696.6,
            "count": 1
           },
           {
            "bin_start": 4696.6,
            "bin_end": 5448.7,
            "count": 0
           },
           {
            "bin_start": 5448.7,
            "bin_end": 6200.8,
            "count": 1
           },
           {
            "bin_start": 6200.8,
            "bin_end": 6952.900000000001,
            "count": 1
           },
           {
            "bin_start": 6952.900000000001,
            "bin_end": 7705,
            "count": 1
           }
          ]
         }
        },
        {
         "name": "_deepnote_index_column",
         "dtype": "object"
        }
       ],
       "rows_top": [
        {
         "manufacturer_name": 7705,
         "model_name": 7705,
         "transmission": 7705,
         "odometer_value": 7705,
         "year_produced": 7705,
         "engine_fuel": 7705,
         "engine_has_gas": 7705,
         "engine_type": 7705,
         "engine_capacity": 7703,
         "body_type": 7705,
         "has_warranty": 7705,
         "state": 7705,
         "drivetrain": 7705,
         "price_usd": 7705,
         "is_exchangeable": 7705,
         "location_region": 7705,
         "number_of_photos": 7705,
         "up_counter": 7705,
         "feature_0": 7705,
         "feature_1": 7705,
         "feature_2": 7705,
         "feature_3": 7705,
         "feature_4": 7705,
         "feature_5": 7705,
         "feature_6": 7705,
         "feature_7": 7705,
         "feature_8": 7705,
         "feature_9": 7705,
         "duration_listed": 7705,
         "_deepnote_index_column": "black"
        },
        {
         "manufacturer_name": 5802,
         "model_name": 5802,
         "transmission": 5802,
         "odometer_value": 5802,
         "year_produced": 5802,
         "engine_fuel": 5802,
         "engine_has_gas": 5802,
         "engine_type": 5802,
         "engine_capacity": 5801,
         "body_type": 5802,
         "has_warranty": 5802,
         "state": 5802,
         "drivetrain": 5802,
         "price_usd": 5802,
         "is_exchangeable": 5802,
         "location_region": 5802,
         "number_of_photos": 5802,
         "up_counter": 5802,
         "feature_0": 5802,
         "feature_1": 5802,
         "feature_2": 5802,
         "feature_3": 5802,
         "feature_4": 5802,
         "feature_5": 5802,
         "feature_6": 5802,
         "feature_7": 5802,
         "feature_8": 5802,
         "feature_9": 5802,
         "duration_listed": 5802,
         "_deepnote_index_column": "blue"
        },
        {
         "manufacturer_name": 886,
         "model_name": 886,
         "transmission": 886,
         "odometer_value": 886,
         "year_produced": 886,
         "engine_fuel": 886,
         "engine_has_gas": 886,
         "engine_type": 886,
         "engine_capacity": 886,
         "body_type": 886,
         "has_warranty": 886,
         "state": 886,
         "drivetrain": 886,
         "price_usd": 886,
         "is_exchangeable": 886,
         "location_region": 886,
         "number_of_photos": 886,
         "up_counter": 886,
         "feature_0": 886,
         "feature_1": 886,
         "feature_2": 886,
         "feature_3": 886,
         "feature_4": 886,
         "feature_5": 886,
         "feature_6": 886,
         "feature_7": 886,
         "feature_8": 886,
         "feature_9": 886,
         "duration_listed": 886,
         "_deepnote_index_column": "brown"
        },
        {
         "manufacturer_name": 2760,
         "model_name": 2760,
         "transmission": 2760,
         "odometer_value": 2760,
         "year_produced": 2760,
         "engine_fuel": 2760,
         "engine_has_gas": 2760,
         "engine_type": 2760,
         "engine_capacity": 2760,
         "body_type": 2760,
         "has_warranty": 2760,
         "state": 2760,
         "drivetrain": 2760,
         "price_usd": 2760,
         "is_exchangeable": 2760,
         "location_region": 2760,
         "number_of_photos": 2760,
         "up_counter": 2760,
         "feature_0": 2760,
         "feature_1": 2760,
         "feature_2": 2760,
         "feature_3": 2760,
         "feature_4": 2760,
         "feature_5": 2760,
         "feature_6": 2760,
         "feature_7": 2760,
         "feature_8": 2760,
         "feature_9": 2760,
         "duration_listed": 2760,
         "_deepnote_index_column": "green"
        },
        {
         "manufacturer_name": 3751,
         "model_name": 3751,
         "transmission": 3751,
         "odometer_value": 3751,
         "year_produced": 3751,
         "engine_fuel": 3751,
         "engine_has_gas": 3751,
         "engine_type": 3751,
         "engine_capacity": 3751,
         "body_type": 3751,
         "has_warranty": 3751,
         "state": 3751,
         "drivetrain": 3751,
         "price_usd": 3751,
         "is_exchangeable": 3751,
         "location_region": 3751,
         "number_of_photos": 3751,
         "up_counter": 3751,
         "feature_0": 3751,
         "feature_1": 3751,
         "feature_2": 3751,
         "feature_3": 3751,
         "feature_4": 3751,
         "feature_5": 3751,
         "feature_6": 3751,
         "feature_7": 3751,
         "feature_8": 3751,
         "feature_9": 3751,
         "duration_listed": 3751,
         "_deepnote_index_column": "grey"
        },
        {
         "manufacturer_name": 184,
         "model_name": 184,
         "transmission": 184,
         "odometer_value": 184,
         "year_produced": 184,
         "engine_fuel": 184,
         "engine_has_gas": 184,
         "engine_type": 184,
         "engine_capacity": 182,
         "body_type": 184,
         "has_warranty": 184,
         "state": 184,
         "drivetrain": 184,
         "price_usd": 184,
         "is_exchangeable": 184,
         "location_region": 184,
         "number_of_photos": 184,
         "up_counter": 184,
         "feature_0": 184,
         "feature_1": 184,
         "feature_2": 184,
         "feature_3": 184,
         "feature_4": 184,
         "feature_5": 184,
         "feature_6": 184,
         "feature_7": 184,
         "feature_8": 184,
         "feature_9": 184,
         "duration_listed": 184,
         "_deepnote_index_column": "orange"
        },
        {
         "manufacturer_name": 2688,
         "model_name": 2688,
         "transmission": 2688,
         "odometer_value": 2688,
         "year_produced": 2688,
         "engine_fuel": 2688,
         "engine_has_gas": 2688,
         "engine_type": 2688,
         "engine_capacity": 2687,
         "body_type": 2688,
         "has_warranty": 2688,
         "state": 2688,
         "drivetrain": 2688,
         "price_usd": 2688,
         "is_exchangeable": 2688,
         "location_region": 2688,
         "number_of_photos": 2688,
         "up_counter": 2688,
         "feature_0": 2688,
         "feature_1": 2688,
         "feature_2": 2688,
         "feature_3": 2688,
         "feature_4": 2688,
         "feature_5": 2688,
         "feature_6": 2688,
         "feature_7": 2688,
         "feature_8": 2688,
         "feature_9": 2688,
         "duration_listed": 2688,
         "_deepnote_index_column": "other"
        },
        {
         "manufacturer_name": 2925,
         "model_name": 2925,
         "transmission": 2925,
         "odometer_value": 2925,
         "year_produced": 2925,
         "engine_fuel": 2925,
         "engine_has_gas": 2925,
         "engine_type": 2925,
         "engine_capacity": 2925,
         "body_type": 2925,
         "has_warranty": 2925,
         "state": 2925,
         "drivetrain": 2925,
         "price_usd": 2925,
         "is_exchangeable": 2925,
         "location_region": 2925,
         "number_of_photos": 2925,
         "up_counter": 2925,
         "feature_0": 2925,
         "feature_1": 2925,
         "feature_2": 2925,
         "feature_3": 2925,
         "feature_4": 2925,
         "feature_5": 2925,
         "feature_6": 2925,
         "feature_7": 2925,
         "feature_8": 2925,
         "feature_9": 2925,
         "duration_listed": 2925,
         "_deepnote_index_column": "red"
        },
        {
         "manufacturer_name": 6852,
         "model_name": 6852,
         "transmission": 6852,
         "odometer_value": 6852,
         "year_produced": 6852,
         "engine_fuel": 6852,
         "engine_has_gas": 6852,
         "engine_type": 6852,
         "engine_capacity": 6851,
         "body_type": 6852,
         "has_warranty": 6852,
         "state": 6852,
         "drivetrain": 6852,
         "price_usd": 6852,
         "is_exchangeable": 6852,
         "location_region": 6852,
         "number_of_photos": 6852,
         "up_counter": 6852,
         "feature_0": 6852,
         "feature_1": 6852,
         "feature_2": 6852,
         "feature_3": 6852,
         "feature_4": 6852,
         "feature_5": 6852,
         "feature_6": 6852,
         "feature_7": 6852,
         "feature_8": 6852,
         "feature_9": 6852,
         "duration_listed": 6852,
         "_deepnote_index_column": "silver"
        },
        {
         "manufacturer_name": 463,
         "model_name": 463,
         "transmission": 463,
         "odometer_value": 463,
         "year_produced": 463,
         "engine_fuel": 463,
         "engine_has_gas": 463,
         "engine_type": 463,
         "engine_capacity": 463,
         "body_type": 463,
         "has_warranty": 463,
         "state": 463,
         "drivetrain": 463,
         "price_usd": 463,
         "is_exchangeable": 463,
         "location_region": 463,
         "number_of_photos": 463,
         "up_counter": 463,
         "feature_0": 463,
         "feature_1": 463,
         "feature_2": 463,
         "feature_3": 463,
         "feature_4": 463,
         "feature_5": 463,
         "feature_6": 463,
         "feature_7": 463,
         "feature_8": 463,
         "feature_9": 463,
         "duration_listed": 463,
         "_deepnote_index_column": "violet"
        },
        {
         "manufacturer_name": 4212,
         "model_name": 4212,
         "transmission": 4212,
         "odometer_value": 4212,
         "year_produced": 4212,
         "engine_fuel": 4212,
         "engine_has_gas": 4212,
         "engine_type": 4212,
         "engine_capacity": 4209,
         "body_type": 4212,
         "has_warranty": 4212,
         "state": 4212,
         "drivetrain": 4212,
         "price_usd": 4212,
         "is_exchangeable": 4212,
         "location_region": 4212,
         "number_of_photos": 4212,
         "up_counter": 4212,
         "feature_0": 4212,
         "feature_1": 4212,
         "feature_2": 4212,
         "feature_3": 4212,
         "feature_4": 4212,
         "feature_5": 4212,
         "feature_6": 4212,
         "feature_7": 4212,
         "feature_8": 4212,
         "feature_9": 4212,
         "duration_listed": 4212,
         "_deepnote_index_column": "white"
        },
        {
         "manufacturer_name": 303,
         "model_name": 303,
         "transmission": 303,
         "odometer_value": 303,
         "year_produced": 303,
         "engine_fuel": 303,
         "engine_has_gas": 303,
         "engine_type": 303,
         "engine_capacity": 303,
         "body_type": 303,
         "has_warranty": 303,
         "state": 303,
         "drivetrain": 303,
         "price_usd": 303,
         "is_exchangeable": 303,
         "location_region": 303,
         "number_of_photos": 303,
         "up_counter": 303,
         "feature_0": 303,
         "feature_1": 303,
         "feature_2": 303,
         "feature_3": 303,
         "feature_4": 303,
         "feature_5": 303,
         "feature_6": 303,
         "feature_7": 303,
         "feature_8": 303,
         "feature_9": 303,
         "duration_listed": 303,
         "_deepnote_index_column": "yellow"
        }
       ],
       "rows_bottom": null
      },
      "text/plain": "        manufacturer_name  model_name  transmission  odometer_value  \\\ncolor                                                                 \nblack                7705        7705          7705            7705   \nblue                 5802        5802          5802            5802   \nbrown                 886         886           886             886   \ngreen                2760        2760          2760            2760   \ngrey                 3751        3751          3751            3751   \norange                184         184           184             184   \nother                2688        2688          2688            2688   \nred                  2925        2925          2925            2925   \nsilver               6852        6852          6852            6852   \nviolet                463         463           463             463   \nwhite                4212        4212          4212            4212   \nyellow                303         303           303             303   \n\n        year_produced  engine_fuel  engine_has_gas  engine_type  \\\ncolor                                                             \nblack            7705         7705            7705         7705   \nblue             5802         5802            5802         5802   \nbrown             886          886             886          886   \ngreen            2760         2760            2760         2760   \ngrey             3751         3751            3751         3751   \norange            184          184             184          184   \nother            2688         2688            2688         2688   \nred              2925         2925            2925         2925   \nsilver           6852         6852            6852         6852   \nviolet            463          463             463          463   \nwhite            4212         4212            4212         4212   \nyellow            303          303             303          303   \n\n        engine_capacity  body_type  ...  feature_1  feature_2  feature_3  \\\ncolor                               ...                                    \nblack              7703       7705  ...       7705       7705       7705   \nblue               5801       5802  ...       5802       5802       5802   \nbrown               886        886  ...        886        886        886   \ngreen              2760       2760  ...       2760       2760       2760   \ngrey               3751       3751  ...       3751       3751       3751   \norange              182        184  ...        184        184        184   \nother              2687       2688  ...       2688       2688       2688   \nred                2925       2925  ...       2925       2925       2925   \nsilver             6851       6852  ...       6852       6852       6852   \nviolet              463        463  ...        463        463        463   \nwhite              4209       4212  ...       4212       4212       4212   \nyellow              303        303  ...        303        303        303   \n\n        feature_4  feature_5  feature_6  feature_7  feature_8  feature_9  \\\ncolor                                                                      \nblack        7705       7705       7705       7705       7705       7705   \nblue         5802       5802       5802       5802       5802       5802   \nbrown         886        886        886        886        886        886   \ngreen        2760       2760       2760       2760       2760       2760   \ngrey         3751       3751       3751       3751       3751       3751   \norange        184        184        184        184        184        184   \nother        2688       2688       2688       2688       2688       2688   \nred          2925       2925       2925       2925       2925       2925   \nsilver       6852       6852       6852       6852       6852       6852   \nviolet        463        463        463        463        463        463   \nwhite        4212       4212       4212       4212       4212       4212   \nyellow        303        303        303        303        303        303   \n\n        duration_listed  \ncolor                    \nblack              7705  \nblue               5802  \nbrown               886  \ngreen              2760  \ngrey               3751  \norange              184  \nother              2688  \nred                2925  \nsilver             6852  \nviolet              463  \nwhite              4212  \nyellow              303  \n\n[12 rows x 29 columns]",
      "text/html": "<div>\n<style scoped>\n    .dataframe tbody tr th:only-of-type {\n        vertical-align: middle;\n    }\n\n    .dataframe tbody tr th {\n        vertical-align: top;\n    }\n\n    .dataframe thead th {\n        text-align: right;\n    }\n</style>\n<table border=\"1\" class=\"dataframe\">\n  <thead>\n    <tr style=\"text-align: right;\">\n      <th></th>\n      <th>manufacturer_name</th>\n      <th>model_name</th>\n      <th>transmission</th>\n      <th>odometer_value</th>\n      <th>year_produced</th>\n      <th>engine_fuel</th>\n      <th>engine_has_gas</th>\n      <th>engine_type</th>\n      <th>engine_capacity</th>\n      <th>body_type</th>\n      <th>...</th>\n      <th>feature_1</th>\n      <th>feature_2</th>\n      <th>feature_3</th>\n      <th>feature_4</th>\n      <th>feature_5</th>\n      <th>feature_6</th>\n      <th>feature_7</th>\n      <th>feature_8</th>\n      <th>feature_9</th>\n      <th>duration_listed</th>\n    </tr>\n    <tr>\n      <th>color</th>\n      <th></th>\n      <th></th>\n      <th></th>\n      <th></th>\n      <th></th>\n      <th></th>\n      <th></th>\n      <th></th>\n      <th></th>\n      <th></th>\n      <th></th>\n      <th></th>\n      <th></th>\n      <th></th>\n      <th></th>\n      <th></th>\n      <th></th>\n      <th></th>\n      <th></th>\n      <th></th>\n      <th></th>\n    </tr>\n  </thead>\n  <tbody>\n    <tr>\n      <th>black</th>\n      <td>7705</td>\n      <td>7705</td>\n      <td>7705</td>\n      <td>7705</td>\n      <td>7705</td>\n      <td>7705</td>\n      <td>7705</td>\n      <td>7705</td>\n      <td>7703</td>\n      <td>7705</td>\n      <td>...</td>\n      <td>7705</td>\n      <td>7705</td>\n      <td>7705</td>\n      <td>7705</td>\n      <td>7705</td>\n      <td>7705</td>\n      <td>7705</td>\n      <td>7705</td>\n      <td>7705</td>\n      <td>7705</td>\n    </tr>\n    <tr>\n      <th>blue</th>\n      <td>5802</td>\n      <td>5802</td>\n      <td>5802</td>\n      <td>5802</td>\n      <td>5802</td>\n      <td>5802</td>\n      <td>5802</td>\n      <td>5802</td>\n      <td>5801</td>\n      <td>5802</td>\n      <td>...</td>\n      <td>5802</td>\n      <td>5802</td>\n      <td>5802</td>\n      <td>5802</td>\n      <td>5802</td>\n      <td>5802</td>\n      <td>5802</td>\n      <td>5802</td>\n      <td>5802</td>\n      <td>5802</td>\n    </tr>\n    <tr>\n      <th>brown</th>\n      <td>886</td>\n      <td>886</td>\n      <td>886</td>\n      <td>886</td>\n      <td>886</td>\n      <td>886</td>\n      <td>886</td>\n      <td>886</td>\n      <td>886</td>\n      <td>886</td>\n      <td>...</td>\n      <td>886</td>\n      <td>886</td>\n      <td>886</td>\n      <td>886</td>\n      <td>886</td>\n      <td>886</td>\n      <td>886</td>\n      <td>886</td>\n      <td>886</td>\n      <td>886</td>\n    </tr>\n    <tr>\n      <th>green</th>\n      <td>2760</td>\n      <td>2760</td>\n      <td>2760</td>\n      <td>2760</td>\n      <td>2760</td>\n      <td>2760</td>\n      <td>2760</td>\n      <td>2760</td>\n      <td>2760</td>\n      <td>2760</td>\n      <td>...</td>\n      <td>2760</td>\n      <td>2760</td>\n      <td>2760</td>\n      <td>2760</td>\n      <td>2760</td>\n      <td>2760</td>\n      <td>2760</td>\n      <td>2760</td>\n      <td>2760</td>\n      <td>2760</td>\n    </tr>\n    <tr>\n      <th>grey</th>\n      <td>3751</td>\n      <td>3751</td>\n      <td>3751</td>\n      <td>3751</td>\n      <td>3751</td>\n      <td>3751</td>\n      <td>3751</td>\n      <td>3751</td>\n      <td>3751</td>\n      <td>3751</td>\n      <td>...</td>\n      <td>3751</td>\n      <td>3751</td>\n      <td>3751</td>\n      <td>3751</td>\n      <td>3751</td>\n      <td>3751</td>\n      <td>3751</td>\n      <td>3751</td>\n      <td>3751</td>\n      <td>3751</td>\n    </tr>\n    <tr>\n      <th>orange</th>\n      <td>184</td>\n      <td>184</td>\n      <td>184</td>\n      <td>184</td>\n      <td>184</td>\n      <td>184</td>\n      <td>184</td>\n      <td>184</td>\n      <td>182</td>\n      <td>184</td>\n      <td>...</td>\n      <td>184</td>\n      <td>184</td>\n      <td>184</td>\n      <td>184</td>\n      <td>184</td>\n      <td>184</td>\n      <td>184</td>\n      <td>184</td>\n      <td>184</td>\n      <td>184</td>\n    </tr>\n    <tr>\n      <th>other</th>\n      <td>2688</td>\n      <td>2688</td>\n      <td>2688</td>\n      <td>2688</td>\n      <td>2688</td>\n      <td>2688</td>\n      <td>2688</td>\n      <td>2688</td>\n      <td>2687</td>\n      <td>2688</td>\n      <td>...</td>\n      <td>2688</td>\n      <td>2688</td>\n      <td>2688</td>\n      <td>2688</td>\n      <td>2688</td>\n      <td>2688</td>\n      <td>2688</td>\n      <td>2688</td>\n      <td>2688</td>\n      <td>2688</td>\n    </tr>\n    <tr>\n      <th>red</th>\n      <td>2925</td>\n      <td>2925</td>\n      <td>2925</td>\n      <td>2925</td>\n      <td>2925</td>\n      <td>2925</td>\n      <td>2925</td>\n      <td>2925</td>\n      <td>2925</td>\n      <td>2925</td>\n      <td>...</td>\n      <td>2925</td>\n      <td>2925</td>\n      <td>2925</td>\n      <td>2925</td>\n      <td>2925</td>\n      <td>2925</td>\n      <td>2925</td>\n      <td>2925</td>\n      <td>2925</td>\n      <td>2925</td>\n    </tr>\n    <tr>\n      <th>silver</th>\n      <td>6852</td>\n      <td>6852</td>\n      <td>6852</td>\n      <td>6852</td>\n      <td>6852</td>\n      <td>6852</td>\n      <td>6852</td>\n      <td>6852</td>\n      <td>6851</td>\n      <td>6852</td>\n      <td>...</td>\n      <td>6852</td>\n      <td>6852</td>\n      <td>6852</td>\n      <td>6852</td>\n      <td>6852</td>\n      <td>6852</td>\n      <td>6852</td>\n      <td>6852</td>\n      <td>6852</td>\n      <td>6852</td>\n    </tr>\n    <tr>\n      <th>violet</th>\n      <td>463</td>\n      <td>463</td>\n      <td>463</td>\n      <td>463</td>\n      <td>463</td>\n      <td>463</td>\n      <td>463</td>\n      <td>463</td>\n      <td>463</td>\n      <td>463</td>\n      <td>...</td>\n      <td>463</td>\n      <td>463</td>\n      <td>463</td>\n      <td>463</td>\n      <td>463</td>\n      <td>463</td>\n      <td>463</td>\n      <td>463</td>\n      <td>463</td>\n      <td>463</td>\n    </tr>\n    <tr>\n      <th>white</th>\n      <td>4212</td>\n      <td>4212</td>\n      <td>4212</td>\n      <td>4212</td>\n      <td>4212</td>\n      <td>4212</td>\n      <td>4212</td>\n      <td>4212</td>\n      <td>4209</td>\n      <td>4212</td>\n      <td>...</td>\n      <td>4212</td>\n      <td>4212</td>\n      <td>4212</td>\n      <td>4212</td>\n      <td>4212</td>\n      <td>4212</td>\n      <td>4212</td>\n      <td>4212</td>\n      <td>4212</td>\n      <td>4212</td>\n    </tr>\n    <tr>\n      <th>yellow</th>\n      <td>303</td>\n      <td>303</td>\n      <td>303</td>\n      <td>303</td>\n      <td>303</td>\n      <td>303</td>\n      <td>303</td>\n      <td>303</td>\n      <td>303</td>\n      <td>303</td>\n      <td>...</td>\n      <td>303</td>\n      <td>303</td>\n      <td>303</td>\n      <td>303</td>\n      <td>303</td>\n      <td>303</td>\n      <td>303</td>\n      <td>303</td>\n      <td>303</td>\n      <td>303</td>\n    </tr>\n  </tbody>\n</table>\n<p>12 rows × 29 columns</p>\n</div>"
     },
     "metadata": {}
    }
   ],
   "execution_count": 5
  },
  {
   "cell_type": "markdown",
   "source": "Vemos Todos los valores de la columna color, y su relacion con cada una de las demas columnas. Ahora veamos un poco de graficas.",
   "metadata": {
    "tags": [],
    "cell_id": "00011-0d8ecdbd-a046-43f5-8431-cc710c4b830f",
    "deepnote_cell_type": "markdown"
   }
  },
  {
   "cell_type": "code",
   "metadata": {
    "tags": [],
    "cell_id": "00008-943e2ae7-2945-4551-93a4-790aed628dd3",
    "deepnote_to_be_reexecuted": false,
    "source_hash": "5aeef59a",
    "execution_start": 1634487443195,
    "execution_millis": 487,
    "deepnote_cell_type": "code"
   },
   "source": "df['color'].hist(bins=40)",
   "outputs": [
    {
     "output_type": "execute_result",
     "execution_count": 6,
     "data": {
      "text/plain": "<AxesSubplot:>"
     },
     "metadata": {}
    },
    {
     "data": {
      "text/plain": "<Figure size 432x288 with 1 Axes>",
      "image/png": "[encoded data removed]"
     },
     "metadata": {
      "needs_background": "light",
      "image/png": {
       "width": 382,
       "height": 250
      }
     },
     "output_type": "display_data"
    }
   ],
   "execution_count": 6
  },
  {
   "cell_type": "markdown",
   "source": "Vemos que en el dataset predomina los autos de color Negros seguidos del color plateado, y el que menos cantidad tiene son los coleres naranja y amarillo. Ahora comparemos el color de los autos con el kilometraje, veremos cual es el auto con mayor uso y si el color tiene relacion con ello.",
   "metadata": {
    "tags": [],
    "cell_id": "00013-43927385-eae1-4153-8b92-9a7fac53e040",
    "deepnote_cell_type": "markdown"
   }
  },
  {
   "cell_type": "code",
   "metadata": {
    "tags": [],
    "cell_id": "00008-1ee730b4-e2dd-42c3-94c1-dad2de58f481",
    "deepnote_to_be_reexecuted": false,
    "source_hash": "190efc50",
    "execution_start": 1634487454124,
    "execution_millis": 6108,
    "deepnote_cell_type": "code"
   },
   "source": "# Q7_df = df[(df['manufacturer_name']=='Audi') & (df['model_name']=='Q7')]\n# sns.histplot(Q7_df, x ='price_usd', hue='year_produced')\nColor_df = df[(df['manufacturer_name'] == 'BMW') & (df['color'])]\nsns.histplot(df, x = 'price_usd', hue='color')",
   "outputs": [
    {
     "output_type": "execute_result",
     "execution_count": 11,
     "data": {
      "text/plain": "<AxesSubplot:xlabel='price_usd', ylabel='Count'>"
     },
     "metadata": {}
    },
    {
     "data": {
      "text/plain": "<Figure size 432x288 with 1 Axes>",
      "image/png": "[encoded data removed]"
     },
     "metadata": {
      "needs_background": "light",
      "image/png": {
       "width": 389,
       "height": 263
      }
     },
     "output_type": "display_data"
    }
   ],
   "execution_count": 11
  },
  {
   "cell_type": "code",
   "metadata": {
    "tags": [],
    "cell_id": "00010-e9219ccc-884d-4a86-8b38-84c491bb4732",
    "deepnote_to_be_reexecuted": false,
    "source_hash": "34251108",
    "execution_start": 1634487445877,
    "execution_millis": 65,
    "deepnote_cell_type": "code"
   },
   "source": "df['price_usd'].describe()",
   "outputs": [
    {
     "output_type": "execute_result",
     "execution_count": 8,
     "data": {
      "text/plain": "count    38531.000000\nmean      6639.971021\nstd       6428.152018\nmin          1.000000\n25%       2100.000000\n50%       4800.000000\n75%       8990.000000\nmax      50000.000000\nName: price_usd, dtype: float64"
     },
     "metadata": {}
    }
   ],
   "execution_count": 8
  },
  {
   "cell_type": "code",
   "metadata": {
    "tags": [],
    "cell_id": "00011-54d915e7-bae7-485c-87ae-03005df8c821",
    "deepnote_to_be_reexecuted": false,
    "source_hash": "781fb71d",
    "execution_start": 1634487445897,
    "execution_millis": 558,
    "deepnote_cell_type": "code"
   },
   "source": "sns.boxplot(x = 'price_usd', y = 'color', data = df)",
   "outputs": [
    {
     "output_type": "execute_result",
     "execution_count": 9,
     "data": {
      "text/plain": "<AxesSubplot:xlabel='price_usd', ylabel='color'>"
     },
     "metadata": {}
    },
    {
     "data": {
      "text/plain": "<Figure size 432x288 with 1 Axes>",
      "image/png": "[encoded data removed]"
     },
     "metadata": {
      "needs_background": "light",
      "image/png": {
       "width": 405,
       "height": 263
      }
     },
     "output_type": "display_data"
    }
   ],
   "execution_count": 9
  },
  {
   "cell_type": "code",
   "metadata": {
    "tags": [],
    "cell_id": "00017-b2488ea3-37e7-4aa9-8fe0-fcb1bb02ef9e",
    "deepnote_to_be_reexecuted": false,
    "source_hash": "e502d1bd",
    "execution_start": 1634487446466,
    "execution_millis": 663,
    "deepnote_cell_type": "code"
   },
   "source": "sns.boxplot(x = 'odometer_value', y = 'color', data = df)",
   "outputs": [
    {
     "output_type": "execute_result",
     "execution_count": 10,
     "data": {
      "text/plain": "<AxesSubplot:xlabel='odometer_value', ylabel='color'>"
     },
     "metadata": {}
    },
    {
     "data": {
      "text/plain": "<Figure size 432x288 with 1 Axes>",
      "image/png": "[encoded data removed]"
     },
     "metadata": {
      "needs_background": "light",
      "image/png": {
       "width": 405,
       "height": 263
      }
     },
     "output_type": "display_data"
    }
   ],
   "execution_count": 10
  },
  {
   "cell_type": "markdown",
   "source": "<a style='text-decoration:none;line-height:16px;display:flex;color:#5B5B62;padding:10px;justify-content:end;' href='https://deepnote.com?utm_source=created-in-deepnote-cell&projectId=6546a603-27c4-462c-b3e4-3d77f9bf61da' target=\"_blank\">\n<img alt='Created in deepnote.com' style='display:inline;max-height:16px;margin:0px;margin-right:7.5px;' src='data:image/svg+xml;base64,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' > </img>\nCreated in <span style='font-weight:600;margin-left:4px;'>Deepnote</span></a>",
   "metadata": {
    "tags": [],
    "created_in_deepnote_cell": true,
    "deepnote_cell_type": "markdown"
   }
  }
 ],
 "nbformat": 4,
 "nbformat_minor": 2,
 "metadata": {
  "orig_nbformat": 2,
  "deepnote": {
   "is_reactive": false
  },
  "deepnote_notebook_id": "ebaa2a0c-1215-445b-8ec7-555448b7b75a",
  "deepnote_execution_queue": []
 }
}